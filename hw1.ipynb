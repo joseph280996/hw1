{
 "cells": [
  {
   "cell_type": "markdown",
   "metadata": {},
   "source": [
    "# HW1: Transfer Learning\n",
    "\n",
    "Tufts CS 152 L3D, Fall 2024\n",
    "\n",
    "Official Instructions: <https://www.cs.tufts.edu/cs/152L3D/2024f/hw1.html>"
   ]
  },
  {
   "cell_type": "markdown",
   "metadata": {},
   "source": [
    "## Configuration\n",
    "\n",
    "This assignment might take a while.\n",
    "We recommend setting several variables here that prevent repeating long-running tasks."
   ]
  },
  {
   "cell_type": "code",
   "execution_count": 1,
   "metadata": {},
   "outputs": [],
   "source": [
    "device = 'cuda' # TODO change to GPU if you have one (e.g. on Colab)\n",
    "\n",
    "PROB1_res_file = 'prob1_results.pkl'\n",
    "PROB2_res_file = 'prob2_results.pkl'\n",
    "PROB1_EXPERIMENTS = True  # Flag will skip re-running experiments if set to False\n",
    "PROB1_PLOTS = True\n",
    "PROB2_EXPERIMENTS = True\n",
    "PROB2_PLOTS = True"
   ]
  },
  {
   "cell_type": "markdown",
   "metadata": {},
   "source": [
    "# Environment setup\n",
    "\n",
    "**Option 1: Colab**\n",
    "To use this notebook with Google Colab, you will need an account and Google Drive storage (free tier just fine)\n",
    "\n",
    "Please be sure you are *logged in* and have given requisite permission to access Drive to Google Colab.\n",
    "\n",
    "The lines below will:\n",
    "\n",
    "* Make folders called `CS152L3D_2024f/HW1/` in your google drive\n",
    "* Clone the HW1 starter code repository there\n",
    "* Note: Colab expects *this notebook* (or any notebook) will be in `Colab Notebooks/`.\n",
    "\n",
    "That will let us use the starter code in this notebook.\n",
    "\n",
    "**Option 2: Local**\n",
    "\n",
    "You can also try to use your local machine (but if you don't have a GPU, this may be slow and painful.\n",
    "If you choose this route, the lines below specific to Colab will just be skipped, and nothing will be done."
   ]
  },
  {
   "cell_type": "code",
   "execution_count": 2,
   "metadata": {},
   "outputs": [],
   "source": [
    "import sys\n",
    "import os"
   ]
  },
  {
   "cell_type": "code",
   "execution_count": 3,
   "metadata": {},
   "outputs": [],
   "source": [
    "try:\n",
    "    from google.colab import drive\n",
    "    drive.mount('/content/drive/')\n",
    "    COLAB = True\n",
    "except ImportError:\n",
    "    COLAB = False"
   ]
  },
  {
   "cell_type": "code",
   "execution_count": 4,
   "metadata": {
    "lines_to_next_cell": 2
   },
   "outputs": [],
   "source": [
    "if COLAB:\n",
    "    if not os.path.exists(os.path.join('/content/drive/MyDrive/', 'CS152L3D_2024f')):\n",
    "        !cd /content/drive/MyDrive/ && mkdir CS152L3D_2024f"
   ]
  },
  {
   "cell_type": "code",
   "execution_count": 5,
   "metadata": {},
   "outputs": [],
   "source": [
    "# Move notebook working directory into the folder\n",
    "if COLAB:\n",
    "    %cd /content/drive/MyDrive/CS152L3D_2024f/\n",
    "\n",
    "    # Clone the repo\n",
    "    if not os.path.exists('cs152l3d-24f-assignments/hw1/'):\n",
    "      !git clone https://github.com/tufts-ml-courses/cs152l3d-24f-assignments\n",
    "\n",
    "    # cd into repo\n",
    "    %cd cs152l3d-24f-assignments/hw1/"
   ]
  },
  {
   "cell_type": "markdown",
   "metadata": {},
   "source": [
    "Check for success. We should be able to see files like\n",
    "\n",
    "* model.py\n",
    "* data_utils.py"
   ]
  },
  {
   "cell_type": "code",
   "execution_count": 6,
   "metadata": {},
   "outputs": [
    {
     "name": "stdout",
     "output_type": "stream",
     "text": [
      "README.md\n",
      "__pycache__\n",
      "best_model.pth\n",
      "birdsnap10\n",
      "birdsnap10_224x224only.zip\n",
      "code_submission.zip\n",
      "data_utils.py\n",
      "documents\n",
      "fine_tuned_model.pth\n",
      "hw1.ipynb\n",
      "hw1_template.tex\n",
      "l3d_24f_cpu.yml\n",
      "l3d_24f_cuda.yml\n",
      "linear_probing_model.pth\n",
      "models.py\n",
      "prob1_results.pkl\n",
      "resnet10-1253-88a5961b.pth\n",
      "resnet10_cub-2777-4525b593.pth\n",
      "resnet26-0849-4bfbc640.pth\n",
      "resnet26_cub-2316-599ab467.pth\n",
      "train.py\n"
     ]
    }
   ],
   "source": [
    "!ls"
   ]
  },
  {
   "cell_type": "code",
   "execution_count": null,
   "metadata": {},
   "outputs": [],
   "source": []
  },
  {
   "cell_type": "code",
   "execution_count": 7,
   "metadata": {
    "lines_to_next_cell": 2
   },
   "outputs": [],
   "source": [
    "if COLAB:\n",
    "    try:\n",
    "        import torchinfo\n",
    "        import pytorchcv\n",
    "    except ImportError:\n",
    "        rstr = '''\n",
    "            torchinfo\n",
    "            pytorchcv\n",
    "            '''\n",
    "        with open('colab_requirements.txt', 'w') as f:\n",
    "            f.write(rstr)\n",
    "        !pip install -r colab_requirements.txt\n",
    "        import torchinfo\n",
    "        import pytorchcv"
   ]
  },
  {
   "cell_type": "code",
   "execution_count": 8,
   "metadata": {
    "lines_to_next_cell": 2
   },
   "outputs": [
    {
     "name": "stdout",
     "output_type": "stream",
     "text": [
      "c:\\Users\\josep\\Code\\School\\L3D\\Assignments\\hw1\\birdsnap10\n"
     ]
    }
   ],
   "source": [
    "DATA_DIR = os.environ.get('DATA_DIR', os.path.abspath('./birdsnap10'))\n",
    "print(DATA_DIR)"
   ]
  },
  {
   "cell_type": "code",
   "execution_count": 9,
   "metadata": {},
   "outputs": [],
   "source": [
    "if not os.path.exists(DATA_DIR):\n",
    "    !unzip birdsnap10_224x224only.zip"
   ]
  },
  {
   "cell_type": "code",
   "execution_count": 10,
   "metadata": {},
   "outputs": [
    {
     "name": "stdout",
     "output_type": "stream",
     "text": [
      "American_Black_Duck\n",
      "Golden_Eagle\n",
      "Great_Horned_Owl\n",
      "Harlequin_Duck\n",
      "Osprey\n",
      "Peregrine_Falcon\n",
      "Prairie_Falcon\n",
      "Short_eared_Owl\n",
      "White_Ibis\n",
      "White_faced_Ibis\n"
     ]
    }
   ],
   "source": [
    "# Show contents of train set\n",
    "!ls $DATA_DIR/train/"
   ]
  },
  {
   "cell_type": "markdown",
   "metadata": {},
   "source": [
    "# Import Libraries"
   ]
  },
  {
   "cell_type": "code",
   "execution_count": 11,
   "metadata": {},
   "outputs": [],
   "source": [
    "# Import third-party library modules\n",
    "import json\n",
    "import pickle\n",
    "import itertools\n",
    "import tqdm\n",
    "import itertools"
   ]
  },
  {
   "cell_type": "code",
   "execution_count": 12,
   "metadata": {},
   "outputs": [],
   "source": [
    "import numpy as np\n",
    "import pandas as pd"
   ]
  },
  {
   "cell_type": "code",
   "execution_count": 13,
   "metadata": {},
   "outputs": [],
   "source": [
    "import torchinfo\n",
    "import pytorchcv\n",
    "import torch\n",
    "import torchvision"
   ]
  },
  {
   "cell_type": "code",
   "execution_count": 14,
   "metadata": {},
   "outputs": [],
   "source": [
    "%matplotlib inline\n",
    "import matplotlib.pyplot as plt\n",
    "import seaborn as sns\n",
    "\n",
    "plt.style.use('seaborn-v0_8') # pretty matplotlib plots\n",
    "sns.set('notebook', style='whitegrid', font_scale=1.25)"
   ]
  },
  {
   "cell_type": "markdown",
   "metadata": {},
   "source": [
    "# Import starter code modules from local files\n",
    "\n",
    "Use **autoreload** so that any changes to these local files will be automatically reloaded into this nb"
   ]
  },
  {
   "cell_type": "code",
   "execution_count": 15,
   "metadata": {},
   "outputs": [],
   "source": [
    "%load_ext autoreload\n",
    "%autoreload 2"
   ]
  },
  {
   "cell_type": "code",
   "execution_count": 16,
   "metadata": {},
   "outputs": [],
   "source": [
    "# Import utils from provided local starter code files\n",
    "import data_utils\n",
    "import models\n",
    "import train"
   ]
  },
  {
   "cell_type": "code",
   "execution_count": 17,
   "metadata": {},
   "outputs": [],
   "source": [
    "# Re-run this cell if you've made changes to your local file, but they aren't reflected in current nb kernel state\n",
    "import importlib\n",
    "importlib.reload(models);\n",
    "importlib.reload(train);"
   ]
  },
  {
   "cell_type": "markdown",
   "metadata": {},
   "source": [
    "# Show basic ResNet10 architecture\n",
    "\n",
    "Load ResNet10. All layers trainable by default."
   ]
  },
  {
   "cell_type": "code",
   "execution_count": 18,
   "metadata": {},
   "outputs": [
    {
     "name": "stdout",
     "output_type": "stream",
     "text": [
      "Setup complete. Trainable parameter count=5130 over 2 tensors in layers: output.\n"
     ]
    }
   ],
   "source": [
    "resnet10_in = models.PretrainedResNetForBirdSnap10(\n",
    "    src_dataset='ImageNet1k', arch='ResNet10', n_trainable_layers=1)"
   ]
  },
  {
   "cell_type": "markdown",
   "metadata": {},
   "source": [
    "Pretty-print layer-by-layer info"
   ]
  },
  {
   "cell_type": "code",
   "execution_count": 19,
   "metadata": {},
   "outputs": [
    {
     "data": {
      "text/plain": [
       "=====================================================================================================\n",
       "Layer (type (var_name))                                           Output Shape       Param #\n",
       "=====================================================================================================\n",
       "PretrainedResNetForBirdSnap10 (PretrainedResNetForBirdSnap10)     [1, 10]            --\n",
       "├─ResNet (model)                                                  [1, 10]            --\n",
       "│    └─Sequential (features)                                      [1, 512, 1, 1]     --\n",
       "│    │    └─ResInitBlock (init_block)                             [1, 64, 56, 56]    (9,536)\n",
       "│    │    └─Sequential (stage1)                                   [1, 64, 56, 56]    (73,984)\n",
       "│    │    └─Sequential (stage2)                                   [1, 128, 28, 28]   (230,144)\n",
       "│    │    └─Sequential (stage3)                                   [1, 256, 14, 14]   (919,040)\n",
       "│    │    └─Sequential (stage4)                                   [1, 512, 7, 7]     (3,673,088)\n",
       "│    │    └─AvgPool2d (final_pool)                                [1, 512, 1, 1]     --\n",
       "│    └─Linear (output)                                            [1, 10]            5,130\n",
       "=====================================================================================================\n",
       "Total params: 4,910,922\n",
       "Trainable params: 5,130\n",
       "Non-trainable params: 4,905,792\n",
       "Total mult-adds (M): 888.73\n",
       "=====================================================================================================\n",
       "Input size (MB): 0.60\n",
       "Forward/backward pass size (MB): 27.70\n",
       "Params size (MB): 19.64\n",
       "Estimated Total Size (MB): 47.94\n",
       "====================================================================================================="
      ]
     },
     "execution_count": 19,
     "metadata": {},
     "output_type": "execute_result"
    }
   ],
   "source": [
    "torchinfo.summary(resnet10_in, (1, 3, 224, 224),\n",
    "                  row_settings=['var_names'],\n",
    "                  col_names=[\"output_size\", \"num_params\"],\n",
    "                  col_width=18)"
   ]
  },
  {
   "cell_type": "markdown",
   "metadata": {},
   "source": [
    "# Load dataset"
   ]
  },
  {
   "cell_type": "code",
   "execution_count": 20,
   "metadata": {},
   "outputs": [
    {
     "data": {
      "text/plain": [
       "Dataset BirdsnapDataset\n",
       "    Number of datapoints: 640\n",
       "    Root location: c:\\Users\\josep\\Code\\School\\L3D\\Assignments\\hw1\\birdsnap10"
      ]
     },
     "execution_count": 20,
     "metadata": {},
     "output_type": "execute_result"
    }
   ],
   "source": [
    "# Verify data has been extracted correctly and is accessible to load in PyTorch\n",
    "data_utils.BirdsnapDataset(DATA_DIR)"
   ]
  },
  {
   "cell_type": "code",
   "execution_count": 21,
   "metadata": {},
   "outputs": [
    {
     "name": "stdout",
     "output_type": "stream",
     "text": [
      "splitname  0  1  2  3  4  5  6  7  8  9\n",
      "    train 40 40 40 40 40 40 40 40 40 40\n",
      "    valid 10 10 10 10 10 10 10 10 10 10\n",
      "     test 14 14 14 14 14 14 14 14 14 14\n"
     ]
    }
   ],
   "source": [
    "train_loader, val_loader, test_loader = data_utils.make_birdsnap_data_loaders(DATA_DIR)"
   ]
  },
  {
   "cell_type": "markdown",
   "metadata": {},
   "source": [
    "# Problem 1 Implementation Tasks\n",
    "\n",
    "In separate windows, you'll need to edit:\n",
    "\n",
    "* models.py, see task (i) here: <https://www.cs.tufts.edu/cs/152L3D/2024f/hw1.html#problem1>\n",
    "* train.py, see tasks (ii, iii, iv) here: <https://www.cs.tufts.edu/cs/152L3D/2024f/hw1.html#problem1>\n",
    "\n",
    "Any edits to these files should *automatically* be reflected here in your active nb session, since we used **autoreload** above"
   ]
  },
  {
   "cell_type": "markdown",
   "metadata": {},
   "source": [
    "Finally, as task (v), complete the implementation of `eval_acc` here to evaluate accuracy on test data"
   ]
  },
  {
   "cell_type": "code",
   "execution_count": 22,
   "metadata": {},
   "outputs": [],
   "source": [
    "def eval_acc(model, device, test_loader):\n",
    "    model.to(device)\n",
    "    model.eval()\n",
    "    correct = 0\n",
    "\n",
    "    with torch.no_grad():\n",
    "        for x, y in test_loader:\n",
    "            x, y = x.to(device), y.to(device)  # Move inputs and labels to the device\n",
    "            logits = model(x)  # Forward pass to get predictions\n",
    "            preds = torch.argmax(logits, dim=1)  # Get the predicted class\n",
    "            correct += (preds == y).sum().item()  # Count the correct predictions\n",
    "            # Count number of correct predictions across all batches of provided loader\n",
    "    return correct / len(test_loader.dataset)"
   ]
  },
  {
   "cell_type": "markdown",
   "metadata": {},
   "source": [
    "# Problem 1 Experiments\n",
    "\n",
    "We'll now try to fit models for 2 archs (RN10, RN26) and 2 srcdatasets (ImageNet, CUB)\n",
    "\n",
    "For each one, we'll\n",
    "\n",
    "* keep n_trainable_layers = 1 (\"last layer only\" or \"linear probing\")\n",
    "* Try to find reasonable settings of learning rate (lr), l2 penalty strength (l2pen_mag), and random seed (controls initialization and data order)"
   ]
  },
  {
   "cell_type": "markdown",
   "metadata": {},
   "source": [
    "**TODO: Last-layer training of ResNet10 from ImageNet1k.**\n",
    "\n",
    "Need to find good hyperparameters (seed, lr, l2penalty magnitude, n_epochs)\n",
    "\n",
    "Don't peek at test, just use validation to tune."
   ]
  },
  {
   "cell_type": "code",
   "execution_count": 23,
   "metadata": {},
   "outputs": [
    {
     "name": "stdout",
     "output_type": "stream",
     "text": [
      "Training with lr=0.0001, l2pen_mag=0.0001, seed=42, epoch=30\n",
      "Setup complete. Trainable parameter count=5130 over 2 tensors in layers: output.\n"
     ]
    },
    {
     "name": "stderr",
     "output_type": "stream",
     "text": [
      "100%|██████████| 31/31 [00:27<00:00,  1.14it/s, tr_xent=1.36, tr_err=0.285, va_xent=1.52, va_err=0.38, batch_done=7]\n",
      "c:\\Users\\josep\\miniconda3\\envs\\cs152_env\\lib\\site-packages\\torch\\_utils.py:776: UserWarning: TypedStorage is deprecated. It will be removed in the future and UntypedStorage will be the only storage class. This should only matter to you if you are using storages directly.  To access UntypedStorage directly, use tensor.untyped_storage() instead of tensor.storage()\n",
      "  return self.fget.__get__(instance, owner)()\n"
     ]
    },
    {
     "name": "stdout",
     "output_type": "stream",
     "text": [
      "Finished after epoch 30, best epoch=30\n",
      "best va_xent 1.522\n",
      "best tr_err 0.285\n",
      "best va_err 0.380\n",
      "Training with lr=0.0001, l2pen_mag=0.0001, seed=42, epoch=50\n",
      "Setup complete. Trainable parameter count=5130 over 2 tensors in layers: output.\n"
     ]
    },
    {
     "name": "stderr",
     "output_type": "stream",
     "text": [
      "100%|██████████| 51/51 [00:43<00:00,  1.16it/s, tr_xent=0.954, tr_err=0.152, va_xent=1.19, va_err=0.31, batch_done=7]\n"
     ]
    },
    {
     "name": "stdout",
     "output_type": "stream",
     "text": [
      "Finished after epoch 50, best epoch=50\n",
      "best va_xent 1.194\n",
      "best tr_err 0.152\n",
      "best va_err 0.310\n",
      "Training with lr=0.0001, l2pen_mag=0.0001, seed=42, epoch=100\n",
      "Setup complete. Trainable parameter count=5130 over 2 tensors in layers: output.\n"
     ]
    },
    {
     "name": "stderr",
     "output_type": "stream",
     "text": [
      "100%|██████████| 101/101 [01:29<00:00,  1.13it/s, tr_xent=0.553, tr_err=0.0575, va_xent=0.835, va_err=0.19, batch_done=7]\n"
     ]
    },
    {
     "name": "stdout",
     "output_type": "stream",
     "text": [
      "Finished after epoch 100, best epoch=100\n",
      "best va_xent 0.835\n",
      "best tr_err 0.058\n",
      "best va_err 0.190\n",
      "Training with lr=0.0001, l2pen_mag=0.0001, seed=100, epoch=30\n",
      "Setup complete. Trainable parameter count=5130 over 2 tensors in layers: output.\n"
     ]
    },
    {
     "name": "stderr",
     "output_type": "stream",
     "text": [
      "100%|██████████| 31/31 [00:27<00:00,  1.15it/s, tr_xent=1.21, tr_err=0.242, va_xent=1.4, va_err=0.39, batch_done=7] \n"
     ]
    },
    {
     "name": "stdout",
     "output_type": "stream",
     "text": [
      "Finished after epoch 30, best epoch=30\n",
      "best va_xent 1.395\n",
      "best tr_err 0.242\n",
      "best va_err 0.390\n",
      "Training with lr=0.0001, l2pen_mag=0.0001, seed=100, epoch=50\n",
      "Setup complete. Trainable parameter count=5130 over 2 tensors in layers: output.\n"
     ]
    },
    {
     "name": "stderr",
     "output_type": "stream",
     "text": [
      "100%|██████████| 51/51 [00:45<00:00,  1.13it/s, tr_xent=0.9, tr_err=0.155, va_xent=1.11, va_err=0.29, batch_done=7]  \n"
     ]
    },
    {
     "name": "stdout",
     "output_type": "stream",
     "text": [
      "Finished after epoch 50, best epoch=50\n",
      "best va_xent 1.114\n",
      "best tr_err 0.155\n",
      "best va_err 0.290\n",
      "Training with lr=0.0001, l2pen_mag=0.0001, seed=100, epoch=100\n",
      "Setup complete. Trainable parameter count=5130 over 2 tensors in layers: output.\n"
     ]
    },
    {
     "name": "stderr",
     "output_type": "stream",
     "text": [
      "100%|██████████| 101/101 [01:29<00:00,  1.13it/s, tr_xent=0.534, tr_err=0.0725, va_xent=0.778, va_err=0.18, batch_done=7]\n"
     ]
    },
    {
     "name": "stdout",
     "output_type": "stream",
     "text": [
      "Finished after epoch 100, best epoch=100\n",
      "best va_xent 0.778\n",
      "best tr_err 0.072\n",
      "best va_err 0.180\n",
      "Training with lr=0.0001, l2pen_mag=0.0001, seed=123, epoch=30\n",
      "Setup complete. Trainable parameter count=5130 over 2 tensors in layers: output.\n"
     ]
    },
    {
     "name": "stderr",
     "output_type": "stream",
     "text": [
      "100%|██████████| 31/31 [00:27<00:00,  1.14it/s, tr_xent=1.24, tr_err=0.27, va_xent=1.42, va_err=0.4, batch_done=7]  \n"
     ]
    },
    {
     "name": "stdout",
     "output_type": "stream",
     "text": [
      "Finished after epoch 30, best epoch=30\n",
      "best va_xent 1.419\n",
      "best tr_err 0.270\n",
      "best va_err 0.400\n",
      "Training with lr=0.0001, l2pen_mag=0.0001, seed=123, epoch=50\n",
      "Setup complete. Trainable parameter count=5130 over 2 tensors in layers: output.\n"
     ]
    },
    {
     "name": "stderr",
     "output_type": "stream",
     "text": [
      "100%|██████████| 51/51 [00:45<00:00,  1.13it/s, tr_xent=0.926, tr_err=0.172, va_xent=1.12, va_err=0.3, batch_done=7]\n"
     ]
    },
    {
     "name": "stdout",
     "output_type": "stream",
     "text": [
      "Finished after epoch 50, best epoch=50\n",
      "best va_xent 1.121\n",
      "best tr_err 0.172\n",
      "best va_err 0.300\n",
      "Training with lr=0.0001, l2pen_mag=0.0001, seed=123, epoch=100\n",
      "Setup complete. Trainable parameter count=5130 over 2 tensors in layers: output.\n"
     ]
    },
    {
     "name": "stderr",
     "output_type": "stream",
     "text": [
      "100%|██████████| 101/101 [01:30<00:00,  1.11it/s, tr_xent=0.51, tr_err=0.0675, va_xent=0.776, va_err=0.17, batch_done=7]\n"
     ]
    },
    {
     "name": "stdout",
     "output_type": "stream",
     "text": [
      "Finished after epoch 100, best epoch=100\n",
      "best va_xent 0.776\n",
      "best tr_err 0.068\n",
      "best va_err 0.170\n",
      "Training with lr=0.0001, l2pen_mag=0.001, seed=42, epoch=30\n",
      "Setup complete. Trainable parameter count=5130 over 2 tensors in layers: output.\n"
     ]
    },
    {
     "name": "stderr",
     "output_type": "stream",
     "text": [
      "100%|██████████| 31/31 [00:26<00:00,  1.15it/s, tr_xent=1.36, tr_err=0.285, va_xent=1.52, va_err=0.38, batch_done=7]\n"
     ]
    },
    {
     "name": "stdout",
     "output_type": "stream",
     "text": [
      "Finished after epoch 30, best epoch=30\n",
      "best va_xent 1.522\n",
      "best tr_err 0.285\n",
      "best va_err 0.380\n",
      "Training with lr=0.0001, l2pen_mag=0.001, seed=42, epoch=50\n",
      "Setup complete. Trainable parameter count=5130 over 2 tensors in layers: output.\n"
     ]
    },
    {
     "name": "stderr",
     "output_type": "stream",
     "text": [
      "100%|██████████| 51/51 [00:44<00:00,  1.14it/s, tr_xent=0.954, tr_err=0.152, va_xent=1.19, va_err=0.31, batch_done=7]\n"
     ]
    },
    {
     "name": "stdout",
     "output_type": "stream",
     "text": [
      "Finished after epoch 50, best epoch=50\n",
      "best va_xent 1.194\n",
      "best tr_err 0.152\n",
      "best va_err 0.310\n",
      "Training with lr=0.0001, l2pen_mag=0.001, seed=42, epoch=100\n",
      "Setup complete. Trainable parameter count=5130 over 2 tensors in layers: output.\n"
     ]
    },
    {
     "name": "stderr",
     "output_type": "stream",
     "text": [
      "100%|██████████| 101/101 [01:30<00:00,  1.12it/s, tr_xent=0.553, tr_err=0.0575, va_xent=0.835, va_err=0.19, batch_done=7]\n"
     ]
    },
    {
     "name": "stdout",
     "output_type": "stream",
     "text": [
      "Finished after epoch 100, best epoch=100\n",
      "best va_xent 0.835\n",
      "best tr_err 0.058\n",
      "best va_err 0.190\n",
      "Training with lr=0.0001, l2pen_mag=0.001, seed=100, epoch=30\n",
      "Setup complete. Trainable parameter count=5130 over 2 tensors in layers: output.\n"
     ]
    },
    {
     "name": "stderr",
     "output_type": "stream",
     "text": [
      "100%|██████████| 31/31 [00:27<00:00,  1.13it/s, tr_xent=1.21, tr_err=0.242, va_xent=1.4, va_err=0.39, batch_done=7] \n"
     ]
    },
    {
     "name": "stdout",
     "output_type": "stream",
     "text": [
      "Finished after epoch 30, best epoch=30\n",
      "best va_xent 1.395\n",
      "best tr_err 0.242\n",
      "best va_err 0.390\n",
      "Training with lr=0.0001, l2pen_mag=0.001, seed=100, epoch=50\n",
      "Setup complete. Trainable parameter count=5130 over 2 tensors in layers: output.\n"
     ]
    },
    {
     "name": "stderr",
     "output_type": "stream",
     "text": [
      "100%|██████████| 51/51 [00:45<00:00,  1.12it/s, tr_xent=0.9, tr_err=0.155, va_xent=1.11, va_err=0.29, batch_done=7]  \n"
     ]
    },
    {
     "name": "stdout",
     "output_type": "stream",
     "text": [
      "Finished after epoch 50, best epoch=50\n",
      "best va_xent 1.114\n",
      "best tr_err 0.155\n",
      "best va_err 0.290\n",
      "Training with lr=0.0001, l2pen_mag=0.001, seed=100, epoch=100\n",
      "Setup complete. Trainable parameter count=5130 over 2 tensors in layers: output.\n"
     ]
    },
    {
     "name": "stderr",
     "output_type": "stream",
     "text": [
      "100%|██████████| 101/101 [01:30<00:00,  1.12it/s, tr_xent=0.534, tr_err=0.0725, va_xent=0.778, va_err=0.18, batch_done=7]\n"
     ]
    },
    {
     "name": "stdout",
     "output_type": "stream",
     "text": [
      "Finished after epoch 100, best epoch=100\n",
      "best va_xent 0.778\n",
      "best tr_err 0.072\n",
      "best va_err 0.180\n",
      "Training with lr=0.0001, l2pen_mag=0.001, seed=123, epoch=30\n",
      "Setup complete. Trainable parameter count=5130 over 2 tensors in layers: output.\n"
     ]
    },
    {
     "name": "stderr",
     "output_type": "stream",
     "text": [
      "100%|██████████| 31/31 [00:27<00:00,  1.14it/s, tr_xent=1.24, tr_err=0.27, va_xent=1.42, va_err=0.4, batch_done=7]  \n"
     ]
    },
    {
     "name": "stdout",
     "output_type": "stream",
     "text": [
      "Finished after epoch 30, best epoch=30\n",
      "best va_xent 1.419\n",
      "best tr_err 0.270\n",
      "best va_err 0.400\n",
      "Training with lr=0.0001, l2pen_mag=0.001, seed=123, epoch=50\n",
      "Setup complete. Trainable parameter count=5130 over 2 tensors in layers: output.\n"
     ]
    },
    {
     "name": "stderr",
     "output_type": "stream",
     "text": [
      "100%|██████████| 51/51 [00:45<00:00,  1.12it/s, tr_xent=0.926, tr_err=0.172, va_xent=1.12, va_err=0.3, batch_done=7]\n"
     ]
    },
    {
     "name": "stdout",
     "output_type": "stream",
     "text": [
      "Finished after epoch 50, best epoch=50\n",
      "best va_xent 1.121\n",
      "best tr_err 0.172\n",
      "best va_err 0.300\n",
      "Training with lr=0.0001, l2pen_mag=0.001, seed=123, epoch=100\n",
      "Setup complete. Trainable parameter count=5130 over 2 tensors in layers: output.\n"
     ]
    },
    {
     "name": "stderr",
     "output_type": "stream",
     "text": [
      "100%|██████████| 101/101 [01:30<00:00,  1.12it/s, tr_xent=0.51, tr_err=0.0675, va_xent=0.776, va_err=0.17, batch_done=7]\n"
     ]
    },
    {
     "name": "stdout",
     "output_type": "stream",
     "text": [
      "Finished after epoch 100, best epoch=100\n",
      "best va_xent 0.776\n",
      "best tr_err 0.068\n",
      "best va_err 0.170\n",
      "Training with lr=0.0001, l2pen_mag=0.01, seed=42, epoch=30\n",
      "Setup complete. Trainable parameter count=5130 over 2 tensors in layers: output.\n"
     ]
    },
    {
     "name": "stderr",
     "output_type": "stream",
     "text": [
      "100%|██████████| 31/31 [00:27<00:00,  1.14it/s, tr_xent=1.36, tr_err=0.285, va_xent=1.52, va_err=0.38, batch_done=7]\n"
     ]
    },
    {
     "name": "stdout",
     "output_type": "stream",
     "text": [
      "Finished after epoch 30, best epoch=30\n",
      "best va_xent 1.522\n",
      "best tr_err 0.285\n",
      "best va_err 0.380\n",
      "Training with lr=0.0001, l2pen_mag=0.01, seed=42, epoch=50\n",
      "Setup complete. Trainable parameter count=5130 over 2 tensors in layers: output.\n"
     ]
    },
    {
     "name": "stderr",
     "output_type": "stream",
     "text": [
      "100%|██████████| 51/51 [00:45<00:00,  1.13it/s, tr_xent=0.954, tr_err=0.152, va_xent=1.19, va_err=0.31, batch_done=7]\n"
     ]
    },
    {
     "name": "stdout",
     "output_type": "stream",
     "text": [
      "Finished after epoch 50, best epoch=50\n",
      "best va_xent 1.194\n",
      "best tr_err 0.152\n",
      "best va_err 0.310\n",
      "Training with lr=0.0001, l2pen_mag=0.01, seed=42, epoch=100\n",
      "Setup complete. Trainable parameter count=5130 over 2 tensors in layers: output.\n"
     ]
    },
    {
     "name": "stderr",
     "output_type": "stream",
     "text": [
      "100%|██████████| 101/101 [01:30<00:00,  1.12it/s, tr_xent=0.553, tr_err=0.0575, va_xent=0.835, va_err=0.19, batch_done=7]\n"
     ]
    },
    {
     "name": "stdout",
     "output_type": "stream",
     "text": [
      "Finished after epoch 100, best epoch=100\n",
      "best va_xent 0.835\n",
      "best tr_err 0.058\n",
      "best va_err 0.190\n",
      "Training with lr=0.0001, l2pen_mag=0.01, seed=100, epoch=30\n",
      "Setup complete. Trainable parameter count=5130 over 2 tensors in layers: output.\n"
     ]
    },
    {
     "name": "stderr",
     "output_type": "stream",
     "text": [
      "100%|██████████| 31/31 [00:27<00:00,  1.14it/s, tr_xent=1.21, tr_err=0.242, va_xent=1.4, va_err=0.39, batch_done=7] \n"
     ]
    },
    {
     "name": "stdout",
     "output_type": "stream",
     "text": [
      "Finished after epoch 30, best epoch=30\n",
      "best va_xent 1.395\n",
      "best tr_err 0.242\n",
      "best va_err 0.390\n",
      "Training with lr=0.0001, l2pen_mag=0.01, seed=100, epoch=50\n",
      "Setup complete. Trainable parameter count=5130 over 2 tensors in layers: output.\n"
     ]
    },
    {
     "name": "stderr",
     "output_type": "stream",
     "text": [
      "100%|██████████| 51/51 [00:45<00:00,  1.12it/s, tr_xent=0.9, tr_err=0.155, va_xent=1.11, va_err=0.29, batch_done=7]  \n"
     ]
    },
    {
     "name": "stdout",
     "output_type": "stream",
     "text": [
      "Finished after epoch 50, best epoch=50\n",
      "best va_xent 1.114\n",
      "best tr_err 0.155\n",
      "best va_err 0.290\n",
      "Training with lr=0.0001, l2pen_mag=0.01, seed=100, epoch=100\n",
      "Setup complete. Trainable parameter count=5130 over 2 tensors in layers: output.\n"
     ]
    },
    {
     "name": "stderr",
     "output_type": "stream",
     "text": [
      "100%|██████████| 101/101 [01:30<00:00,  1.12it/s, tr_xent=0.534, tr_err=0.0725, va_xent=0.778, va_err=0.18, batch_done=7]\n"
     ]
    },
    {
     "name": "stdout",
     "output_type": "stream",
     "text": [
      "Finished after epoch 100, best epoch=100\n",
      "best va_xent 0.778\n",
      "best tr_err 0.072\n",
      "best va_err 0.180\n",
      "Training with lr=0.0001, l2pen_mag=0.01, seed=123, epoch=30\n",
      "Setup complete. Trainable parameter count=5130 over 2 tensors in layers: output.\n"
     ]
    },
    {
     "name": "stderr",
     "output_type": "stream",
     "text": [
      "100%|██████████| 31/31 [00:27<00:00,  1.14it/s, tr_xent=1.24, tr_err=0.27, va_xent=1.42, va_err=0.4, batch_done=7]  \n"
     ]
    },
    {
     "name": "stdout",
     "output_type": "stream",
     "text": [
      "Finished after epoch 30, best epoch=30\n",
      "best va_xent 1.419\n",
      "best tr_err 0.270\n",
      "best va_err 0.400\n",
      "Training with lr=0.0001, l2pen_mag=0.01, seed=123, epoch=50\n",
      "Setup complete. Trainable parameter count=5130 over 2 tensors in layers: output.\n"
     ]
    },
    {
     "name": "stderr",
     "output_type": "stream",
     "text": [
      "100%|██████████| 51/51 [00:45<00:00,  1.13it/s, tr_xent=0.926, tr_err=0.172, va_xent=1.12, va_err=0.3, batch_done=7]\n"
     ]
    },
    {
     "name": "stdout",
     "output_type": "stream",
     "text": [
      "Finished after epoch 50, best epoch=50\n",
      "best va_xent 1.121\n",
      "best tr_err 0.172\n",
      "best va_err 0.300\n",
      "Training with lr=0.0001, l2pen_mag=0.01, seed=123, epoch=100\n",
      "Setup complete. Trainable parameter count=5130 over 2 tensors in layers: output.\n"
     ]
    },
    {
     "name": "stderr",
     "output_type": "stream",
     "text": [
      "100%|██████████| 101/101 [01:30<00:00,  1.12it/s, tr_xent=0.51, tr_err=0.0675, va_xent=0.776, va_err=0.17, batch_done=7]\n"
     ]
    },
    {
     "name": "stdout",
     "output_type": "stream",
     "text": [
      "Finished after epoch 100, best epoch=100\n",
      "best va_xent 0.776\n",
      "best tr_err 0.068\n",
      "best va_err 0.170\n",
      "Training with lr=0.0001, l2pen_mag=0.1, seed=42, epoch=30\n",
      "Setup complete. Trainable parameter count=5130 over 2 tensors in layers: output.\n"
     ]
    },
    {
     "name": "stderr",
     "output_type": "stream",
     "text": [
      "100%|██████████| 31/31 [00:27<00:00,  1.13it/s, tr_xent=1.36, tr_err=0.285, va_xent=1.52, va_err=0.38, batch_done=7]\n"
     ]
    },
    {
     "name": "stdout",
     "output_type": "stream",
     "text": [
      "Finished after epoch 30, best epoch=30\n",
      "best va_xent 1.522\n",
      "best tr_err 0.285\n",
      "best va_err 0.380\n",
      "Training with lr=0.0001, l2pen_mag=0.1, seed=42, epoch=50\n",
      "Setup complete. Trainable parameter count=5130 over 2 tensors in layers: output.\n"
     ]
    },
    {
     "name": "stderr",
     "output_type": "stream",
     "text": [
      "100%|██████████| 51/51 [00:45<00:00,  1.13it/s, tr_xent=0.954, tr_err=0.152, va_xent=1.19, va_err=0.31, batch_done=7]\n"
     ]
    },
    {
     "name": "stdout",
     "output_type": "stream",
     "text": [
      "Finished after epoch 50, best epoch=50\n",
      "best va_xent 1.194\n",
      "best tr_err 0.152\n",
      "best va_err 0.310\n",
      "Training with lr=0.0001, l2pen_mag=0.1, seed=42, epoch=100\n",
      "Setup complete. Trainable parameter count=5130 over 2 tensors in layers: output.\n"
     ]
    },
    {
     "name": "stderr",
     "output_type": "stream",
     "text": [
      "100%|██████████| 101/101 [01:30<00:00,  1.12it/s, tr_xent=0.553, tr_err=0.0575, va_xent=0.835, va_err=0.19, batch_done=7]\n"
     ]
    },
    {
     "name": "stdout",
     "output_type": "stream",
     "text": [
      "Finished after epoch 100, best epoch=100\n",
      "best va_xent 0.835\n",
      "best tr_err 0.058\n",
      "best va_err 0.190\n",
      "Training with lr=0.0001, l2pen_mag=0.1, seed=100, epoch=30\n",
      "Setup complete. Trainable parameter count=5130 over 2 tensors in layers: output.\n"
     ]
    },
    {
     "name": "stderr",
     "output_type": "stream",
     "text": [
      "100%|██████████| 31/31 [00:27<00:00,  1.14it/s, tr_xent=1.21, tr_err=0.242, va_xent=1.4, va_err=0.39, batch_done=7] \n"
     ]
    },
    {
     "name": "stdout",
     "output_type": "stream",
     "text": [
      "Finished after epoch 30, best epoch=30\n",
      "best va_xent 1.395\n",
      "best tr_err 0.242\n",
      "best va_err 0.390\n",
      "Training with lr=0.0001, l2pen_mag=0.1, seed=100, epoch=50\n",
      "Setup complete. Trainable parameter count=5130 over 2 tensors in layers: output.\n"
     ]
    },
    {
     "name": "stderr",
     "output_type": "stream",
     "text": [
      "100%|██████████| 51/51 [00:45<00:00,  1.13it/s, tr_xent=0.9, tr_err=0.155, va_xent=1.11, va_err=0.29, batch_done=7]  \n"
     ]
    },
    {
     "name": "stdout",
     "output_type": "stream",
     "text": [
      "Finished after epoch 50, best epoch=50\n",
      "best va_xent 1.114\n",
      "best tr_err 0.155\n",
      "best va_err 0.290\n",
      "Training with lr=0.0001, l2pen_mag=0.1, seed=100, epoch=100\n",
      "Setup complete. Trainable parameter count=5130 over 2 tensors in layers: output.\n"
     ]
    },
    {
     "name": "stderr",
     "output_type": "stream",
     "text": [
      "100%|██████████| 101/101 [01:30<00:00,  1.12it/s, tr_xent=0.534, tr_err=0.0725, va_xent=0.778, va_err=0.18, batch_done=7]\n"
     ]
    },
    {
     "name": "stdout",
     "output_type": "stream",
     "text": [
      "Finished after epoch 100, best epoch=100\n",
      "best va_xent 0.778\n",
      "best tr_err 0.072\n",
      "best va_err 0.180\n",
      "Training with lr=0.0001, l2pen_mag=0.1, seed=123, epoch=30\n",
      "Setup complete. Trainable parameter count=5130 over 2 tensors in layers: output.\n"
     ]
    },
    {
     "name": "stderr",
     "output_type": "stream",
     "text": [
      "100%|██████████| 31/31 [00:27<00:00,  1.14it/s, tr_xent=1.24, tr_err=0.27, va_xent=1.42, va_err=0.4, batch_done=7]  \n"
     ]
    },
    {
     "name": "stdout",
     "output_type": "stream",
     "text": [
      "Finished after epoch 30, best epoch=30\n",
      "best va_xent 1.419\n",
      "best tr_err 0.270\n",
      "best va_err 0.400\n",
      "Training with lr=0.0001, l2pen_mag=0.1, seed=123, epoch=50\n",
      "Setup complete. Trainable parameter count=5130 over 2 tensors in layers: output.\n"
     ]
    },
    {
     "name": "stderr",
     "output_type": "stream",
     "text": [
      "100%|██████████| 51/51 [00:45<00:00,  1.13it/s, tr_xent=0.926, tr_err=0.172, va_xent=1.12, va_err=0.3, batch_done=7]\n"
     ]
    },
    {
     "name": "stdout",
     "output_type": "stream",
     "text": [
      "Finished after epoch 50, best epoch=50\n",
      "best va_xent 1.121\n",
      "best tr_err 0.172\n",
      "best va_err 0.300\n",
      "Training with lr=0.0001, l2pen_mag=0.1, seed=123, epoch=100\n",
      "Setup complete. Trainable parameter count=5130 over 2 tensors in layers: output.\n"
     ]
    },
    {
     "name": "stderr",
     "output_type": "stream",
     "text": [
      "100%|██████████| 101/101 [01:30<00:00,  1.12it/s, tr_xent=0.51, tr_err=0.0675, va_xent=0.776, va_err=0.17, batch_done=7]\n"
     ]
    },
    {
     "name": "stdout",
     "output_type": "stream",
     "text": [
      "Finished after epoch 100, best epoch=100\n",
      "best va_xent 0.776\n",
      "best tr_err 0.068\n",
      "best va_err 0.170\n",
      "Training with lr=0.001, l2pen_mag=0.0001, seed=42, epoch=30\n",
      "Setup complete. Trainable parameter count=5130 over 2 tensors in layers: output.\n"
     ]
    },
    {
     "name": "stderr",
     "output_type": "stream",
     "text": [
      "100%|██████████| 31/31 [00:27<00:00,  1.13it/s, tr_xent=0.197, tr_err=0.005, va_xent=0.52, va_err=0.14, batch_done=7]  \n"
     ]
    },
    {
     "name": "stdout",
     "output_type": "stream",
     "text": [
      "Finished after epoch 30, best epoch=29\n",
      "best va_xent 0.512\n",
      "best tr_err 0.010\n",
      "best va_err 0.160\n",
      "Training with lr=0.001, l2pen_mag=0.0001, seed=42, epoch=50\n",
      "Setup complete. Trainable parameter count=5130 over 2 tensors in layers: output.\n"
     ]
    },
    {
     "name": "stderr",
     "output_type": "stream",
     "text": [
      "100%|██████████| 51/51 [00:44<00:00,  1.14it/s, tr_xent=0.0818, tr_err=0, va_xent=0.438, va_err=0.14, batch_done=7]    \n"
     ]
    },
    {
     "name": "stdout",
     "output_type": "stream",
     "text": [
      "Finished after epoch 50, best epoch=45\n",
      "best va_xent 0.431\n",
      "best tr_err 0.000\n",
      "best va_err 0.120\n",
      "Training with lr=0.001, l2pen_mag=0.0001, seed=42, epoch=100\n",
      "Setup complete. Trainable parameter count=5130 over 2 tensors in layers: output.\n"
     ]
    },
    {
     "name": "stderr",
     "output_type": "stream",
     "text": [
      " 87%|████████▋ | 88/101 [01:18<00:11,  1.13it/s, tr_xent=0.0414, tr_err=0, va_xent=0.397, va_err=0.12, batch_done=7]     \n"
     ]
    },
    {
     "name": "stdout",
     "output_type": "stream",
     "text": [
      "Stopped early.\n",
      "Finished after epoch 88, best epoch=73\n",
      "best va_xent 0.396\n",
      "best tr_err 0.000\n",
      "best va_err 0.120\n",
      "Training with lr=0.001, l2pen_mag=0.0001, seed=100, epoch=30\n",
      "Setup complete. Trainable parameter count=5130 over 2 tensors in layers: output.\n"
     ]
    },
    {
     "name": "stderr",
     "output_type": "stream",
     "text": [
      "100%|██████████| 31/31 [00:27<00:00,  1.14it/s, tr_xent=0.162, tr_err=0, va_xent=0.486, va_err=0.12, batch_done=7]     \n"
     ]
    },
    {
     "name": "stdout",
     "output_type": "stream",
     "text": [
      "Finished after epoch 30, best epoch=28\n",
      "best va_xent 0.484\n",
      "best tr_err 0.010\n",
      "best va_err 0.120\n",
      "Training with lr=0.001, l2pen_mag=0.0001, seed=100, epoch=50\n",
      "Setup complete. Trainable parameter count=5130 over 2 tensors in layers: output.\n"
     ]
    },
    {
     "name": "stderr",
     "output_type": "stream",
     "text": [
      "100%|██████████| 51/51 [00:44<00:00,  1.14it/s, tr_xent=0.0899, tr_err=0.0025, va_xent=0.445, va_err=0.12, batch_done=7]\n"
     ]
    },
    {
     "name": "stdout",
     "output_type": "stream",
     "text": [
      "Finished after epoch 50, best epoch=49\n",
      "best va_xent 0.435\n",
      "best tr_err 0.003\n",
      "best va_err 0.120\n",
      "Training with lr=0.001, l2pen_mag=0.0001, seed=100, epoch=100\n",
      "Setup complete. Trainable parameter count=5130 over 2 tensors in layers: output.\n"
     ]
    },
    {
     "name": "stderr",
     "output_type": "stream",
     "text": [
      "100%|██████████| 101/101 [01:28<00:00,  1.14it/s, tr_xent=0.0309, tr_err=0, va_xent=0.4, va_err=0.1, batch_done=7]       \n"
     ]
    },
    {
     "name": "stdout",
     "output_type": "stream",
     "text": [
      "Finished after epoch 100, best epoch=91\n",
      "best va_xent 0.389\n",
      "best tr_err 0.000\n",
      "best va_err 0.100\n",
      "Training with lr=0.001, l2pen_mag=0.0001, seed=123, epoch=30\n",
      "Setup complete. Trainable parameter count=5130 over 2 tensors in layers: output.\n"
     ]
    },
    {
     "name": "stderr",
     "output_type": "stream",
     "text": [
      "100%|██████████| 31/31 [00:27<00:00,  1.13it/s, tr_xent=0.174, tr_err=0.0075, va_xent=0.479, va_err=0.1, batch_done=7] \n"
     ]
    },
    {
     "name": "stdout",
     "output_type": "stream",
     "text": [
      "Finished after epoch 30, best epoch=29\n",
      "best va_xent 0.479\n",
      "best tr_err 0.007\n",
      "best va_err 0.110\n",
      "Training with lr=0.001, l2pen_mag=0.0001, seed=123, epoch=50\n",
      "Setup complete. Trainable parameter count=5130 over 2 tensors in layers: output.\n"
     ]
    },
    {
     "name": "stderr",
     "output_type": "stream",
     "text": [
      "100%|██████████| 51/51 [00:45<00:00,  1.13it/s, tr_xent=0.0927, tr_err=0.0025, va_xent=0.43, va_err=0.11, batch_done=7]\n"
     ]
    },
    {
     "name": "stdout",
     "output_type": "stream",
     "text": [
      "Finished after epoch 50, best epoch=49\n",
      "best va_xent 0.417\n",
      "best tr_err 0.000\n",
      "best va_err 0.090\n",
      "Training with lr=0.001, l2pen_mag=0.0001, seed=123, epoch=100\n",
      "Setup complete. Trainable parameter count=5130 over 2 tensors in layers: output.\n"
     ]
    },
    {
     "name": "stderr",
     "output_type": "stream",
     "text": [
      " 92%|█████████▏| 93/101 [01:22<00:07,  1.13it/s, tr_xent=0.0384, tr_err=0, va_xent=0.401, va_err=0.09, batch_done=7]     \n"
     ]
    },
    {
     "name": "stdout",
     "output_type": "stream",
     "text": [
      "Stopped early.\n",
      "Finished after epoch 93, best epoch=78\n",
      "best va_xent 0.388\n",
      "best tr_err 0.000\n",
      "best va_err 0.090\n",
      "Training with lr=0.001, l2pen_mag=0.001, seed=42, epoch=30\n",
      "Setup complete. Trainable parameter count=5130 over 2 tensors in layers: output.\n"
     ]
    },
    {
     "name": "stderr",
     "output_type": "stream",
     "text": [
      "100%|██████████| 31/31 [00:27<00:00,  1.14it/s, tr_xent=0.197, tr_err=0.005, va_xent=0.52, va_err=0.14, batch_done=7]  \n"
     ]
    },
    {
     "name": "stdout",
     "output_type": "stream",
     "text": [
      "Finished after epoch 30, best epoch=29\n",
      "best va_xent 0.512\n",
      "best tr_err 0.010\n",
      "best va_err 0.160\n",
      "Training with lr=0.001, l2pen_mag=0.001, seed=42, epoch=50\n",
      "Setup complete. Trainable parameter count=5130 over 2 tensors in layers: output.\n"
     ]
    },
    {
     "name": "stderr",
     "output_type": "stream",
     "text": [
      "100%|██████████| 51/51 [00:44<00:00,  1.14it/s, tr_xent=0.0818, tr_err=0, va_xent=0.438, va_err=0.14, batch_done=7]    \n"
     ]
    },
    {
     "name": "stdout",
     "output_type": "stream",
     "text": [
      "Finished after epoch 50, best epoch=45\n",
      "best va_xent 0.431\n",
      "best tr_err 0.000\n",
      "best va_err 0.120\n",
      "Training with lr=0.001, l2pen_mag=0.001, seed=42, epoch=100\n",
      "Setup complete. Trainable parameter count=5130 over 2 tensors in layers: output.\n"
     ]
    },
    {
     "name": "stderr",
     "output_type": "stream",
     "text": [
      " 87%|████████▋ | 88/101 [01:18<00:11,  1.12it/s, tr_xent=0.0414, tr_err=0, va_xent=0.397, va_err=0.12, batch_done=7]     \n"
     ]
    },
    {
     "name": "stdout",
     "output_type": "stream",
     "text": [
      "Stopped early.\n",
      "Finished after epoch 88, best epoch=73\n",
      "best va_xent 0.396\n",
      "best tr_err 0.000\n",
      "best va_err 0.120\n",
      "Training with lr=0.001, l2pen_mag=0.001, seed=100, epoch=30\n",
      "Setup complete. Trainable parameter count=5130 over 2 tensors in layers: output.\n"
     ]
    },
    {
     "name": "stderr",
     "output_type": "stream",
     "text": [
      "100%|██████████| 31/31 [00:27<00:00,  1.14it/s, tr_xent=0.162, tr_err=0, va_xent=0.486, va_err=0.12, batch_done=7]     \n"
     ]
    },
    {
     "name": "stdout",
     "output_type": "stream",
     "text": [
      "Finished after epoch 30, best epoch=28\n",
      "best va_xent 0.484\n",
      "best tr_err 0.010\n",
      "best va_err 0.120\n",
      "Training with lr=0.001, l2pen_mag=0.001, seed=100, epoch=50\n",
      "Setup complete. Trainable parameter count=5130 over 2 tensors in layers: output.\n"
     ]
    },
    {
     "name": "stderr",
     "output_type": "stream",
     "text": [
      "100%|██████████| 51/51 [00:44<00:00,  1.14it/s, tr_xent=0.0899, tr_err=0.0025, va_xent=0.445, va_err=0.12, batch_done=7]\n"
     ]
    },
    {
     "name": "stdout",
     "output_type": "stream",
     "text": [
      "Finished after epoch 50, best epoch=49\n",
      "best va_xent 0.435\n",
      "best tr_err 0.003\n",
      "best va_err 0.120\n",
      "Training with lr=0.001, l2pen_mag=0.001, seed=100, epoch=100\n",
      "Setup complete. Trainable parameter count=5130 over 2 tensors in layers: output.\n"
     ]
    },
    {
     "name": "stderr",
     "output_type": "stream",
     "text": [
      "100%|██████████| 101/101 [01:28<00:00,  1.14it/s, tr_xent=0.0309, tr_err=0, va_xent=0.4, va_err=0.1, batch_done=7]       \n"
     ]
    },
    {
     "name": "stdout",
     "output_type": "stream",
     "text": [
      "Finished after epoch 100, best epoch=91\n",
      "best va_xent 0.389\n",
      "best tr_err 0.000\n",
      "best va_err 0.100\n",
      "Training with lr=0.001, l2pen_mag=0.001, seed=123, epoch=30\n",
      "Setup complete. Trainable parameter count=5130 over 2 tensors in layers: output.\n"
     ]
    },
    {
     "name": "stderr",
     "output_type": "stream",
     "text": [
      "100%|██████████| 31/31 [00:27<00:00,  1.14it/s, tr_xent=0.174, tr_err=0.0075, va_xent=0.479, va_err=0.1, batch_done=7] \n"
     ]
    },
    {
     "name": "stdout",
     "output_type": "stream",
     "text": [
      "Finished after epoch 30, best epoch=29\n",
      "best va_xent 0.479\n",
      "best tr_err 0.007\n",
      "best va_err 0.110\n",
      "Training with lr=0.001, l2pen_mag=0.001, seed=123, epoch=50\n",
      "Setup complete. Trainable parameter count=5130 over 2 tensors in layers: output.\n"
     ]
    },
    {
     "name": "stderr",
     "output_type": "stream",
     "text": [
      "100%|██████████| 51/51 [00:45<00:00,  1.13it/s, tr_xent=0.0927, tr_err=0.0025, va_xent=0.43, va_err=0.11, batch_done=7]\n"
     ]
    },
    {
     "name": "stdout",
     "output_type": "stream",
     "text": [
      "Finished after epoch 50, best epoch=49\n",
      "best va_xent 0.417\n",
      "best tr_err 0.000\n",
      "best va_err 0.090\n",
      "Training with lr=0.001, l2pen_mag=0.001, seed=123, epoch=100\n",
      "Setup complete. Trainable parameter count=5130 over 2 tensors in layers: output.\n"
     ]
    },
    {
     "name": "stderr",
     "output_type": "stream",
     "text": [
      " 92%|█████████▏| 93/101 [01:22<00:07,  1.13it/s, tr_xent=0.0384, tr_err=0, va_xent=0.401, va_err=0.09, batch_done=7]     \n"
     ]
    },
    {
     "name": "stdout",
     "output_type": "stream",
     "text": [
      "Stopped early.\n",
      "Finished after epoch 93, best epoch=78\n",
      "best va_xent 0.388\n",
      "best tr_err 0.000\n",
      "best va_err 0.090\n",
      "Training with lr=0.001, l2pen_mag=0.01, seed=42, epoch=30\n",
      "Setup complete. Trainable parameter count=5130 over 2 tensors in layers: output.\n"
     ]
    },
    {
     "name": "stderr",
     "output_type": "stream",
     "text": [
      "100%|██████████| 31/31 [00:27<00:00,  1.14it/s, tr_xent=0.197, tr_err=0.005, va_xent=0.52, va_err=0.14, batch_done=7]  \n"
     ]
    },
    {
     "name": "stdout",
     "output_type": "stream",
     "text": [
      "Finished after epoch 30, best epoch=29\n",
      "best va_xent 0.512\n",
      "best tr_err 0.010\n",
      "best va_err 0.160\n",
      "Training with lr=0.001, l2pen_mag=0.01, seed=42, epoch=50\n",
      "Setup complete. Trainable parameter count=5130 over 2 tensors in layers: output.\n"
     ]
    },
    {
     "name": "stderr",
     "output_type": "stream",
     "text": [
      "100%|██████████| 51/51 [00:44<00:00,  1.14it/s, tr_xent=0.0818, tr_err=0, va_xent=0.438, va_err=0.14, batch_done=7]    \n"
     ]
    },
    {
     "name": "stdout",
     "output_type": "stream",
     "text": [
      "Finished after epoch 50, best epoch=45\n",
      "best va_xent 0.431\n",
      "best tr_err 0.000\n",
      "best va_err 0.120\n",
      "Training with lr=0.001, l2pen_mag=0.01, seed=42, epoch=100\n",
      "Setup complete. Trainable parameter count=5130 over 2 tensors in layers: output.\n"
     ]
    },
    {
     "name": "stderr",
     "output_type": "stream",
     "text": [
      " 87%|████████▋ | 88/101 [01:18<00:11,  1.13it/s, tr_xent=0.0414, tr_err=0, va_xent=0.397, va_err=0.12, batch_done=7]     \n"
     ]
    },
    {
     "name": "stdout",
     "output_type": "stream",
     "text": [
      "Stopped early.\n",
      "Finished after epoch 88, best epoch=73\n",
      "best va_xent 0.396\n",
      "best tr_err 0.000\n",
      "best va_err 0.120\n",
      "Training with lr=0.001, l2pen_mag=0.01, seed=100, epoch=30\n",
      "Setup complete. Trainable parameter count=5130 over 2 tensors in layers: output.\n"
     ]
    },
    {
     "name": "stderr",
     "output_type": "stream",
     "text": [
      "100%|██████████| 31/31 [00:27<00:00,  1.14it/s, tr_xent=0.162, tr_err=0, va_xent=0.486, va_err=0.12, batch_done=7]     \n"
     ]
    },
    {
     "name": "stdout",
     "output_type": "stream",
     "text": [
      "Finished after epoch 30, best epoch=28\n",
      "best va_xent 0.484\n",
      "best tr_err 0.010\n",
      "best va_err 0.120\n",
      "Training with lr=0.001, l2pen_mag=0.01, seed=100, epoch=50\n",
      "Setup complete. Trainable parameter count=5130 over 2 tensors in layers: output.\n"
     ]
    },
    {
     "name": "stderr",
     "output_type": "stream",
     "text": [
      "100%|██████████| 51/51 [00:45<00:00,  1.13it/s, tr_xent=0.0899, tr_err=0.0025, va_xent=0.445, va_err=0.12, batch_done=7]\n"
     ]
    },
    {
     "name": "stdout",
     "output_type": "stream",
     "text": [
      "Finished after epoch 50, best epoch=49\n",
      "best va_xent 0.435\n",
      "best tr_err 0.003\n",
      "best va_err 0.120\n",
      "Training with lr=0.001, l2pen_mag=0.01, seed=100, epoch=100\n",
      "Setup complete. Trainable parameter count=5130 over 2 tensors in layers: output.\n"
     ]
    },
    {
     "name": "stderr",
     "output_type": "stream",
     "text": [
      "100%|██████████| 101/101 [01:29<00:00,  1.13it/s, tr_xent=0.0309, tr_err=0, va_xent=0.4, va_err=0.1, batch_done=7]       \n"
     ]
    },
    {
     "name": "stdout",
     "output_type": "stream",
     "text": [
      "Finished after epoch 100, best epoch=91\n",
      "best va_xent 0.389\n",
      "best tr_err 0.000\n",
      "best va_err 0.100\n",
      "Training with lr=0.001, l2pen_mag=0.01, seed=123, epoch=30\n",
      "Setup complete. Trainable parameter count=5130 over 2 tensors in layers: output.\n"
     ]
    },
    {
     "name": "stderr",
     "output_type": "stream",
     "text": [
      "100%|██████████| 31/31 [00:27<00:00,  1.13it/s, tr_xent=0.174, tr_err=0.0075, va_xent=0.479, va_err=0.1, batch_done=7] \n"
     ]
    },
    {
     "name": "stdout",
     "output_type": "stream",
     "text": [
      "Finished after epoch 30, best epoch=29\n",
      "best va_xent 0.479\n",
      "best tr_err 0.007\n",
      "best va_err 0.110\n",
      "Training with lr=0.001, l2pen_mag=0.01, seed=123, epoch=50\n",
      "Setup complete. Trainable parameter count=5130 over 2 tensors in layers: output.\n"
     ]
    },
    {
     "name": "stderr",
     "output_type": "stream",
     "text": [
      "100%|██████████| 51/51 [00:45<00:00,  1.13it/s, tr_xent=0.0927, tr_err=0.0025, va_xent=0.43, va_err=0.11, batch_done=7]\n"
     ]
    },
    {
     "name": "stdout",
     "output_type": "stream",
     "text": [
      "Finished after epoch 50, best epoch=49\n",
      "best va_xent 0.417\n",
      "best tr_err 0.000\n",
      "best va_err 0.090\n",
      "Training with lr=0.001, l2pen_mag=0.01, seed=123, epoch=100\n",
      "Setup complete. Trainable parameter count=5130 over 2 tensors in layers: output.\n"
     ]
    },
    {
     "name": "stderr",
     "output_type": "stream",
     "text": [
      " 92%|█████████▏| 93/101 [01:22<00:07,  1.13it/s, tr_xent=0.0384, tr_err=0, va_xent=0.401, va_err=0.09, batch_done=7]     \n"
     ]
    },
    {
     "name": "stdout",
     "output_type": "stream",
     "text": [
      "Stopped early.\n",
      "Finished after epoch 93, best epoch=78\n",
      "best va_xent 0.388\n",
      "best tr_err 0.000\n",
      "best va_err 0.090\n",
      "Training with lr=0.001, l2pen_mag=0.1, seed=42, epoch=30\n",
      "Setup complete. Trainable parameter count=5130 over 2 tensors in layers: output.\n"
     ]
    },
    {
     "name": "stderr",
     "output_type": "stream",
     "text": [
      "100%|██████████| 31/31 [00:27<00:00,  1.14it/s, tr_xent=0.198, tr_err=0.005, va_xent=0.52, va_err=0.14, batch_done=7]  \n"
     ]
    },
    {
     "name": "stdout",
     "output_type": "stream",
     "text": [
      "Finished after epoch 30, best epoch=29\n",
      "best va_xent 0.512\n",
      "best tr_err 0.010\n",
      "best va_err 0.160\n",
      "Training with lr=0.001, l2pen_mag=0.1, seed=42, epoch=50\n",
      "Setup complete. Trainable parameter count=5130 over 2 tensors in layers: output.\n"
     ]
    },
    {
     "name": "stderr",
     "output_type": "stream",
     "text": [
      "100%|██████████| 51/51 [00:44<00:00,  1.14it/s, tr_xent=0.0818, tr_err=0, va_xent=0.438, va_err=0.14, batch_done=7]    \n"
     ]
    },
    {
     "name": "stdout",
     "output_type": "stream",
     "text": [
      "Finished after epoch 50, best epoch=45\n",
      "best va_xent 0.431\n",
      "best tr_err 0.000\n",
      "best va_err 0.120\n",
      "Training with lr=0.001, l2pen_mag=0.1, seed=42, epoch=100\n",
      "Setup complete. Trainable parameter count=5130 over 2 tensors in layers: output.\n"
     ]
    },
    {
     "name": "stderr",
     "output_type": "stream",
     "text": [
      " 87%|████████▋ | 88/101 [01:16<00:11,  1.14it/s, tr_xent=0.0414, tr_err=0, va_xent=0.397, va_err=0.12, batch_done=7]     \n"
     ]
    },
    {
     "name": "stdout",
     "output_type": "stream",
     "text": [
      "Stopped early.\n",
      "Finished after epoch 88, best epoch=73\n",
      "best va_xent 0.396\n",
      "best tr_err 0.000\n",
      "best va_err 0.120\n",
      "Training with lr=0.001, l2pen_mag=0.1, seed=100, epoch=30\n",
      "Setup complete. Trainable parameter count=5130 over 2 tensors in layers: output.\n"
     ]
    },
    {
     "name": "stderr",
     "output_type": "stream",
     "text": [
      "100%|██████████| 31/31 [00:26<00:00,  1.15it/s, tr_xent=0.162, tr_err=0, va_xent=0.486, va_err=0.12, batch_done=7]     \n"
     ]
    },
    {
     "name": "stdout",
     "output_type": "stream",
     "text": [
      "Finished after epoch 30, best epoch=28\n",
      "best va_xent 0.485\n",
      "best tr_err 0.010\n",
      "best va_err 0.120\n",
      "Training with lr=0.001, l2pen_mag=0.1, seed=100, epoch=50\n",
      "Setup complete. Trainable parameter count=5130 over 2 tensors in layers: output.\n"
     ]
    },
    {
     "name": "stderr",
     "output_type": "stream",
     "text": [
      "100%|██████████| 51/51 [00:44<00:00,  1.15it/s, tr_xent=0.0899, tr_err=0.0025, va_xent=0.445, va_err=0.12, batch_done=7]\n"
     ]
    },
    {
     "name": "stdout",
     "output_type": "stream",
     "text": [
      "Finished after epoch 50, best epoch=49\n",
      "best va_xent 0.435\n",
      "best tr_err 0.003\n",
      "best va_err 0.120\n",
      "Training with lr=0.001, l2pen_mag=0.1, seed=100, epoch=100\n",
      "Setup complete. Trainable parameter count=5130 over 2 tensors in layers: output.\n"
     ]
    },
    {
     "name": "stderr",
     "output_type": "stream",
     "text": [
      "100%|██████████| 101/101 [01:25<00:00,  1.18it/s, tr_xent=0.0309, tr_err=0, va_xent=0.4, va_err=0.1, batch_done=7]       \n"
     ]
    },
    {
     "name": "stdout",
     "output_type": "stream",
     "text": [
      "Finished after epoch 100, best epoch=91\n",
      "best va_xent 0.389\n",
      "best tr_err 0.000\n",
      "best va_err 0.100\n",
      "Training with lr=0.001, l2pen_mag=0.1, seed=123, epoch=30\n",
      "Setup complete. Trainable parameter count=5130 over 2 tensors in layers: output.\n"
     ]
    },
    {
     "name": "stderr",
     "output_type": "stream",
     "text": [
      "100%|██████████| 31/31 [00:26<00:00,  1.17it/s, tr_xent=0.174, tr_err=0.0075, va_xent=0.479, va_err=0.1, batch_done=7] \n"
     ]
    },
    {
     "name": "stdout",
     "output_type": "stream",
     "text": [
      "Finished after epoch 30, best epoch=29\n",
      "best va_xent 0.479\n",
      "best tr_err 0.007\n",
      "best va_err 0.110\n",
      "Training with lr=0.001, l2pen_mag=0.1, seed=123, epoch=50\n",
      "Setup complete. Trainable parameter count=5130 over 2 tensors in layers: output.\n"
     ]
    },
    {
     "name": "stderr",
     "output_type": "stream",
     "text": [
      "100%|██████████| 51/51 [00:44<00:00,  1.14it/s, tr_xent=0.0928, tr_err=0.0025, va_xent=0.43, va_err=0.11, batch_done=7]\n"
     ]
    },
    {
     "name": "stdout",
     "output_type": "stream",
     "text": [
      "Finished after epoch 50, best epoch=49\n",
      "best va_xent 0.417\n",
      "best tr_err 0.000\n",
      "best va_err 0.090\n",
      "Training with lr=0.001, l2pen_mag=0.1, seed=123, epoch=100\n",
      "Setup complete. Trainable parameter count=5130 over 2 tensors in layers: output.\n"
     ]
    },
    {
     "name": "stderr",
     "output_type": "stream",
     "text": [
      " 92%|█████████▏| 93/101 [01:23<00:07,  1.12it/s, tr_xent=0.0385, tr_err=0, va_xent=0.401, va_err=0.09, batch_done=7]     \n"
     ]
    },
    {
     "name": "stdout",
     "output_type": "stream",
     "text": [
      "Stopped early.\n",
      "Finished after epoch 93, best epoch=78\n",
      "best va_xent 0.388\n",
      "best tr_err 0.000\n",
      "best va_err 0.090\n",
      "Training with lr=0.01, l2pen_mag=0.0001, seed=42, epoch=30\n",
      "Setup complete. Trainable parameter count=5130 over 2 tensors in layers: output.\n"
     ]
    },
    {
     "name": "stderr",
     "output_type": "stream",
     "text": [
      "100%|██████████| 31/31 [00:26<00:00,  1.18it/s, tr_xent=0.0251, tr_err=0, va_xent=0.397, va_err=0.12, batch_done=7]     \n"
     ]
    },
    {
     "name": "stdout",
     "output_type": "stream",
     "text": [
      "Finished after epoch 30, best epoch=23\n",
      "best va_xent 0.371\n",
      "best tr_err 0.000\n",
      "best va_err 0.130\n",
      "Training with lr=0.01, l2pen_mag=0.0001, seed=42, epoch=50\n",
      "Setup complete. Trainable parameter count=5130 over 2 tensors in layers: output.\n"
     ]
    },
    {
     "name": "stderr",
     "output_type": "stream",
     "text": [
      " 37%|███▋      | 19/51 [00:16<00:27,  1.18it/s, tr_xent=0.037, tr_err=0, va_xent=0.408, va_err=0.13, batch_done=1]      \n"
     ]
    },
    {
     "ename": "KeyboardInterrupt",
     "evalue": "",
     "output_type": "error",
     "traceback": [
      "\u001b[1;31m---------------------------------------------------------------------------\u001b[0m",
      "\u001b[1;31mKeyboardInterrupt\u001b[0m                         Traceback (most recent call last)",
      "Cell \u001b[1;32mIn[23], line 27\u001b[0m\n\u001b[0;32m     22\u001b[0m resnet10_in \u001b[38;5;241m=\u001b[39m models\u001b[38;5;241m.\u001b[39mPretrainedResNetForBirdSnap10(\n\u001b[0;32m     23\u001b[0m     src_dataset\u001b[38;5;241m=\u001b[39m\u001b[38;5;124m'\u001b[39m\u001b[38;5;124mImageNet1k\u001b[39m\u001b[38;5;124m'\u001b[39m, arch\u001b[38;5;241m=\u001b[39m\u001b[38;5;124m'\u001b[39m\u001b[38;5;124mResNet10\u001b[39m\u001b[38;5;124m'\u001b[39m, n_trainable_layers\u001b[38;5;241m=\u001b[39m\u001b[38;5;241m1\u001b[39m, seed\u001b[38;5;241m=\u001b[39mseed\n\u001b[0;32m     24\u001b[0m )\n\u001b[0;32m     26\u001b[0m \u001b[38;5;66;03m# Train the model\u001b[39;00m\n\u001b[1;32m---> 27\u001b[0m current_model, current_info \u001b[38;5;241m=\u001b[39m \u001b[43mtrain\u001b[49m\u001b[38;5;241;43m.\u001b[39;49m\u001b[43mtrain_model\u001b[49m\u001b[43m(\u001b[49m\n\u001b[0;32m     28\u001b[0m \u001b[43m    \u001b[49m\u001b[43mresnet10_in\u001b[49m\u001b[43m,\u001b[49m\u001b[43m \u001b[49m\u001b[43mdevice\u001b[49m\u001b[43m,\u001b[49m\u001b[43m \u001b[49m\u001b[43mtrain_loader\u001b[49m\u001b[43m,\u001b[49m\u001b[43m \u001b[49m\u001b[43mval_loader\u001b[49m\u001b[43m,\u001b[49m\n\u001b[0;32m     29\u001b[0m \u001b[43m    \u001b[49m\u001b[43mn_epochs\u001b[49m\u001b[38;5;241;43m=\u001b[39;49m\u001b[43mepoch\u001b[49m\u001b[43m,\u001b[49m\n\u001b[0;32m     30\u001b[0m \u001b[43m    \u001b[49m\u001b[43mlr\u001b[49m\u001b[38;5;241;43m=\u001b[39;49m\u001b[43mlr\u001b[49m\u001b[43m,\u001b[49m\n\u001b[0;32m     31\u001b[0m \u001b[43m    \u001b[49m\u001b[43ml2pen_mag\u001b[49m\u001b[38;5;241;43m=\u001b[39;49m\u001b[43ml2pen_mag\u001b[49m\u001b[43m,\u001b[49m\n\u001b[0;32m     32\u001b[0m \u001b[43m    \u001b[49m\u001b[43mdata_order_seed\u001b[49m\u001b[38;5;241;43m=\u001b[39;49m\u001b[43mseed\u001b[49m\n\u001b[0;32m     33\u001b[0m \u001b[43m\u001b[49m\u001b[43m)\u001b[49m\n\u001b[0;32m     35\u001b[0m \u001b[38;5;66;03m# Get validation loss from training info\u001b[39;00m\n\u001b[0;32m     36\u001b[0m val_loss \u001b[38;5;241m=\u001b[39m \u001b[38;5;28mmin\u001b[39m(current_info[\u001b[38;5;124m'\u001b[39m\u001b[38;5;124mva\u001b[39m\u001b[38;5;124m'\u001b[39m][\u001b[38;5;124m'\u001b[39m\u001b[38;5;124mxent\u001b[39m\u001b[38;5;124m'\u001b[39m])\n",
      "File \u001b[1;32mc:\\Users\\josep\\Code\\School\\L3D\\Assignments\\hw1\\train.py:60\u001b[0m, in \u001b[0;36mtrain_model\u001b[1;34m(model, device, tr_loader, va_loader, n_epochs, lr, l2pen_mag, data_order_seed, do_early_stopping, n_epochs_without_va_improve_before_early_stop, xent_loss_func)\u001b[0m\n\u001b[0;32m     58\u001b[0m tr_err \u001b[38;5;241m=\u001b[39m \u001b[38;5;241m0\u001b[39m     \u001b[38;5;66;03m# count mistakes on train set\u001b[39;00m\n\u001b[0;32m     59\u001b[0m pbar_info[\u001b[38;5;124m'\u001b[39m\u001b[38;5;124mbatch_done\u001b[39m\u001b[38;5;124m'\u001b[39m] \u001b[38;5;241m=\u001b[39m \u001b[38;5;241m0\u001b[39m\n\u001b[1;32m---> 60\u001b[0m \u001b[38;5;28;01mfor\u001b[39;00m bb, (x, y_B) \u001b[38;5;129;01min\u001b[39;00m \u001b[38;5;28menumerate\u001b[39m(tr_loader):\n\u001b[0;32m     61\u001b[0m     optimizer\u001b[38;5;241m.\u001b[39mzero_grad()\n\u001b[0;32m     62\u001b[0m     logits_BC \u001b[38;5;241m=\u001b[39m model(x\u001b[38;5;241m.\u001b[39mto(device))\n",
      "File \u001b[1;32mc:\\Users\\josep\\miniconda3\\envs\\cs152_env\\lib\\site-packages\\torch\\utils\\data\\dataloader.py:633\u001b[0m, in \u001b[0;36m_BaseDataLoaderIter.__next__\u001b[1;34m(self)\u001b[0m\n\u001b[0;32m    630\u001b[0m \u001b[38;5;28;01mif\u001b[39;00m \u001b[38;5;28mself\u001b[39m\u001b[38;5;241m.\u001b[39m_sampler_iter \u001b[38;5;129;01mis\u001b[39;00m \u001b[38;5;28;01mNone\u001b[39;00m:\n\u001b[0;32m    631\u001b[0m     \u001b[38;5;66;03m# TODO(https://github.com/pytorch/pytorch/issues/76750)\u001b[39;00m\n\u001b[0;32m    632\u001b[0m     \u001b[38;5;28mself\u001b[39m\u001b[38;5;241m.\u001b[39m_reset()  \u001b[38;5;66;03m# type: ignore[call-arg]\u001b[39;00m\n\u001b[1;32m--> 633\u001b[0m data \u001b[38;5;241m=\u001b[39m \u001b[38;5;28;43mself\u001b[39;49m\u001b[38;5;241;43m.\u001b[39;49m\u001b[43m_next_data\u001b[49m\u001b[43m(\u001b[49m\u001b[43m)\u001b[49m\n\u001b[0;32m    634\u001b[0m \u001b[38;5;28mself\u001b[39m\u001b[38;5;241m.\u001b[39m_num_yielded \u001b[38;5;241m+\u001b[39m\u001b[38;5;241m=\u001b[39m \u001b[38;5;241m1\u001b[39m\n\u001b[0;32m    635\u001b[0m \u001b[38;5;28;01mif\u001b[39;00m \u001b[38;5;28mself\u001b[39m\u001b[38;5;241m.\u001b[39m_dataset_kind \u001b[38;5;241m==\u001b[39m _DatasetKind\u001b[38;5;241m.\u001b[39mIterable \u001b[38;5;129;01mand\u001b[39;00m \\\n\u001b[0;32m    636\u001b[0m         \u001b[38;5;28mself\u001b[39m\u001b[38;5;241m.\u001b[39m_IterableDataset_len_called \u001b[38;5;129;01mis\u001b[39;00m \u001b[38;5;129;01mnot\u001b[39;00m \u001b[38;5;28;01mNone\u001b[39;00m \u001b[38;5;129;01mand\u001b[39;00m \\\n\u001b[0;32m    637\u001b[0m         \u001b[38;5;28mself\u001b[39m\u001b[38;5;241m.\u001b[39m_num_yielded \u001b[38;5;241m>\u001b[39m \u001b[38;5;28mself\u001b[39m\u001b[38;5;241m.\u001b[39m_IterableDataset_len_called:\n",
      "File \u001b[1;32mc:\\Users\\josep\\miniconda3\\envs\\cs152_env\\lib\\site-packages\\torch\\utils\\data\\dataloader.py:677\u001b[0m, in \u001b[0;36m_SingleProcessDataLoaderIter._next_data\u001b[1;34m(self)\u001b[0m\n\u001b[0;32m    675\u001b[0m \u001b[38;5;28;01mdef\u001b[39;00m \u001b[38;5;21m_next_data\u001b[39m(\u001b[38;5;28mself\u001b[39m):\n\u001b[0;32m    676\u001b[0m     index \u001b[38;5;241m=\u001b[39m \u001b[38;5;28mself\u001b[39m\u001b[38;5;241m.\u001b[39m_next_index()  \u001b[38;5;66;03m# may raise StopIteration\u001b[39;00m\n\u001b[1;32m--> 677\u001b[0m     data \u001b[38;5;241m=\u001b[39m \u001b[38;5;28;43mself\u001b[39;49m\u001b[38;5;241;43m.\u001b[39;49m\u001b[43m_dataset_fetcher\u001b[49m\u001b[38;5;241;43m.\u001b[39;49m\u001b[43mfetch\u001b[49m\u001b[43m(\u001b[49m\u001b[43mindex\u001b[49m\u001b[43m)\u001b[49m  \u001b[38;5;66;03m# may raise StopIteration\u001b[39;00m\n\u001b[0;32m    678\u001b[0m     \u001b[38;5;28;01mif\u001b[39;00m \u001b[38;5;28mself\u001b[39m\u001b[38;5;241m.\u001b[39m_pin_memory:\n\u001b[0;32m    679\u001b[0m         data \u001b[38;5;241m=\u001b[39m _utils\u001b[38;5;241m.\u001b[39mpin_memory\u001b[38;5;241m.\u001b[39mpin_memory(data, \u001b[38;5;28mself\u001b[39m\u001b[38;5;241m.\u001b[39m_pin_memory_device)\n",
      "File \u001b[1;32mc:\\Users\\josep\\miniconda3\\envs\\cs152_env\\lib\\site-packages\\torch\\utils\\data\\_utils\\fetch.py:51\u001b[0m, in \u001b[0;36m_MapDatasetFetcher.fetch\u001b[1;34m(self, possibly_batched_index)\u001b[0m\n\u001b[0;32m     49\u001b[0m         data \u001b[38;5;241m=\u001b[39m \u001b[38;5;28mself\u001b[39m\u001b[38;5;241m.\u001b[39mdataset\u001b[38;5;241m.\u001b[39m__getitems__(possibly_batched_index)\n\u001b[0;32m     50\u001b[0m     \u001b[38;5;28;01melse\u001b[39;00m:\n\u001b[1;32m---> 51\u001b[0m         data \u001b[38;5;241m=\u001b[39m [\u001b[38;5;28mself\u001b[39m\u001b[38;5;241m.\u001b[39mdataset[idx] \u001b[38;5;28;01mfor\u001b[39;00m idx \u001b[38;5;129;01min\u001b[39;00m possibly_batched_index]\n\u001b[0;32m     52\u001b[0m \u001b[38;5;28;01melse\u001b[39;00m:\n\u001b[0;32m     53\u001b[0m     data \u001b[38;5;241m=\u001b[39m \u001b[38;5;28mself\u001b[39m\u001b[38;5;241m.\u001b[39mdataset[possibly_batched_index]\n",
      "File \u001b[1;32mc:\\Users\\josep\\miniconda3\\envs\\cs152_env\\lib\\site-packages\\torch\\utils\\data\\_utils\\fetch.py:51\u001b[0m, in \u001b[0;36m<listcomp>\u001b[1;34m(.0)\u001b[0m\n\u001b[0;32m     49\u001b[0m         data \u001b[38;5;241m=\u001b[39m \u001b[38;5;28mself\u001b[39m\u001b[38;5;241m.\u001b[39mdataset\u001b[38;5;241m.\u001b[39m__getitems__(possibly_batched_index)\n\u001b[0;32m     50\u001b[0m     \u001b[38;5;28;01melse\u001b[39;00m:\n\u001b[1;32m---> 51\u001b[0m         data \u001b[38;5;241m=\u001b[39m [\u001b[38;5;28;43mself\u001b[39;49m\u001b[38;5;241;43m.\u001b[39;49m\u001b[43mdataset\u001b[49m\u001b[43m[\u001b[49m\u001b[43midx\u001b[49m\u001b[43m]\u001b[49m \u001b[38;5;28;01mfor\u001b[39;00m idx \u001b[38;5;129;01min\u001b[39;00m possibly_batched_index]\n\u001b[0;32m     52\u001b[0m \u001b[38;5;28;01melse\u001b[39;00m:\n\u001b[0;32m     53\u001b[0m     data \u001b[38;5;241m=\u001b[39m \u001b[38;5;28mself\u001b[39m\u001b[38;5;241m.\u001b[39mdataset[possibly_batched_index]\n",
      "File \u001b[1;32mc:\\Users\\josep\\miniconda3\\envs\\cs152_env\\lib\\site-packages\\torch\\utils\\data\\dataset.py:298\u001b[0m, in \u001b[0;36mSubset.__getitem__\u001b[1;34m(self, idx)\u001b[0m\n\u001b[0;32m    296\u001b[0m \u001b[38;5;28;01mif\u001b[39;00m \u001b[38;5;28misinstance\u001b[39m(idx, \u001b[38;5;28mlist\u001b[39m):\n\u001b[0;32m    297\u001b[0m     \u001b[38;5;28;01mreturn\u001b[39;00m \u001b[38;5;28mself\u001b[39m\u001b[38;5;241m.\u001b[39mdataset[[\u001b[38;5;28mself\u001b[39m\u001b[38;5;241m.\u001b[39mindices[i] \u001b[38;5;28;01mfor\u001b[39;00m i \u001b[38;5;129;01min\u001b[39;00m idx]]\n\u001b[1;32m--> 298\u001b[0m \u001b[38;5;28;01mreturn\u001b[39;00m \u001b[38;5;28;43mself\u001b[39;49m\u001b[38;5;241;43m.\u001b[39;49m\u001b[43mdataset\u001b[49m\u001b[43m[\u001b[49m\u001b[38;5;28;43mself\u001b[39;49m\u001b[38;5;241;43m.\u001b[39;49m\u001b[43mindices\u001b[49m\u001b[43m[\u001b[49m\u001b[43midx\u001b[49m\u001b[43m]\u001b[49m\u001b[43m]\u001b[49m\n",
      "File \u001b[1;32mc:\\Users\\josep\\miniconda3\\envs\\cs152_env\\lib\\site-packages\\torchvision\\datasets\\folder.py:229\u001b[0m, in \u001b[0;36mDatasetFolder.__getitem__\u001b[1;34m(self, index)\u001b[0m\n\u001b[0;32m    221\u001b[0m \u001b[38;5;250m\u001b[39m\u001b[38;5;124;03m\"\"\"\u001b[39;00m\n\u001b[0;32m    222\u001b[0m \u001b[38;5;124;03mArgs:\u001b[39;00m\n\u001b[0;32m    223\u001b[0m \u001b[38;5;124;03m    index (int): Index\u001b[39;00m\n\u001b[1;32m   (...)\u001b[0m\n\u001b[0;32m    226\u001b[0m \u001b[38;5;124;03m    tuple: (sample, target) where target is class_index of the target class.\u001b[39;00m\n\u001b[0;32m    227\u001b[0m \u001b[38;5;124;03m\"\"\"\u001b[39;00m\n\u001b[0;32m    228\u001b[0m path, target \u001b[38;5;241m=\u001b[39m \u001b[38;5;28mself\u001b[39m\u001b[38;5;241m.\u001b[39msamples[index]\n\u001b[1;32m--> 229\u001b[0m sample \u001b[38;5;241m=\u001b[39m \u001b[38;5;28;43mself\u001b[39;49m\u001b[38;5;241;43m.\u001b[39;49m\u001b[43mloader\u001b[49m\u001b[43m(\u001b[49m\u001b[43mpath\u001b[49m\u001b[43m)\u001b[49m\n\u001b[0;32m    230\u001b[0m \u001b[38;5;28;01mif\u001b[39;00m \u001b[38;5;28mself\u001b[39m\u001b[38;5;241m.\u001b[39mtransform \u001b[38;5;129;01mis\u001b[39;00m \u001b[38;5;129;01mnot\u001b[39;00m \u001b[38;5;28;01mNone\u001b[39;00m:\n\u001b[0;32m    231\u001b[0m     sample \u001b[38;5;241m=\u001b[39m \u001b[38;5;28mself\u001b[39m\u001b[38;5;241m.\u001b[39mtransform(sample)\n",
      "File \u001b[1;32mc:\\Users\\josep\\miniconda3\\envs\\cs152_env\\lib\\site-packages\\torchvision\\datasets\\folder.py:268\u001b[0m, in \u001b[0;36mdefault_loader\u001b[1;34m(path)\u001b[0m\n\u001b[0;32m    266\u001b[0m     \u001b[38;5;28;01mreturn\u001b[39;00m accimage_loader(path)\n\u001b[0;32m    267\u001b[0m \u001b[38;5;28;01melse\u001b[39;00m:\n\u001b[1;32m--> 268\u001b[0m     \u001b[38;5;28;01mreturn\u001b[39;00m \u001b[43mpil_loader\u001b[49m\u001b[43m(\u001b[49m\u001b[43mpath\u001b[49m\u001b[43m)\u001b[49m\n",
      "File \u001b[1;32mc:\\Users\\josep\\miniconda3\\envs\\cs152_env\\lib\\site-packages\\torchvision\\datasets\\folder.py:248\u001b[0m, in \u001b[0;36mpil_loader\u001b[1;34m(path)\u001b[0m\n\u001b[0;32m    246\u001b[0m \u001b[38;5;28;01mwith\u001b[39;00m \u001b[38;5;28mopen\u001b[39m(path, \u001b[38;5;124m\"\u001b[39m\u001b[38;5;124mrb\u001b[39m\u001b[38;5;124m\"\u001b[39m) \u001b[38;5;28;01mas\u001b[39;00m f:\n\u001b[0;32m    247\u001b[0m     img \u001b[38;5;241m=\u001b[39m Image\u001b[38;5;241m.\u001b[39mopen(f)\n\u001b[1;32m--> 248\u001b[0m     \u001b[38;5;28;01mreturn\u001b[39;00m \u001b[43mimg\u001b[49m\u001b[38;5;241;43m.\u001b[39;49m\u001b[43mconvert\u001b[49m\u001b[43m(\u001b[49m\u001b[38;5;124;43m\"\u001b[39;49m\u001b[38;5;124;43mRGB\u001b[39;49m\u001b[38;5;124;43m\"\u001b[39;49m\u001b[43m)\u001b[49m\n",
      "File \u001b[1;32mc:\\Users\\josep\\miniconda3\\envs\\cs152_env\\lib\\site-packages\\PIL\\Image.py:922\u001b[0m, in \u001b[0;36mImage.convert\u001b[1;34m(self, mode, matrix, dither, palette, colors)\u001b[0m\n\u001b[0;32m    874\u001b[0m \u001b[38;5;28;01mdef\u001b[39;00m \u001b[38;5;21mconvert\u001b[39m(\n\u001b[0;32m    875\u001b[0m     \u001b[38;5;28mself\u001b[39m, mode\u001b[38;5;241m=\u001b[39m\u001b[38;5;28;01mNone\u001b[39;00m, matrix\u001b[38;5;241m=\u001b[39m\u001b[38;5;28;01mNone\u001b[39;00m, dither\u001b[38;5;241m=\u001b[39m\u001b[38;5;28;01mNone\u001b[39;00m, palette\u001b[38;5;241m=\u001b[39mPalette\u001b[38;5;241m.\u001b[39mWEB, colors\u001b[38;5;241m=\u001b[39m\u001b[38;5;241m256\u001b[39m\n\u001b[0;32m    876\u001b[0m ):\n\u001b[0;32m    877\u001b[0m \u001b[38;5;250m    \u001b[39m\u001b[38;5;124;03m\"\"\"\u001b[39;00m\n\u001b[0;32m    878\u001b[0m \u001b[38;5;124;03m    Returns a converted copy of this image. For the \"P\" mode, this\u001b[39;00m\n\u001b[0;32m    879\u001b[0m \u001b[38;5;124;03m    method translates pixels through the palette.  If mode is\u001b[39;00m\n\u001b[1;32m   (...)\u001b[0m\n\u001b[0;32m    919\u001b[0m \u001b[38;5;124;03m    :returns: An :py:class:`~PIL.Image.Image` object.\u001b[39;00m\n\u001b[0;32m    920\u001b[0m \u001b[38;5;124;03m    \"\"\"\u001b[39;00m\n\u001b[1;32m--> 922\u001b[0m     \u001b[38;5;28;43mself\u001b[39;49m\u001b[38;5;241;43m.\u001b[39;49m\u001b[43mload\u001b[49m\u001b[43m(\u001b[49m\u001b[43m)\u001b[49m\n\u001b[0;32m    924\u001b[0m     has_transparency \u001b[38;5;241m=\u001b[39m \u001b[38;5;124m\"\u001b[39m\u001b[38;5;124mtransparency\u001b[39m\u001b[38;5;124m\"\u001b[39m \u001b[38;5;129;01min\u001b[39;00m \u001b[38;5;28mself\u001b[39m\u001b[38;5;241m.\u001b[39minfo\n\u001b[0;32m    925\u001b[0m     \u001b[38;5;28;01mif\u001b[39;00m \u001b[38;5;129;01mnot\u001b[39;00m mode \u001b[38;5;129;01mand\u001b[39;00m \u001b[38;5;28mself\u001b[39m\u001b[38;5;241m.\u001b[39mmode \u001b[38;5;241m==\u001b[39m \u001b[38;5;124m\"\u001b[39m\u001b[38;5;124mP\u001b[39m\u001b[38;5;124m\"\u001b[39m:\n\u001b[0;32m    926\u001b[0m         \u001b[38;5;66;03m# determine default mode\u001b[39;00m\n",
      "File \u001b[1;32mc:\\Users\\josep\\miniconda3\\envs\\cs152_env\\lib\\site-packages\\PIL\\ImageFile.py:291\u001b[0m, in \u001b[0;36mImageFile.load\u001b[1;34m(self)\u001b[0m\n\u001b[0;32m    288\u001b[0m         \u001b[38;5;28;01mraise\u001b[39;00m \u001b[38;5;167;01mOSError\u001b[39;00m(msg)\n\u001b[0;32m    290\u001b[0m b \u001b[38;5;241m=\u001b[39m b \u001b[38;5;241m+\u001b[39m s\n\u001b[1;32m--> 291\u001b[0m n, err_code \u001b[38;5;241m=\u001b[39m \u001b[43mdecoder\u001b[49m\u001b[38;5;241;43m.\u001b[39;49m\u001b[43mdecode\u001b[49m\u001b[43m(\u001b[49m\u001b[43mb\u001b[49m\u001b[43m)\u001b[49m\n\u001b[0;32m    292\u001b[0m \u001b[38;5;28;01mif\u001b[39;00m n \u001b[38;5;241m<\u001b[39m \u001b[38;5;241m0\u001b[39m:\n\u001b[0;32m    293\u001b[0m     \u001b[38;5;28;01mbreak\u001b[39;00m\n",
      "\u001b[1;31mKeyboardInterrupt\u001b[0m: "
     ]
    }
   ],
   "source": [
    "if PROB1_EXPERIMENTS:\n",
    "    # Define hyperparameter search space\n",
    "    learning_rates = [0.0001, 0.001, 0.01, 0.1]\n",
    "    l2pen_mags = [0.0001, 0.001, 0.01, 0.1]\n",
    "    seeds = [42, 100, 123]\n",
    "    epochs = [30, 50, 100]\n",
    "\n",
    "    # Track best model\n",
    "    best_val_loss = float('inf')\n",
    "    best_hyperparams = None\n",
    "    best_model = None\n",
    "\n",
    "    # Loop through all combinations of hyperparameters\n",
    "    for lr, l2pen_mag, seed, epoch in itertools.product(learning_rates, l2pen_mags, seeds, epochs):\n",
    "        print(f\"Training with lr={lr}, l2pen_mag={l2pen_mag}, seed={seed}, epoch={epoch}\")\n",
    "        \n",
    "        # Set the seed\n",
    "        torch.manual_seed(seed)\n",
    "        torch.cuda.manual_seed(seed)\n",
    "        \n",
    "        # Create model with specified seed\n",
    "        resnet10_in = models.PretrainedResNetForBirdSnap10(\n",
    "            src_dataset='ImageNet1k', arch='ResNet10', n_trainable_layers=1, seed=seed\n",
    "        )\n",
    "        \n",
    "        # Train the model\n",
    "        current_model, current_info = train.train_model(\n",
    "            resnet10_in, device, train_loader, val_loader,\n",
    "            n_epochs=epoch,\n",
    "            lr=lr,\n",
    "            l2pen_mag=l2pen_mag,\n",
    "            data_order_seed=seed\n",
    "        )\n",
    "        \n",
    "        # Get validation loss from training info\n",
    "        val_loss = min(current_info['va']['xent'])\n",
    "        \n",
    "        # Update the best model if the current one is better\n",
    "        if val_loss < best_val_loss:\n",
    "            best_val_loss = val_loss\n",
    "            best_hyperparams = {'lr': lr, 'l2pen_mag': l2pen_mag, 'seed': seed, 'epoch': epoch}\n",
    "            best_model = current_model\n",
    "\n",
    "    # Output the best hyperparameters and validation loss\n",
    "    print(f\"Best validation loss: {best_val_loss}\")\n",
    "    print(f\"Best hyperparameters: {best_hyperparams}\")"
   ]
  },
  {
   "cell_type": "code",
   "execution_count": 27,
   "metadata": {},
   "outputs": [
    {
     "name": "stdout",
     "output_type": "stream",
     "text": [
      "Setup complete. Trainable parameter count=5130 over 2 tensors in layers: output.\n"
     ]
    },
    {
     "name": "stderr",
     "output_type": "stream",
     "text": [
      "100%|██████████| 31/31 [00:26<00:00,  1.16it/s, tr_xent=0.0251, tr_err=0, va_xent=0.397, va_err=0.12, batch_done=7]     "
     ]
    },
    {
     "name": "stdout",
     "output_type": "stream",
     "text": [
      "Finished after epoch 30, best epoch=23\n",
      "best va_xent 0.371\n",
      "best tr_err 0.000\n",
      "best va_err 0.130\n"
     ]
    },
    {
     "name": "stderr",
     "output_type": "stream",
     "text": [
      "\n"
     ]
    }
   ],
   "source": [
    "if PROB1_EXPERIMENTS:\n",
    "    seed = 42\n",
    "    resnet10_in = models.PretrainedResNetForBirdSnap10(\n",
    "        src_dataset='ImageNet1k', arch='ResNet10', n_trainable_layers=1, seed=seed)\n",
    "    best_model_rn10_in, best_info_rn10_in = train.train_model(resnet10_in, device, train_loader, val_loader,\n",
    "        n_epochs=30,\n",
    "        lr=0.01,\n",
    "        l2pen_mag=0.001, # no L2 penalty on weight magnitude\n",
    "        data_order_seed=seed,\n",
    "        )\n",
    "    best_info_rn10_in[\"lr\"] = 0.01\n",
    "    best_info_rn10_in[\"l2pen_mag\"] = 0.001\n",
    "    best_info_rn10_in[\"seed\"] = 42"
   ]
  },
  {
   "cell_type": "markdown",
   "metadata": {},
   "source": [
    "# Diagnostic plot: Error/loss vs epoch\n",
    "\n",
    "The plot below is just a demo of what you can plot. Values won't represent correct operation of model training until you run the code implementation tasks, and start training for longer (adjust n_epochs > 15).\n",
    "\n",
    "FYI: good practices already implemented info dict returned by train_model\n",
    "\n",
    "* Report perf on val on given initial model (epoch=0), before making any updates\n",
    "* Train perf metrics only kick in for epoch 1 and later (when we are doing updates)"
   ]
  },
  {
   "cell_type": "code",
   "execution_count": 31,
   "metadata": {},
   "outputs": [
    {
     "data": {
      "image/png": "[encoded data removed]",
      "text/plain": [
       "<Figure size 800x550 with 1 Axes>"
      ]
     },
     "metadata": {},
     "output_type": "display_data"
    }
   ],
   "source": [
    "plt.plot(best_info_rn10_in['epochs'], best_info_rn10_in['tr']['loss'], '--', color='b', label='tr loss')\n",
    "plt.plot(best_info_rn10_in['epochs'], best_info_rn10_in['tr']['err'], '-', color='b', label='tr err')\n",
    "\n",
    "plt.plot(best_info_rn10_in['epochs'], best_info_rn10_in['va']['xent'], '--', color='r', label='va xent')\n",
    "plt.plot(best_info_rn10_in['epochs'], best_info_rn10_in['va']['err'], '-', color='r', label='va err')\n",
    "plt.legend();"
   ]
  },
  {
   "cell_type": "markdown",
   "metadata": {},
   "source": [
    "**Pro Tip:** Consider storing your \"best\" runs to disk, using code like below"
   ]
  },
  {
   "cell_type": "markdown",
   "metadata": {},
   "source": [
    "**TODO** repeat the above for each config in ('ResNet10', 'ResNet26') and ('ImageNet1k', 'CUB')"
   ]
  },
  {
   "cell_type": "code",
   "execution_count": 26,
   "metadata": {},
   "outputs": [
    {
     "name": "stdout",
     "output_type": "stream",
     "text": [
      "Training with lr=0.0001, l2pen_mag=0.0001, seed=42, epoch=30\n",
      "Setup complete. Trainable parameter count=5130 over 2 tensors in layers: output.\n"
     ]
    },
    {
     "name": "stderr",
     "output_type": "stream",
     "text": [
      "100%|██████████| 31/31 [00:26<00:00,  1.17it/s, tr_xent=1.92, tr_err=0.417, va_xent=1.99, va_err=0.53, batch_done=7]\n"
     ]
    },
    {
     "name": "stdout",
     "output_type": "stream",
     "text": [
      "Finished after epoch 30, best epoch=30\n",
      "best va_xent 1.985\n",
      "best tr_err 0.417\n",
      "best va_err 0.530\n",
      "Training with lr=0.0001, l2pen_mag=0.0001, seed=42, epoch=50\n",
      "Setup complete. Trainable parameter count=5130 over 2 tensors in layers: output.\n"
     ]
    },
    {
     "name": "stderr",
     "output_type": "stream",
     "text": [
      "100%|██████████| 51/51 [00:45<00:00,  1.12it/s, tr_xent=1.69, tr_err=0.312, va_xent=1.83, va_err=0.46, batch_done=7]\n"
     ]
    },
    {
     "name": "stdout",
     "output_type": "stream",
     "text": [
      "Finished after epoch 50, best epoch=50\n",
      "best va_xent 1.830\n",
      "best tr_err 0.312\n",
      "best va_err 0.460\n",
      "Training with lr=0.0001, l2pen_mag=0.0001, seed=42, epoch=100\n",
      "Setup complete. Trainable parameter count=5130 over 2 tensors in layers: output.\n"
     ]
    },
    {
     "name": "stderr",
     "output_type": "stream",
     "text": [
      "100%|██████████| 101/101 [01:28<00:00,  1.14it/s, tr_xent=1.34, tr_err=0.25, va_xent=1.55, va_err=0.42, batch_done=7] \n"
     ]
    },
    {
     "name": "stdout",
     "output_type": "stream",
     "text": [
      "Finished after epoch 100, best epoch=100\n",
      "best va_xent 1.554\n",
      "best tr_err 0.250\n",
      "best va_err 0.420\n",
      "Training with lr=0.0001, l2pen_mag=0.0001, seed=100, epoch=30\n",
      "Setup complete. Trainable parameter count=5130 over 2 tensors in layers: output.\n"
     ]
    },
    {
     "name": "stderr",
     "output_type": "stream",
     "text": [
      "100%|██████████| 31/31 [00:26<00:00,  1.17it/s, tr_xent=1.89, tr_err=0.41, va_xent=2, va_err=0.52, batch_done=7]    \n"
     ]
    },
    {
     "name": "stdout",
     "output_type": "stream",
     "text": [
      "Finished after epoch 30, best epoch=30\n",
      "best va_xent 2.000\n",
      "best tr_err 0.410\n",
      "best va_err 0.520\n",
      "Training with lr=0.0001, l2pen_mag=0.0001, seed=100, epoch=50\n",
      "Setup complete. Trainable parameter count=5130 over 2 tensors in layers: output.\n"
     ]
    },
    {
     "name": "stderr",
     "output_type": "stream",
     "text": [
      "100%|██████████| 51/51 [00:44<00:00,  1.15it/s, tr_xent=1.67, tr_err=0.325, va_xent=1.84, va_err=0.48, batch_done=7]\n"
     ]
    },
    {
     "name": "stdout",
     "output_type": "stream",
     "text": [
      "Finished after epoch 50, best epoch=50\n",
      "best va_xent 1.835\n",
      "best tr_err 0.325\n",
      "best va_err 0.480\n",
      "Training with lr=0.0001, l2pen_mag=0.0001, seed=100, epoch=100\n",
      "Setup complete. Trainable parameter count=5130 over 2 tensors in layers: output.\n"
     ]
    },
    {
     "name": "stderr",
     "output_type": "stream",
     "text": [
      "100%|██████████| 101/101 [01:28<00:00,  1.14it/s, tr_xent=1.32, tr_err=0.265, va_xent=1.57, va_err=0.45, batch_done=7]\n"
     ]
    },
    {
     "name": "stdout",
     "output_type": "stream",
     "text": [
      "Finished after epoch 100, best epoch=100\n",
      "best va_xent 1.572\n",
      "best tr_err 0.265\n",
      "best va_err 0.450\n",
      "Training with lr=0.0001, l2pen_mag=0.0001, seed=123, epoch=30\n",
      "Setup complete. Trainable parameter count=5130 over 2 tensors in layers: output.\n"
     ]
    },
    {
     "name": "stderr",
     "output_type": "stream",
     "text": [
      "100%|██████████| 31/31 [00:26<00:00,  1.16it/s, tr_xent=1.89, tr_err=0.385, va_xent=1.97, va_err=0.52, batch_done=7]\n"
     ]
    },
    {
     "name": "stdout",
     "output_type": "stream",
     "text": [
      "Finished after epoch 30, best epoch=30\n",
      "best va_xent 1.967\n",
      "best tr_err 0.385\n",
      "best va_err 0.520\n",
      "Training with lr=0.0001, l2pen_mag=0.0001, seed=123, epoch=50\n",
      "Setup complete. Trainable parameter count=5130 over 2 tensors in layers: output.\n"
     ]
    },
    {
     "name": "stderr",
     "output_type": "stream",
     "text": [
      "100%|██████████| 51/51 [00:44<00:00,  1.15it/s, tr_xent=1.67, tr_err=0.292, va_xent=1.81, va_err=0.47, batch_done=7]\n"
     ]
    },
    {
     "name": "stdout",
     "output_type": "stream",
     "text": [
      "Finished after epoch 50, best epoch=50\n",
      "best va_xent 1.807\n",
      "best tr_err 0.292\n",
      "best va_err 0.470\n",
      "Training with lr=0.0001, l2pen_mag=0.0001, seed=123, epoch=100\n",
      "Setup complete. Trainable parameter count=5130 over 2 tensors in layers: output.\n"
     ]
    },
    {
     "name": "stderr",
     "output_type": "stream",
     "text": [
      "100%|██████████| 101/101 [01:28<00:00,  1.15it/s, tr_xent=1.32, tr_err=0.245, va_xent=1.55, va_err=0.42, batch_done=7]\n"
     ]
    },
    {
     "name": "stdout",
     "output_type": "stream",
     "text": [
      "Finished after epoch 100, best epoch=100\n",
      "best va_xent 1.549\n",
      "best tr_err 0.245\n",
      "best va_err 0.420\n",
      "Training with lr=0.0001, l2pen_mag=0.001, seed=42, epoch=30\n",
      "Setup complete. Trainable parameter count=5130 over 2 tensors in layers: output.\n"
     ]
    },
    {
     "name": "stderr",
     "output_type": "stream",
     "text": [
      "100%|██████████| 31/31 [00:26<00:00,  1.16it/s, tr_xent=1.92, tr_err=0.417, va_xent=1.99, va_err=0.53, batch_done=7]\n"
     ]
    },
    {
     "name": "stdout",
     "output_type": "stream",
     "text": [
      "Finished after epoch 30, best epoch=30\n",
      "best va_xent 1.985\n",
      "best tr_err 0.417\n",
      "best va_err 0.530\n",
      "Training with lr=0.0001, l2pen_mag=0.001, seed=42, epoch=50\n",
      "Setup complete. Trainable parameter count=5130 over 2 tensors in layers: output.\n"
     ]
    },
    {
     "name": "stderr",
     "output_type": "stream",
     "text": [
      "100%|██████████| 51/51 [00:44<00:00,  1.15it/s, tr_xent=1.69, tr_err=0.312, va_xent=1.83, va_err=0.46, batch_done=7]\n"
     ]
    },
    {
     "name": "stdout",
     "output_type": "stream",
     "text": [
      "Finished after epoch 50, best epoch=50\n",
      "best va_xent 1.830\n",
      "best tr_err 0.312\n",
      "best va_err 0.460\n",
      "Training with lr=0.0001, l2pen_mag=0.001, seed=42, epoch=100\n",
      "Setup complete. Trainable parameter count=5130 over 2 tensors in layers: output.\n"
     ]
    },
    {
     "name": "stderr",
     "output_type": "stream",
     "text": [
      "100%|██████████| 101/101 [01:28<00:00,  1.14it/s, tr_xent=1.34, tr_err=0.25, va_xent=1.55, va_err=0.42, batch_done=7] \n"
     ]
    },
    {
     "name": "stdout",
     "output_type": "stream",
     "text": [
      "Finished after epoch 100, best epoch=100\n",
      "best va_xent 1.554\n",
      "best tr_err 0.250\n",
      "best va_err 0.420\n",
      "Training with lr=0.0001, l2pen_mag=0.001, seed=100, epoch=30\n",
      "Setup complete. Trainable parameter count=5130 over 2 tensors in layers: output.\n"
     ]
    },
    {
     "name": "stderr",
     "output_type": "stream",
     "text": [
      "100%|██████████| 31/31 [00:26<00:00,  1.15it/s, tr_xent=1.89, tr_err=0.41, va_xent=2, va_err=0.52, batch_done=7]    \n"
     ]
    },
    {
     "name": "stdout",
     "output_type": "stream",
     "text": [
      "Finished after epoch 30, best epoch=30\n",
      "best va_xent 2.000\n",
      "best tr_err 0.410\n",
      "best va_err 0.520\n",
      "Training with lr=0.0001, l2pen_mag=0.001, seed=100, epoch=50\n",
      "Setup complete. Trainable parameter count=5130 over 2 tensors in layers: output.\n"
     ]
    },
    {
     "name": "stderr",
     "output_type": "stream",
     "text": [
      "100%|██████████| 51/51 [00:44<00:00,  1.14it/s, tr_xent=1.67, tr_err=0.325, va_xent=1.84, va_err=0.48, batch_done=7]\n"
     ]
    },
    {
     "name": "stdout",
     "output_type": "stream",
     "text": [
      "Finished after epoch 50, best epoch=50\n",
      "best va_xent 1.835\n",
      "best tr_err 0.325\n",
      "best va_err 0.480\n",
      "Training with lr=0.0001, l2pen_mag=0.001, seed=100, epoch=100\n",
      "Setup complete. Trainable parameter count=5130 over 2 tensors in layers: output.\n"
     ]
    },
    {
     "name": "stderr",
     "output_type": "stream",
     "text": [
      "100%|██████████| 101/101 [01:28<00:00,  1.14it/s, tr_xent=1.32, tr_err=0.265, va_xent=1.57, va_err=0.45, batch_done=7]\n"
     ]
    },
    {
     "name": "stdout",
     "output_type": "stream",
     "text": [
      "Finished after epoch 100, best epoch=100\n",
      "best va_xent 1.572\n",
      "best tr_err 0.265\n",
      "best va_err 0.450\n",
      "Training with lr=0.0001, l2pen_mag=0.001, seed=123, epoch=30\n",
      "Setup complete. Trainable parameter count=5130 over 2 tensors in layers: output.\n"
     ]
    },
    {
     "name": "stderr",
     "output_type": "stream",
     "text": [
      "100%|██████████| 31/31 [00:26<00:00,  1.16it/s, tr_xent=1.89, tr_err=0.385, va_xent=1.97, va_err=0.52, batch_done=7]\n"
     ]
    },
    {
     "name": "stdout",
     "output_type": "stream",
     "text": [
      "Finished after epoch 30, best epoch=30\n",
      "best va_xent 1.967\n",
      "best tr_err 0.385\n",
      "best va_err 0.520\n",
      "Training with lr=0.0001, l2pen_mag=0.001, seed=123, epoch=50\n",
      "Setup complete. Trainable parameter count=5130 over 2 tensors in layers: output.\n"
     ]
    },
    {
     "name": "stderr",
     "output_type": "stream",
     "text": [
      "100%|██████████| 51/51 [00:44<00:00,  1.15it/s, tr_xent=1.67, tr_err=0.292, va_xent=1.81, va_err=0.47, batch_done=7]\n"
     ]
    },
    {
     "name": "stdout",
     "output_type": "stream",
     "text": [
      "Finished after epoch 50, best epoch=50\n",
      "best va_xent 1.807\n",
      "best tr_err 0.292\n",
      "best va_err 0.470\n",
      "Training with lr=0.0001, l2pen_mag=0.001, seed=123, epoch=100\n",
      "Setup complete. Trainable parameter count=5130 over 2 tensors in layers: output.\n"
     ]
    },
    {
     "name": "stderr",
     "output_type": "stream",
     "text": [
      "100%|██████████| 101/101 [01:27<00:00,  1.15it/s, tr_xent=1.32, tr_err=0.245, va_xent=1.55, va_err=0.42, batch_done=7]\n"
     ]
    },
    {
     "name": "stdout",
     "output_type": "stream",
     "text": [
      "Finished after epoch 100, best epoch=100\n",
      "best va_xent 1.549\n",
      "best tr_err 0.245\n",
      "best va_err 0.420\n",
      "Training with lr=0.0001, l2pen_mag=0.01, seed=42, epoch=30\n",
      "Setup complete. Trainable parameter count=5130 over 2 tensors in layers: output.\n"
     ]
    },
    {
     "name": "stderr",
     "output_type": "stream",
     "text": [
      "100%|██████████| 31/31 [00:26<00:00,  1.16it/s, tr_xent=1.92, tr_err=0.417, va_xent=1.99, va_err=0.53, batch_done=7]\n"
     ]
    },
    {
     "name": "stdout",
     "output_type": "stream",
     "text": [
      "Finished after epoch 30, best epoch=30\n",
      "best va_xent 1.985\n",
      "best tr_err 0.417\n",
      "best va_err 0.530\n",
      "Training with lr=0.0001, l2pen_mag=0.01, seed=42, epoch=50\n",
      "Setup complete. Trainable parameter count=5130 over 2 tensors in layers: output.\n"
     ]
    },
    {
     "name": "stderr",
     "output_type": "stream",
     "text": [
      "100%|██████████| 51/51 [00:45<00:00,  1.12it/s, tr_xent=1.69, tr_err=0.312, va_xent=1.83, va_err=0.46, batch_done=7]\n"
     ]
    },
    {
     "name": "stdout",
     "output_type": "stream",
     "text": [
      "Finished after epoch 50, best epoch=50\n",
      "best va_xent 1.830\n",
      "best tr_err 0.312\n",
      "best va_err 0.460\n",
      "Training with lr=0.0001, l2pen_mag=0.01, seed=42, epoch=100\n",
      "Setup complete. Trainable parameter count=5130 over 2 tensors in layers: output.\n"
     ]
    },
    {
     "name": "stderr",
     "output_type": "stream",
     "text": [
      "100%|██████████| 101/101 [01:30<00:00,  1.11it/s, tr_xent=1.34, tr_err=0.25, va_xent=1.55, va_err=0.42, batch_done=7] \n"
     ]
    },
    {
     "name": "stdout",
     "output_type": "stream",
     "text": [
      "Finished after epoch 100, best epoch=100\n",
      "best va_xent 1.554\n",
      "best tr_err 0.250\n",
      "best va_err 0.420\n",
      "Training with lr=0.0001, l2pen_mag=0.01, seed=100, epoch=30\n",
      "Setup complete. Trainable parameter count=5130 over 2 tensors in layers: output.\n"
     ]
    },
    {
     "name": "stderr",
     "output_type": "stream",
     "text": [
      "100%|██████████| 31/31 [00:26<00:00,  1.17it/s, tr_xent=1.89, tr_err=0.41, va_xent=2, va_err=0.52, batch_done=7]    \n"
     ]
    },
    {
     "name": "stdout",
     "output_type": "stream",
     "text": [
      "Finished after epoch 30, best epoch=30\n",
      "best va_xent 2.000\n",
      "best tr_err 0.410\n",
      "best va_err 0.520\n",
      "Training with lr=0.0001, l2pen_mag=0.01, seed=100, epoch=50\n",
      "Setup complete. Trainable parameter count=5130 over 2 tensors in layers: output.\n"
     ]
    },
    {
     "name": "stderr",
     "output_type": "stream",
     "text": [
      "100%|██████████| 51/51 [00:44<00:00,  1.14it/s, tr_xent=1.67, tr_err=0.325, va_xent=1.84, va_err=0.48, batch_done=7]\n"
     ]
    },
    {
     "name": "stdout",
     "output_type": "stream",
     "text": [
      "Finished after epoch 50, best epoch=50\n",
      "best va_xent 1.835\n",
      "best tr_err 0.325\n",
      "best va_err 0.480\n",
      "Training with lr=0.0001, l2pen_mag=0.01, seed=100, epoch=100\n",
      "Setup complete. Trainable parameter count=5130 over 2 tensors in layers: output.\n"
     ]
    },
    {
     "name": "stderr",
     "output_type": "stream",
     "text": [
      "100%|██████████| 101/101 [01:30<00:00,  1.12it/s, tr_xent=1.32, tr_err=0.265, va_xent=1.57, va_err=0.45, batch_done=7]\n"
     ]
    },
    {
     "name": "stdout",
     "output_type": "stream",
     "text": [
      "Finished after epoch 100, best epoch=100\n",
      "best va_xent 1.572\n",
      "best tr_err 0.265\n",
      "best va_err 0.450\n",
      "Training with lr=0.0001, l2pen_mag=0.01, seed=123, epoch=30\n",
      "Setup complete. Trainable parameter count=5130 over 2 tensors in layers: output.\n"
     ]
    },
    {
     "name": "stderr",
     "output_type": "stream",
     "text": [
      "100%|██████████| 31/31 [00:27<00:00,  1.13it/s, tr_xent=1.89, tr_err=0.385, va_xent=1.97, va_err=0.52, batch_done=7]\n"
     ]
    },
    {
     "name": "stdout",
     "output_type": "stream",
     "text": [
      "Finished after epoch 30, best epoch=30\n",
      "best va_xent 1.967\n",
      "best tr_err 0.385\n",
      "best va_err 0.520\n",
      "Training with lr=0.0001, l2pen_mag=0.01, seed=123, epoch=50\n",
      "Setup complete. Trainable parameter count=5130 over 2 tensors in layers: output.\n"
     ]
    },
    {
     "name": "stderr",
     "output_type": "stream",
     "text": [
      "100%|██████████| 51/51 [00:44<00:00,  1.14it/s, tr_xent=1.67, tr_err=0.292, va_xent=1.81, va_err=0.47, batch_done=7]\n"
     ]
    },
    {
     "name": "stdout",
     "output_type": "stream",
     "text": [
      "Finished after epoch 50, best epoch=50\n",
      "best va_xent 1.807\n",
      "best tr_err 0.292\n",
      "best va_err 0.470\n",
      "Training with lr=0.0001, l2pen_mag=0.01, seed=123, epoch=100\n",
      "Setup complete. Trainable parameter count=5130 over 2 tensors in layers: output.\n"
     ]
    },
    {
     "name": "stderr",
     "output_type": "stream",
     "text": [
      "100%|██████████| 101/101 [01:29<00:00,  1.13it/s, tr_xent=1.32, tr_err=0.245, va_xent=1.55, va_err=0.42, batch_done=7]\n"
     ]
    },
    {
     "name": "stdout",
     "output_type": "stream",
     "text": [
      "Finished after epoch 100, best epoch=100\n",
      "best va_xent 1.549\n",
      "best tr_err 0.245\n",
      "best va_err 0.420\n",
      "Training with lr=0.001, l2pen_mag=0.0001, seed=42, epoch=30\n",
      "Setup complete. Trainable parameter count=5130 over 2 tensors in layers: output.\n"
     ]
    },
    {
     "name": "stderr",
     "output_type": "stream",
     "text": [
      "100%|██████████| 31/31 [00:26<00:00,  1.15it/s, tr_xent=0.824, tr_err=0.182, va_xent=1.23, va_err=0.4, batch_done=7] \n"
     ]
    },
    {
     "name": "stdout",
     "output_type": "stream",
     "text": [
      "Finished after epoch 30, best epoch=29\n",
      "best va_xent 1.214\n",
      "best tr_err 0.185\n",
      "best va_err 0.430\n",
      "Training with lr=0.001, l2pen_mag=0.0001, seed=42, epoch=50\n",
      "Setup complete. Trainable parameter count=5130 over 2 tensors in layers: output.\n"
     ]
    },
    {
     "name": "stderr",
     "output_type": "stream",
     "text": [
      "100%|██████████| 51/51 [00:44<00:00,  1.14it/s, tr_xent=0.579, tr_err=0.115, va_xent=1.11, va_err=0.4, batch_done=7] \n"
     ]
    },
    {
     "name": "stdout",
     "output_type": "stream",
     "text": [
      "Finished after epoch 50, best epoch=50\n",
      "best va_xent 1.107\n",
      "best tr_err 0.115\n",
      "best va_err 0.400\n",
      "Training with lr=0.001, l2pen_mag=0.0001, seed=42, epoch=100\n",
      "Setup complete. Trainable parameter count=5130 over 2 tensors in layers: output.\n"
     ]
    },
    {
     "name": "stderr",
     "output_type": "stream",
     "text": [
      "100%|██████████| 101/101 [01:27<00:00,  1.16it/s, tr_xent=0.389, tr_err=0.0675, va_xent=0.993, va_err=0.32, batch_done=7]\n"
     ]
    },
    {
     "name": "stdout",
     "output_type": "stream",
     "text": [
      "Finished after epoch 100, best epoch=99\n",
      "best va_xent 0.986\n",
      "best tr_err 0.080\n",
      "best va_err 0.330\n",
      "Training with lr=0.001, l2pen_mag=0.0001, seed=100, epoch=30\n",
      "Setup complete. Trainable parameter count=5130 over 2 tensors in layers: output.\n"
     ]
    },
    {
     "name": "stderr",
     "output_type": "stream",
     "text": [
      "100%|██████████| 31/31 [00:26<00:00,  1.17it/s, tr_xent=0.771, tr_err=0.163, va_xent=1.21, va_err=0.42, batch_done=7]\n"
     ]
    },
    {
     "name": "stdout",
     "output_type": "stream",
     "text": [
      "Finished after epoch 30, best epoch=30\n",
      "best va_xent 1.211\n",
      "best tr_err 0.163\n",
      "best va_err 0.420\n",
      "Training with lr=0.001, l2pen_mag=0.0001, seed=100, epoch=50\n",
      "Setup complete. Trainable parameter count=5130 over 2 tensors in layers: output.\n"
     ]
    },
    {
     "name": "stderr",
     "output_type": "stream",
     "text": [
      "100%|██████████| 51/51 [00:43<00:00,  1.16it/s, tr_xent=0.574, tr_err=0.115, va_xent=1.1, va_err=0.39, batch_done=7] \n"
     ]
    },
    {
     "name": "stdout",
     "output_type": "stream",
     "text": [
      "Finished after epoch 50, best epoch=50\n",
      "best va_xent 1.102\n",
      "best tr_err 0.115\n",
      "best va_err 0.390\n",
      "Training with lr=0.001, l2pen_mag=0.0001, seed=100, epoch=100\n",
      "Setup complete. Trainable parameter count=5130 over 2 tensors in layers: output.\n"
     ]
    },
    {
     "name": "stderr",
     "output_type": "stream",
     "text": [
      "100%|██████████| 101/101 [01:28<00:00,  1.14it/s, tr_xent=0.369, tr_err=0.08, va_xent=0.975, va_err=0.33, batch_done=7] \n"
     ]
    },
    {
     "name": "stdout",
     "output_type": "stream",
     "text": [
      "Finished after epoch 100, best epoch=100\n",
      "best va_xent 0.975\n",
      "best tr_err 0.080\n",
      "best va_err 0.330\n",
      "Training with lr=0.001, l2pen_mag=0.0001, seed=123, epoch=30\n",
      "Setup complete. Trainable parameter count=5130 over 2 tensors in layers: output.\n"
     ]
    },
    {
     "name": "stderr",
     "output_type": "stream",
     "text": [
      "100%|██████████| 31/31 [00:26<00:00,  1.17it/s, tr_xent=0.784, tr_err=0.177, va_xent=1.2, va_err=0.45, batch_done=7] \n"
     ]
    },
    {
     "name": "stdout",
     "output_type": "stream",
     "text": [
      "Finished after epoch 30, best epoch=30\n",
      "best va_xent 1.198\n",
      "best tr_err 0.177\n",
      "best va_err 0.450\n",
      "Training with lr=0.001, l2pen_mag=0.0001, seed=123, epoch=50\n",
      "Setup complete. Trainable parameter count=5130 over 2 tensors in layers: output.\n"
     ]
    },
    {
     "name": "stderr",
     "output_type": "stream",
     "text": [
      "100%|██████████| 51/51 [00:43<00:00,  1.16it/s, tr_xent=0.577, tr_err=0.138, va_xent=1.1, va_err=0.41, batch_done=7] \n"
     ]
    },
    {
     "name": "stdout",
     "output_type": "stream",
     "text": [
      "Finished after epoch 50, best epoch=50\n",
      "best va_xent 1.104\n",
      "best tr_err 0.138\n",
      "best va_err 0.410\n",
      "Training with lr=0.001, l2pen_mag=0.0001, seed=123, epoch=100\n",
      "Setup complete. Trainable parameter count=5130 over 2 tensors in layers: output.\n"
     ]
    },
    {
     "name": "stderr",
     "output_type": "stream",
     "text": [
      "100%|██████████| 101/101 [01:27<00:00,  1.16it/s, tr_xent=0.364, tr_err=0.0725, va_xent=0.989, va_err=0.33, batch_done=7]\n"
     ]
    },
    {
     "name": "stdout",
     "output_type": "stream",
     "text": [
      "Finished after epoch 100, best epoch=97\n",
      "best va_xent 0.987\n",
      "best tr_err 0.072\n",
      "best va_err 0.330\n",
      "Training with lr=0.001, l2pen_mag=0.001, seed=42, epoch=30\n",
      "Setup complete. Trainable parameter count=5130 over 2 tensors in layers: output.\n"
     ]
    },
    {
     "name": "stderr",
     "output_type": "stream",
     "text": [
      "100%|██████████| 31/31 [00:26<00:00,  1.17it/s, tr_xent=0.824, tr_err=0.182, va_xent=1.23, va_err=0.4, batch_done=7] \n"
     ]
    },
    {
     "name": "stdout",
     "output_type": "stream",
     "text": [
      "Finished after epoch 30, best epoch=29\n",
      "best va_xent 1.214\n",
      "best tr_err 0.185\n",
      "best va_err 0.430\n",
      "Training with lr=0.001, l2pen_mag=0.001, seed=42, epoch=50\n",
      "Setup complete. Trainable parameter count=5130 over 2 tensors in layers: output.\n"
     ]
    },
    {
     "name": "stderr",
     "output_type": "stream",
     "text": [
      "100%|██████████| 51/51 [00:44<00:00,  1.15it/s, tr_xent=0.579, tr_err=0.115, va_xent=1.11, va_err=0.4, batch_done=7] \n"
     ]
    },
    {
     "name": "stdout",
     "output_type": "stream",
     "text": [
      "Finished after epoch 50, best epoch=50\n",
      "best va_xent 1.107\n",
      "best tr_err 0.115\n",
      "best va_err 0.400\n",
      "Training with lr=0.001, l2pen_mag=0.001, seed=42, epoch=100\n",
      "Setup complete. Trainable parameter count=5130 over 2 tensors in layers: output.\n"
     ]
    },
    {
     "name": "stderr",
     "output_type": "stream",
     "text": [
      "100%|██████████| 101/101 [01:26<00:00,  1.16it/s, tr_xent=0.389, tr_err=0.0675, va_xent=0.993, va_err=0.32, batch_done=7]\n"
     ]
    },
    {
     "name": "stdout",
     "output_type": "stream",
     "text": [
      "Finished after epoch 100, best epoch=99\n",
      "best va_xent 0.986\n",
      "best tr_err 0.080\n",
      "best va_err 0.330\n",
      "Training with lr=0.001, l2pen_mag=0.001, seed=100, epoch=30\n",
      "Setup complete. Trainable parameter count=5130 over 2 tensors in layers: output.\n"
     ]
    },
    {
     "name": "stderr",
     "output_type": "stream",
     "text": [
      "100%|██████████| 31/31 [00:26<00:00,  1.17it/s, tr_xent=0.771, tr_err=0.163, va_xent=1.21, va_err=0.42, batch_done=7]\n"
     ]
    },
    {
     "name": "stdout",
     "output_type": "stream",
     "text": [
      "Finished after epoch 30, best epoch=30\n",
      "best va_xent 1.211\n",
      "best tr_err 0.163\n",
      "best va_err 0.420\n",
      "Training with lr=0.001, l2pen_mag=0.001, seed=100, epoch=50\n",
      "Setup complete. Trainable parameter count=5130 over 2 tensors in layers: output.\n"
     ]
    },
    {
     "name": "stderr",
     "output_type": "stream",
     "text": [
      "100%|██████████| 51/51 [00:44<00:00,  1.15it/s, tr_xent=0.574, tr_err=0.115, va_xent=1.1, va_err=0.39, batch_done=7] \n"
     ]
    },
    {
     "name": "stdout",
     "output_type": "stream",
     "text": [
      "Finished after epoch 50, best epoch=50\n",
      "best va_xent 1.102\n",
      "best tr_err 0.115\n",
      "best va_err 0.390\n",
      "Training with lr=0.001, l2pen_mag=0.001, seed=100, epoch=100\n",
      "Setup complete. Trainable parameter count=5130 over 2 tensors in layers: output.\n"
     ]
    },
    {
     "name": "stderr",
     "output_type": "stream",
     "text": [
      "100%|██████████| 101/101 [01:26<00:00,  1.17it/s, tr_xent=0.369, tr_err=0.08, va_xent=0.975, va_err=0.33, batch_done=7] \n"
     ]
    },
    {
     "name": "stdout",
     "output_type": "stream",
     "text": [
      "Finished after epoch 100, best epoch=100\n",
      "best va_xent 0.975\n",
      "best tr_err 0.080\n",
      "best va_err 0.330\n",
      "Training with lr=0.001, l2pen_mag=0.001, seed=123, epoch=30\n",
      "Setup complete. Trainable parameter count=5130 over 2 tensors in layers: output.\n"
     ]
    },
    {
     "name": "stderr",
     "output_type": "stream",
     "text": [
      "100%|██████████| 31/31 [00:26<00:00,  1.16it/s, tr_xent=0.784, tr_err=0.177, va_xent=1.2, va_err=0.45, batch_done=7] \n"
     ]
    },
    {
     "name": "stdout",
     "output_type": "stream",
     "text": [
      "Finished after epoch 30, best epoch=30\n",
      "best va_xent 1.198\n",
      "best tr_err 0.177\n",
      "best va_err 0.450\n",
      "Training with lr=0.001, l2pen_mag=0.001, seed=123, epoch=50\n",
      "Setup complete. Trainable parameter count=5130 over 2 tensors in layers: output.\n"
     ]
    },
    {
     "name": "stderr",
     "output_type": "stream",
     "text": [
      "100%|██████████| 51/51 [00:43<00:00,  1.17it/s, tr_xent=0.577, tr_err=0.138, va_xent=1.1, va_err=0.41, batch_done=7] \n"
     ]
    },
    {
     "name": "stdout",
     "output_type": "stream",
     "text": [
      "Finished after epoch 50, best epoch=50\n",
      "best va_xent 1.104\n",
      "best tr_err 0.138\n",
      "best va_err 0.410\n",
      "Training with lr=0.001, l2pen_mag=0.001, seed=123, epoch=100\n",
      "Setup complete. Trainable parameter count=5130 over 2 tensors in layers: output.\n"
     ]
    },
    {
     "name": "stderr",
     "output_type": "stream",
     "text": [
      "100%|██████████| 101/101 [01:26<00:00,  1.16it/s, tr_xent=0.364, tr_err=0.0725, va_xent=0.989, va_err=0.33, batch_done=7]\n"
     ]
    },
    {
     "name": "stdout",
     "output_type": "stream",
     "text": [
      "Finished after epoch 100, best epoch=97\n",
      "best va_xent 0.987\n",
      "best tr_err 0.072\n",
      "best va_err 0.330\n",
      "Training with lr=0.001, l2pen_mag=0.01, seed=42, epoch=30\n",
      "Setup complete. Trainable parameter count=5130 over 2 tensors in layers: output.\n"
     ]
    },
    {
     "name": "stderr",
     "output_type": "stream",
     "text": [
      "100%|██████████| 31/31 [00:26<00:00,  1.17it/s, tr_xent=0.824, tr_err=0.182, va_xent=1.23, va_err=0.4, batch_done=7] \n"
     ]
    },
    {
     "name": "stdout",
     "output_type": "stream",
     "text": [
      "Finished after epoch 30, best epoch=29\n",
      "best va_xent 1.214\n",
      "best tr_err 0.185\n",
      "best va_err 0.430\n",
      "Training with lr=0.001, l2pen_mag=0.01, seed=42, epoch=50\n",
      "Setup complete. Trainable parameter count=5130 over 2 tensors in layers: output.\n"
     ]
    },
    {
     "name": "stderr",
     "output_type": "stream",
     "text": [
      "100%|██████████| 51/51 [00:43<00:00,  1.17it/s, tr_xent=0.579, tr_err=0.115, va_xent=1.11, va_err=0.4, batch_done=7] \n"
     ]
    },
    {
     "name": "stdout",
     "output_type": "stream",
     "text": [
      "Finished after epoch 50, best epoch=50\n",
      "best va_xent 1.107\n",
      "best tr_err 0.115\n",
      "best va_err 0.400\n",
      "Training with lr=0.001, l2pen_mag=0.01, seed=42, epoch=100\n",
      "Setup complete. Trainable parameter count=5130 over 2 tensors in layers: output.\n"
     ]
    },
    {
     "name": "stderr",
     "output_type": "stream",
     "text": [
      "100%|██████████| 101/101 [01:27<00:00,  1.16it/s, tr_xent=0.389, tr_err=0.0675, va_xent=0.993, va_err=0.32, batch_done=7]\n"
     ]
    },
    {
     "name": "stdout",
     "output_type": "stream",
     "text": [
      "Finished after epoch 100, best epoch=99\n",
      "best va_xent 0.986\n",
      "best tr_err 0.080\n",
      "best va_err 0.330\n",
      "Training with lr=0.001, l2pen_mag=0.01, seed=100, epoch=30\n",
      "Setup complete. Trainable parameter count=5130 over 2 tensors in layers: output.\n"
     ]
    },
    {
     "name": "stderr",
     "output_type": "stream",
     "text": [
      "100%|██████████| 31/31 [00:27<00:00,  1.14it/s, tr_xent=0.771, tr_err=0.163, va_xent=1.21, va_err=0.42, batch_done=7]\n"
     ]
    },
    {
     "name": "stdout",
     "output_type": "stream",
     "text": [
      "Finished after epoch 30, best epoch=30\n",
      "best va_xent 1.211\n",
      "best tr_err 0.163\n",
      "best va_err 0.420\n",
      "Training with lr=0.001, l2pen_mag=0.01, seed=100, epoch=50\n",
      "Setup complete. Trainable parameter count=5130 over 2 tensors in layers: output.\n"
     ]
    },
    {
     "name": "stderr",
     "output_type": "stream",
     "text": [
      "100%|██████████| 51/51 [00:44<00:00,  1.16it/s, tr_xent=0.574, tr_err=0.115, va_xent=1.1, va_err=0.39, batch_done=7] \n"
     ]
    },
    {
     "name": "stdout",
     "output_type": "stream",
     "text": [
      "Finished after epoch 50, best epoch=50\n",
      "best va_xent 1.102\n",
      "best tr_err 0.115\n",
      "best va_err 0.390\n",
      "Training with lr=0.001, l2pen_mag=0.01, seed=100, epoch=100\n",
      "Setup complete. Trainable parameter count=5130 over 2 tensors in layers: output.\n"
     ]
    },
    {
     "name": "stderr",
     "output_type": "stream",
     "text": [
      "100%|██████████| 101/101 [01:26<00:00,  1.17it/s, tr_xent=0.369, tr_err=0.08, va_xent=0.975, va_err=0.33, batch_done=7] \n"
     ]
    },
    {
     "name": "stdout",
     "output_type": "stream",
     "text": [
      "Finished after epoch 100, best epoch=100\n",
      "best va_xent 0.975\n",
      "best tr_err 0.080\n",
      "best va_err 0.330\n",
      "Training with lr=0.001, l2pen_mag=0.01, seed=123, epoch=30\n",
      "Setup complete. Trainable parameter count=5130 over 2 tensors in layers: output.\n"
     ]
    },
    {
     "name": "stderr",
     "output_type": "stream",
     "text": [
      "100%|██████████| 31/31 [00:26<00:00,  1.16it/s, tr_xent=0.784, tr_err=0.177, va_xent=1.2, va_err=0.45, batch_done=7] \n"
     ]
    },
    {
     "name": "stdout",
     "output_type": "stream",
     "text": [
      "Finished after epoch 30, best epoch=30\n",
      "best va_xent 1.198\n",
      "best tr_err 0.177\n",
      "best va_err 0.450\n",
      "Training with lr=0.001, l2pen_mag=0.01, seed=123, epoch=50\n",
      "Setup complete. Trainable parameter count=5130 over 2 tensors in layers: output.\n"
     ]
    },
    {
     "name": "stderr",
     "output_type": "stream",
     "text": [
      "100%|██████████| 51/51 [00:43<00:00,  1.16it/s, tr_xent=0.577, tr_err=0.138, va_xent=1.1, va_err=0.41, batch_done=7] \n"
     ]
    },
    {
     "name": "stdout",
     "output_type": "stream",
     "text": [
      "Finished after epoch 50, best epoch=50\n",
      "best va_xent 1.104\n",
      "best tr_err 0.138\n",
      "best va_err 0.410\n",
      "Training with lr=0.001, l2pen_mag=0.01, seed=123, epoch=100\n",
      "Setup complete. Trainable parameter count=5130 over 2 tensors in layers: output.\n"
     ]
    },
    {
     "name": "stderr",
     "output_type": "stream",
     "text": [
      "100%|██████████| 101/101 [01:26<00:00,  1.16it/s, tr_xent=0.364, tr_err=0.0725, va_xent=0.989, va_err=0.33, batch_done=7]\n"
     ]
    },
    {
     "name": "stdout",
     "output_type": "stream",
     "text": [
      "Finished after epoch 100, best epoch=97\n",
      "best va_xent 0.987\n",
      "best tr_err 0.072\n",
      "best va_err 0.330\n",
      "Training with lr=0.01, l2pen_mag=0.0001, seed=42, epoch=30\n",
      "Setup complete. Trainable parameter count=5130 over 2 tensors in layers: output.\n"
     ]
    },
    {
     "name": "stderr",
     "output_type": "stream",
     "text": [
      "100%|██████████| 31/31 [00:26<00:00,  1.18it/s, tr_xent=0.288, tr_err=0.0825, va_xent=1.02, va_err=0.26, batch_done=7] \n"
     ]
    },
    {
     "name": "stdout",
     "output_type": "stream",
     "text": [
      "Finished after epoch 30, best epoch=23\n",
      "best va_xent 0.972\n",
      "best tr_err 0.045\n",
      "best va_err 0.310\n",
      "Training with lr=0.01, l2pen_mag=0.0001, seed=42, epoch=50\n",
      "Setup complete. Trainable parameter count=5130 over 2 tensors in layers: output.\n"
     ]
    },
    {
     "name": "stderr",
     "output_type": "stream",
     "text": [
      " 75%|███████▍  | 38/51 [00:32<00:11,  1.15it/s, tr_xent=0.208, tr_err=0.0325, va_xent=1.03, va_err=0.27, batch_done=7] \n"
     ]
    },
    {
     "name": "stdout",
     "output_type": "stream",
     "text": [
      "Stopped early.\n",
      "Finished after epoch 38, best epoch=23\n",
      "best va_xent 0.972\n",
      "best tr_err 0.045\n",
      "best va_err 0.310\n",
      "Training with lr=0.01, l2pen_mag=0.0001, seed=42, epoch=100\n",
      "Setup complete. Trainable parameter count=5130 over 2 tensors in layers: output.\n"
     ]
    },
    {
     "name": "stderr",
     "output_type": "stream",
     "text": [
      " 38%|███▊      | 38/101 [00:32<00:54,  1.16it/s, tr_xent=0.208, tr_err=0.0325, va_xent=1.03, va_err=0.27, batch_done=7] \n"
     ]
    },
    {
     "name": "stdout",
     "output_type": "stream",
     "text": [
      "Stopped early.\n",
      "Finished after epoch 38, best epoch=23\n",
      "best va_xent 0.972\n",
      "best tr_err 0.045\n",
      "best va_err 0.310\n",
      "Training with lr=0.01, l2pen_mag=0.0001, seed=100, epoch=30\n",
      "Setup complete. Trainable parameter count=5130 over 2 tensors in layers: output.\n"
     ]
    },
    {
     "name": "stderr",
     "output_type": "stream",
     "text": [
      "100%|██████████| 31/31 [00:25<00:00,  1.20it/s, tr_xent=0.187, tr_err=0.0325, va_xent=0.938, va_err=0.29, batch_done=7]\n"
     ]
    },
    {
     "name": "stdout",
     "output_type": "stream",
     "text": [
      "Finished after epoch 30, best epoch=30\n",
      "best va_xent 0.938\n",
      "best tr_err 0.033\n",
      "best va_err 0.290\n",
      "Training with lr=0.01, l2pen_mag=0.0001, seed=100, epoch=50\n",
      "Setup complete. Trainable parameter count=5130 over 2 tensors in layers: output.\n"
     ]
    },
    {
     "name": "stderr",
     "output_type": "stream",
     "text": [
      " 88%|████████▊ | 45/51 [00:38<00:05,  1.16it/s, tr_xent=0.143, tr_err=0.01, va_xent=1.02, va_err=0.25, batch_done=7]   \n"
     ]
    },
    {
     "name": "stdout",
     "output_type": "stream",
     "text": [
      "Stopped early.\n",
      "Finished after epoch 45, best epoch=30\n",
      "best va_xent 0.938\n",
      "best tr_err 0.033\n",
      "best va_err 0.290\n",
      "Training with lr=0.01, l2pen_mag=0.0001, seed=100, epoch=100\n",
      "Setup complete. Trainable parameter count=5130 over 2 tensors in layers: output.\n"
     ]
    },
    {
     "name": "stderr",
     "output_type": "stream",
     "text": [
      " 45%|████▍     | 45/101 [00:38<00:48,  1.16it/s, tr_xent=0.143, tr_err=0.01, va_xent=1.02, va_err=0.25, batch_done=7]   \n"
     ]
    },
    {
     "name": "stdout",
     "output_type": "stream",
     "text": [
      "Stopped early.\n",
      "Finished after epoch 45, best epoch=30\n",
      "best va_xent 0.938\n",
      "best tr_err 0.033\n",
      "best va_err 0.290\n",
      "Training with lr=0.01, l2pen_mag=0.0001, seed=123, epoch=30\n",
      "Setup complete. Trainable parameter count=5130 over 2 tensors in layers: output.\n"
     ]
    },
    {
     "name": "stderr",
     "output_type": "stream",
     "text": [
      "100%|██████████| 31/31 [00:26<00:00,  1.18it/s, tr_xent=0.22, tr_err=0.0475, va_xent=1.02, va_err=0.3, batch_done=7]   \n"
     ]
    },
    {
     "name": "stdout",
     "output_type": "stream",
     "text": [
      "Finished after epoch 30, best epoch=29\n",
      "best va_xent 0.943\n",
      "best tr_err 0.035\n",
      "best va_err 0.280\n",
      "Training with lr=0.01, l2pen_mag=0.0001, seed=123, epoch=50\n",
      "Setup complete. Trainable parameter count=5130 over 2 tensors in layers: output.\n"
     ]
    },
    {
     "name": "stderr",
     "output_type": "stream",
     "text": [
      " 86%|████████▋ | 44/51 [00:37<00:06,  1.17it/s, tr_xent=0.14, tr_err=0.02, va_xent=1.09, va_err=0.29, batch_done=7]    \n"
     ]
    },
    {
     "name": "stdout",
     "output_type": "stream",
     "text": [
      "Stopped early.\n",
      "Finished after epoch 44, best epoch=29\n",
      "best va_xent 0.943\n",
      "best tr_err 0.035\n",
      "best va_err 0.280\n",
      "Training with lr=0.01, l2pen_mag=0.0001, seed=123, epoch=100\n",
      "Setup complete. Trainable parameter count=5130 over 2 tensors in layers: output.\n"
     ]
    },
    {
     "name": "stderr",
     "output_type": "stream",
     "text": [
      " 44%|████▎     | 44/101 [00:37<00:48,  1.16it/s, tr_xent=0.14, tr_err=0.02, va_xent=1.09, va_err=0.29, batch_done=7]    \n"
     ]
    },
    {
     "name": "stdout",
     "output_type": "stream",
     "text": [
      "Stopped early.\n",
      "Finished after epoch 44, best epoch=29\n",
      "best va_xent 0.943\n",
      "best tr_err 0.035\n",
      "best va_err 0.280\n",
      "Training with lr=0.01, l2pen_mag=0.001, seed=42, epoch=30\n",
      "Setup complete. Trainable parameter count=5130 over 2 tensors in layers: output.\n"
     ]
    },
    {
     "name": "stderr",
     "output_type": "stream",
     "text": [
      "100%|██████████| 31/31 [00:26<00:00,  1.19it/s, tr_xent=0.288, tr_err=0.0825, va_xent=1.02, va_err=0.26, batch_done=7] \n"
     ]
    },
    {
     "name": "stdout",
     "output_type": "stream",
     "text": [
      "Finished after epoch 30, best epoch=23\n",
      "best va_xent 0.972\n",
      "best tr_err 0.045\n",
      "best va_err 0.310\n",
      "Training with lr=0.01, l2pen_mag=0.001, seed=42, epoch=50\n",
      "Setup complete. Trainable parameter count=5130 over 2 tensors in layers: output.\n"
     ]
    },
    {
     "name": "stderr",
     "output_type": "stream",
     "text": [
      " 75%|███████▍  | 38/51 [00:32<00:11,  1.15it/s, tr_xent=0.208, tr_err=0.0325, va_xent=1.03, va_err=0.27, batch_done=7] \n"
     ]
    },
    {
     "name": "stdout",
     "output_type": "stream",
     "text": [
      "Stopped early.\n",
      "Finished after epoch 38, best epoch=23\n",
      "best va_xent 0.972\n",
      "best tr_err 0.045\n",
      "best va_err 0.310\n",
      "Training with lr=0.01, l2pen_mag=0.001, seed=42, epoch=100\n",
      "Setup complete. Trainable parameter count=5130 over 2 tensors in layers: output.\n"
     ]
    },
    {
     "name": "stderr",
     "output_type": "stream",
     "text": [
      " 38%|███▊      | 38/101 [00:32<00:54,  1.15it/s, tr_xent=0.208, tr_err=0.0325, va_xent=1.03, va_err=0.27, batch_done=7] \n"
     ]
    },
    {
     "name": "stdout",
     "output_type": "stream",
     "text": [
      "Stopped early.\n",
      "Finished after epoch 38, best epoch=23\n",
      "best va_xent 0.972\n",
      "best tr_err 0.045\n",
      "best va_err 0.310\n",
      "Training with lr=0.01, l2pen_mag=0.001, seed=100, epoch=30\n",
      "Setup complete. Trainable parameter count=5130 over 2 tensors in layers: output.\n"
     ]
    },
    {
     "name": "stderr",
     "output_type": "stream",
     "text": [
      "100%|██████████| 31/31 [00:26<00:00,  1.19it/s, tr_xent=0.187, tr_err=0.0325, va_xent=0.938, va_err=0.29, batch_done=7]\n"
     ]
    },
    {
     "name": "stdout",
     "output_type": "stream",
     "text": [
      "Finished after epoch 30, best epoch=30\n",
      "best va_xent 0.938\n",
      "best tr_err 0.033\n",
      "best va_err 0.290\n",
      "Training with lr=0.01, l2pen_mag=0.001, seed=100, epoch=50\n",
      "Setup complete. Trainable parameter count=5130 over 2 tensors in layers: output.\n"
     ]
    },
    {
     "name": "stderr",
     "output_type": "stream",
     "text": [
      " 88%|████████▊ | 45/51 [00:38<00:05,  1.16it/s, tr_xent=0.143, tr_err=0.01, va_xent=1.02, va_err=0.25, batch_done=7]   \n"
     ]
    },
    {
     "name": "stdout",
     "output_type": "stream",
     "text": [
      "Stopped early.\n",
      "Finished after epoch 45, best epoch=30\n",
      "best va_xent 0.938\n",
      "best tr_err 0.033\n",
      "best va_err 0.290\n",
      "Training with lr=0.01, l2pen_mag=0.001, seed=100, epoch=100\n",
      "Setup complete. Trainable parameter count=5130 over 2 tensors in layers: output.\n"
     ]
    },
    {
     "name": "stderr",
     "output_type": "stream",
     "text": [
      " 45%|████▍     | 45/101 [00:38<00:48,  1.16it/s, tr_xent=0.143, tr_err=0.01, va_xent=1.02, va_err=0.25, batch_done=7]   \n"
     ]
    },
    {
     "name": "stdout",
     "output_type": "stream",
     "text": [
      "Stopped early.\n",
      "Finished after epoch 45, best epoch=30\n",
      "best va_xent 0.938\n",
      "best tr_err 0.033\n",
      "best va_err 0.290\n",
      "Training with lr=0.01, l2pen_mag=0.001, seed=123, epoch=30\n",
      "Setup complete. Trainable parameter count=5130 over 2 tensors in layers: output.\n"
     ]
    },
    {
     "name": "stderr",
     "output_type": "stream",
     "text": [
      "100%|██████████| 31/31 [00:26<00:00,  1.19it/s, tr_xent=0.22, tr_err=0.0475, va_xent=1.02, va_err=0.3, batch_done=7]   \n"
     ]
    },
    {
     "name": "stdout",
     "output_type": "stream",
     "text": [
      "Finished after epoch 30, best epoch=29\n",
      "best va_xent 0.943\n",
      "best tr_err 0.035\n",
      "best va_err 0.280\n",
      "Training with lr=0.01, l2pen_mag=0.001, seed=123, epoch=50\n",
      "Setup complete. Trainable parameter count=5130 over 2 tensors in layers: output.\n"
     ]
    },
    {
     "name": "stderr",
     "output_type": "stream",
     "text": [
      " 86%|████████▋ | 44/51 [00:37<00:06,  1.16it/s, tr_xent=0.14, tr_err=0.02, va_xent=1.09, va_err=0.29, batch_done=7]    \n"
     ]
    },
    {
     "name": "stdout",
     "output_type": "stream",
     "text": [
      "Stopped early.\n",
      "Finished after epoch 44, best epoch=29\n",
      "best va_xent 0.943\n",
      "best tr_err 0.035\n",
      "best va_err 0.280\n",
      "Training with lr=0.01, l2pen_mag=0.001, seed=123, epoch=100\n",
      "Setup complete. Trainable parameter count=5130 over 2 tensors in layers: output.\n"
     ]
    },
    {
     "name": "stderr",
     "output_type": "stream",
     "text": [
      " 44%|████▎     | 44/101 [00:38<00:50,  1.14it/s, tr_xent=0.14, tr_err=0.02, va_xent=1.09, va_err=0.29, batch_done=7]    \n"
     ]
    },
    {
     "name": "stdout",
     "output_type": "stream",
     "text": [
      "Stopped early.\n",
      "Finished after epoch 44, best epoch=29\n",
      "best va_xent 0.943\n",
      "best tr_err 0.035\n",
      "best va_err 0.280\n",
      "Training with lr=0.01, l2pen_mag=0.01, seed=42, epoch=30\n",
      "Setup complete. Trainable parameter count=5130 over 2 tensors in layers: output.\n"
     ]
    },
    {
     "name": "stderr",
     "output_type": "stream",
     "text": [
      "100%|██████████| 31/31 [00:26<00:00,  1.17it/s, tr_xent=0.288, tr_err=0.0825, va_xent=1.02, va_err=0.26, batch_done=7] \n"
     ]
    },
    {
     "name": "stdout",
     "output_type": "stream",
     "text": [
      "Finished after epoch 30, best epoch=23\n",
      "best va_xent 0.972\n",
      "best tr_err 0.045\n",
      "best va_err 0.310\n",
      "Training with lr=0.01, l2pen_mag=0.01, seed=42, epoch=50\n",
      "Setup complete. Trainable parameter count=5130 over 2 tensors in layers: output.\n"
     ]
    },
    {
     "name": "stderr",
     "output_type": "stream",
     "text": [
      " 75%|███████▍  | 38/51 [00:33<00:11,  1.15it/s, tr_xent=0.208, tr_err=0.0325, va_xent=1.03, va_err=0.27, batch_done=7] \n"
     ]
    },
    {
     "name": "stdout",
     "output_type": "stream",
     "text": [
      "Stopped early.\n",
      "Finished after epoch 38, best epoch=23\n",
      "best va_xent 0.972\n",
      "best tr_err 0.045\n",
      "best va_err 0.310\n",
      "Training with lr=0.01, l2pen_mag=0.01, seed=42, epoch=100\n",
      "Setup complete. Trainable parameter count=5130 over 2 tensors in layers: output.\n"
     ]
    },
    {
     "name": "stderr",
     "output_type": "stream",
     "text": [
      " 38%|███▊      | 38/101 [00:32<00:54,  1.15it/s, tr_xent=0.208, tr_err=0.0325, va_xent=1.03, va_err=0.27, batch_done=7] \n"
     ]
    },
    {
     "name": "stdout",
     "output_type": "stream",
     "text": [
      "Stopped early.\n",
      "Finished after epoch 38, best epoch=23\n",
      "best va_xent 0.972\n",
      "best tr_err 0.045\n",
      "best va_err 0.310\n",
      "Training with lr=0.01, l2pen_mag=0.01, seed=100, epoch=30\n",
      "Setup complete. Trainable parameter count=5130 over 2 tensors in layers: output.\n"
     ]
    },
    {
     "name": "stderr",
     "output_type": "stream",
     "text": [
      "100%|██████████| 31/31 [00:25<00:00,  1.19it/s, tr_xent=0.187, tr_err=0.0325, va_xent=0.938, va_err=0.29, batch_done=7]\n"
     ]
    },
    {
     "name": "stdout",
     "output_type": "stream",
     "text": [
      "Finished after epoch 30, best epoch=30\n",
      "best va_xent 0.938\n",
      "best tr_err 0.033\n",
      "best va_err 0.290\n",
      "Training with lr=0.01, l2pen_mag=0.01, seed=100, epoch=50\n",
      "Setup complete. Trainable parameter count=5130 over 2 tensors in layers: output.\n"
     ]
    },
    {
     "name": "stderr",
     "output_type": "stream",
     "text": [
      " 88%|████████▊ | 45/51 [00:39<00:05,  1.14it/s, tr_xent=0.143, tr_err=0.01, va_xent=1.02, va_err=0.25, batch_done=7]   \n"
     ]
    },
    {
     "name": "stdout",
     "output_type": "stream",
     "text": [
      "Stopped early.\n",
      "Finished after epoch 45, best epoch=30\n",
      "best va_xent 0.938\n",
      "best tr_err 0.033\n",
      "best va_err 0.290\n",
      "Training with lr=0.01, l2pen_mag=0.01, seed=100, epoch=100\n",
      "Setup complete. Trainable parameter count=5130 over 2 tensors in layers: output.\n"
     ]
    },
    {
     "name": "stderr",
     "output_type": "stream",
     "text": [
      " 45%|████▍     | 45/101 [00:39<00:48,  1.14it/s, tr_xent=0.143, tr_err=0.01, va_xent=1.02, va_err=0.25, batch_done=7]   \n"
     ]
    },
    {
     "name": "stdout",
     "output_type": "stream",
     "text": [
      "Stopped early.\n",
      "Finished after epoch 45, best epoch=30\n",
      "best va_xent 0.938\n",
      "best tr_err 0.033\n",
      "best va_err 0.290\n",
      "Training with lr=0.01, l2pen_mag=0.01, seed=123, epoch=30\n",
      "Setup complete. Trainable parameter count=5130 over 2 tensors in layers: output.\n"
     ]
    },
    {
     "name": "stderr",
     "output_type": "stream",
     "text": [
      "100%|██████████| 31/31 [00:26<00:00,  1.18it/s, tr_xent=0.22, tr_err=0.0475, va_xent=1.02, va_err=0.3, batch_done=7]   \n"
     ]
    },
    {
     "name": "stdout",
     "output_type": "stream",
     "text": [
      "Finished after epoch 30, best epoch=29\n",
      "best va_xent 0.943\n",
      "best tr_err 0.035\n",
      "best va_err 0.280\n",
      "Training with lr=0.01, l2pen_mag=0.01, seed=123, epoch=50\n",
      "Setup complete. Trainable parameter count=5130 over 2 tensors in layers: output.\n"
     ]
    },
    {
     "name": "stderr",
     "output_type": "stream",
     "text": [
      " 86%|████████▋ | 44/51 [00:38<00:06,  1.15it/s, tr_xent=0.14, tr_err=0.02, va_xent=1.09, va_err=0.29, batch_done=7]    \n"
     ]
    },
    {
     "name": "stdout",
     "output_type": "stream",
     "text": [
      "Stopped early.\n",
      "Finished after epoch 44, best epoch=29\n",
      "best va_xent 0.943\n",
      "best tr_err 0.035\n",
      "best va_err 0.280\n",
      "Training with lr=0.01, l2pen_mag=0.01, seed=123, epoch=100\n",
      "Setup complete. Trainable parameter count=5130 over 2 tensors in layers: output.\n"
     ]
    },
    {
     "name": "stderr",
     "output_type": "stream",
     "text": [
      " 44%|████▎     | 44/101 [00:38<00:49,  1.16it/s, tr_xent=0.14, tr_err=0.02, va_xent=1.09, va_err=0.29, batch_done=7]    \n"
     ]
    },
    {
     "name": "stdout",
     "output_type": "stream",
     "text": [
      "Stopped early.\n",
      "Finished after epoch 44, best epoch=29\n",
      "best va_xent 0.943\n",
      "best tr_err 0.035\n",
      "best va_err 0.280\n",
      "Best validation loss: 0.938299674987793\n",
      "Best hyperparameters: {'lr': 0.01, 'l2pen_mag': 0.01, 'seed': 100, 'epoch': 30}\n"
     ]
    }
   ],
   "source": [
    "if PROB1_EXPERIMENTS:\n",
    "    # Define hyperparameter search space\n",
    "    learning_rates = [0.0001, 0.001, 0.01]\n",
    "    l2pen_mags = [0.0001, 0.001, 0.01]\n",
    "    seeds = [42, 100, 123]\n",
    "    epochs = [30, 50, 100]\n",
    "\n",
    "    # Track best model\n",
    "    best_val_loss = float('inf')\n",
    "    best_hyperparams = None\n",
    "    best_model = None\n",
    "\n",
    "    # Loop through all combinations of hyperparameters\n",
    "    for lr, l2pen_mag, seed, epoch in itertools.product(learning_rates, l2pen_mags, seeds, epochs):\n",
    "        print(f\"Training with lr={lr}, l2pen_mag={l2pen_mag}, seed={seed}, epoch={epoch}\")\n",
    "        \n",
    "        # Set the seed\n",
    "        torch.manual_seed(seed)\n",
    "        torch.cuda.manual_seed(seed)\n",
    "        \n",
    "        # Create model with specified seed\n",
    "        resnet10_in = models.PretrainedResNetForBirdSnap10(\n",
    "            src_dataset='CUB', arch='ResNet10', n_trainable_layers=1, seed=seed\n",
    "        )\n",
    "        \n",
    "        # Train the model\n",
    "        current_model, current_info = train.train_model(\n",
    "            resnet10_in, device, train_loader, val_loader,\n",
    "            n_epochs=epoch,\n",
    "            lr=lr,\n",
    "            l2pen_mag=l2pen_mag,\n",
    "            data_order_seed=seed\n",
    "        )\n",
    "        \n",
    "        # Get validation loss from training info\n",
    "        val_loss = min(current_info['va']['xent'])\n",
    "        \n",
    "        # Update the best model if the current one is better\n",
    "        if val_loss < best_val_loss:\n",
    "            best_val_loss = val_loss\n",
    "            best_hyperparams = {'lr': lr, 'l2pen_mag': l2pen_mag, 'seed': seed, 'epoch': epoch}\n",
    "            best_model = current_model\n",
    "\n",
    "    # Output the best hyperparameters and validation loss\n",
    "    print(f\"Best validation loss: {best_val_loss}\")\n",
    "    print(f\"Best hyperparameters: {best_hyperparams}\")"
   ]
  },
  {
   "cell_type": "code",
   "execution_count": 29,
   "metadata": {},
   "outputs": [
    {
     "name": "stdout",
     "output_type": "stream",
     "text": [
      "Setup complete. Trainable parameter count=5130 over 2 tensors in layers: output.\n"
     ]
    },
    {
     "name": "stderr",
     "output_type": "stream",
     "text": [
      " 88%|████████▊ | 45/51 [00:40<00:05,  1.12it/s, tr_xent=0.143, tr_err=0.01, va_xent=1.02, va_err=0.25, batch_done=7]   "
     ]
    },
    {
     "name": "stdout",
     "output_type": "stream",
     "text": [
      "Stopped early.\n",
      "Finished after epoch 45, best epoch=30\n",
      "best va_xent 0.938\n",
      "best tr_err 0.033\n",
      "best va_err 0.290\n"
     ]
    },
    {
     "name": "stderr",
     "output_type": "stream",
     "text": [
      "\n"
     ]
    }
   ],
   "source": [
    "# TODO do tuning expts for Resnet10, CUB\n",
    "if PROB1_EXPERIMENTS:\n",
    "    seed = 100\n",
    "    resnet10_cub = models.PretrainedResNetForBirdSnap10(\n",
    "        src_dataset='CUB', arch='ResNet10', n_trainable_layers=1, seed=seed)\n",
    "    best_model_rn10_cub, best_info_rn10_cub = train.train_model(resnet10_cub, device, train_loader, val_loader,\n",
    "        n_epochs=30,\n",
    "        lr=0.01,\n",
    "        l2pen_mag=0.01, # no L2 penalty on weight magnitude\n",
    "        data_order_seed=seed,\n",
    "        )\n",
    "    best_info_rn10_cub['lr'] = 0.01\n",
    "    best_info_rn10_cub['l2pen_mag'] = 0.01\n",
    "    best_info_rn10_cub['seed'] = seed"
   ]
  },
  {
   "cell_type": "code",
   "execution_count": 24,
   "metadata": {},
   "outputs": [
    {
     "name": "stdout",
     "output_type": "stream",
     "text": [
      "Training with lr=0.001, l2pen_mag=0.001, seed=42, epoch=30\n",
      "Setup complete. Trainable parameter count=5130 over 2 tensors in layers: output.\n"
     ]
    },
    {
     "name": "stderr",
     "output_type": "stream",
     "text": [
      "100%|██████████| 31/31 [00:29<00:00,  1.04it/s, tr_xent=0.209, tr_err=0.0075, va_xent=0.573, va_err=0.14, batch_done=7]\n"
     ]
    },
    {
     "name": "stdout",
     "output_type": "stream",
     "text": [
      "Finished after epoch 30, best epoch=29\n",
      "best va_xent 0.571\n",
      "best tr_err 0.007\n",
      "best va_err 0.150\n",
      "Training with lr=0.001, l2pen_mag=0.001, seed=42, epoch=50\n",
      "Setup complete. Trainable parameter count=5130 over 2 tensors in layers: output.\n"
     ]
    },
    {
     "name": "stderr",
     "output_type": "stream",
     "text": [
      "100%|██████████| 51/51 [00:48<00:00,  1.05it/s, tr_xent=0.107, tr_err=0.0025, va_xent=0.531, va_err=0.15, batch_done=7]\n"
     ]
    },
    {
     "name": "stdout",
     "output_type": "stream",
     "text": [
      "Finished after epoch 50, best epoch=47\n",
      "best va_xent 0.518\n",
      "best tr_err 0.000\n",
      "best va_err 0.130\n",
      "Training with lr=0.001, l2pen_mag=0.001, seed=100, epoch=30\n",
      "Setup complete. Trainable parameter count=5130 over 2 tensors in layers: output.\n"
     ]
    },
    {
     "name": "stderr",
     "output_type": "stream",
     "text": [
      "100%|██████████| 31/31 [00:29<00:00,  1.04it/s, tr_xent=0.172, tr_err=0.0025, va_xent=0.564, va_err=0.15, batch_done=7]\n"
     ]
    },
    {
     "name": "stdout",
     "output_type": "stream",
     "text": [
      "Finished after epoch 30, best epoch=30\n",
      "best va_xent 0.564\n",
      "best tr_err 0.003\n",
      "best va_err 0.150\n",
      "Training with lr=0.001, l2pen_mag=0.001, seed=100, epoch=50\n",
      "Setup complete. Trainable parameter count=5130 over 2 tensors in layers: output.\n"
     ]
    },
    {
     "name": "stderr",
     "output_type": "stream",
     "text": [
      "100%|██████████| 51/51 [00:54<00:00,  1.08s/it, tr_xent=0.0911, tr_err=0, va_xent=0.541, va_err=0.14, batch_done=7]    \n"
     ]
    },
    {
     "name": "stdout",
     "output_type": "stream",
     "text": [
      "Finished after epoch 50, best epoch=48\n",
      "best va_xent 0.520\n",
      "best tr_err 0.000\n",
      "best va_err 0.140\n",
      "Training with lr=0.001, l2pen_mag=0.01, seed=42, epoch=30\n",
      "Setup complete. Trainable parameter count=5130 over 2 tensors in layers: output.\n"
     ]
    },
    {
     "name": "stderr",
     "output_type": "stream",
     "text": [
      "100%|██████████| 31/31 [00:31<00:00,  1.01s/it, tr_xent=0.209, tr_err=0.0075, va_xent=0.573, va_err=0.14, batch_done=7]\n"
     ]
    },
    {
     "name": "stdout",
     "output_type": "stream",
     "text": [
      "Finished after epoch 30, best epoch=29\n",
      "best va_xent 0.571\n",
      "best tr_err 0.007\n",
      "best va_err 0.150\n",
      "Training with lr=0.001, l2pen_mag=0.01, seed=42, epoch=50\n",
      "Setup complete. Trainable parameter count=5130 over 2 tensors in layers: output.\n"
     ]
    },
    {
     "name": "stderr",
     "output_type": "stream",
     "text": [
      "100%|██████████| 51/51 [00:55<00:00,  1.09s/it, tr_xent=0.107, tr_err=0.0025, va_xent=0.531, va_err=0.15, batch_done=7]\n"
     ]
    },
    {
     "name": "stdout",
     "output_type": "stream",
     "text": [
      "Finished after epoch 50, best epoch=47\n",
      "best va_xent 0.518\n",
      "best tr_err 0.000\n",
      "best va_err 0.130\n",
      "Training with lr=0.001, l2pen_mag=0.01, seed=100, epoch=30\n",
      "Setup complete. Trainable parameter count=5130 over 2 tensors in layers: output.\n"
     ]
    },
    {
     "name": "stderr",
     "output_type": "stream",
     "text": [
      "100%|██████████| 31/31 [00:34<00:00,  1.11s/it, tr_xent=0.172, tr_err=0.0025, va_xent=0.564, va_err=0.15, batch_done=7]\n"
     ]
    },
    {
     "name": "stdout",
     "output_type": "stream",
     "text": [
      "Finished after epoch 30, best epoch=30\n",
      "best va_xent 0.564\n",
      "best tr_err 0.003\n",
      "best va_err 0.150\n",
      "Training with lr=0.001, l2pen_mag=0.01, seed=100, epoch=50\n",
      "Setup complete. Trainable parameter count=5130 over 2 tensors in layers: output.\n"
     ]
    },
    {
     "name": "stderr",
     "output_type": "stream",
     "text": [
      " 65%|██████▍   | 33/51 [00:36<00:20,  1.12s/it, tr_xent=0.184, tr_err=0.0075, va_xent=0.56, va_err=0.16, batch_done=5] \n"
     ]
    },
    {
     "ename": "KeyboardInterrupt",
     "evalue": "",
     "output_type": "error",
     "traceback": [
      "\u001b[1;31m---------------------------------------------------------------------------\u001b[0m",
      "\u001b[1;31mKeyboardInterrupt\u001b[0m                         Traceback (most recent call last)",
      "Cell \u001b[1;32mIn[24], line 27\u001b[0m\n\u001b[0;32m     22\u001b[0m resnet10_in \u001b[38;5;241m=\u001b[39m models\u001b[38;5;241m.\u001b[39mPretrainedResNetForBirdSnap10(\n\u001b[0;32m     23\u001b[0m     src_dataset\u001b[38;5;241m=\u001b[39m\u001b[38;5;124m'\u001b[39m\u001b[38;5;124mImageNet1k\u001b[39m\u001b[38;5;124m'\u001b[39m, arch\u001b[38;5;241m=\u001b[39m\u001b[38;5;124m'\u001b[39m\u001b[38;5;124mResNet26\u001b[39m\u001b[38;5;124m'\u001b[39m, n_trainable_layers\u001b[38;5;241m=\u001b[39m\u001b[38;5;241m1\u001b[39m, seed\u001b[38;5;241m=\u001b[39mseed\n\u001b[0;32m     24\u001b[0m )\n\u001b[0;32m     26\u001b[0m \u001b[38;5;66;03m# Train the model\u001b[39;00m\n\u001b[1;32m---> 27\u001b[0m current_model, current_info \u001b[38;5;241m=\u001b[39m \u001b[43mtrain\u001b[49m\u001b[38;5;241;43m.\u001b[39;49m\u001b[43mtrain_model\u001b[49m\u001b[43m(\u001b[49m\n\u001b[0;32m     28\u001b[0m \u001b[43m    \u001b[49m\u001b[43mresnet10_in\u001b[49m\u001b[43m,\u001b[49m\u001b[43m \u001b[49m\u001b[43mdevice\u001b[49m\u001b[43m,\u001b[49m\u001b[43m \u001b[49m\u001b[43mtrain_loader\u001b[49m\u001b[43m,\u001b[49m\u001b[43m \u001b[49m\u001b[43mval_loader\u001b[49m\u001b[43m,\u001b[49m\n\u001b[0;32m     29\u001b[0m \u001b[43m    \u001b[49m\u001b[43mn_epochs\u001b[49m\u001b[38;5;241;43m=\u001b[39;49m\u001b[43mepoch\u001b[49m\u001b[43m,\u001b[49m\n\u001b[0;32m     30\u001b[0m \u001b[43m    \u001b[49m\u001b[43mlr\u001b[49m\u001b[38;5;241;43m=\u001b[39;49m\u001b[43mlr\u001b[49m\u001b[43m,\u001b[49m\n\u001b[0;32m     31\u001b[0m \u001b[43m    \u001b[49m\u001b[43ml2pen_mag\u001b[49m\u001b[38;5;241;43m=\u001b[39;49m\u001b[43ml2pen_mag\u001b[49m\u001b[43m,\u001b[49m\n\u001b[0;32m     32\u001b[0m \u001b[43m    \u001b[49m\u001b[43mdata_order_seed\u001b[49m\u001b[38;5;241;43m=\u001b[39;49m\u001b[43mseed\u001b[49m\n\u001b[0;32m     33\u001b[0m \u001b[43m\u001b[49m\u001b[43m)\u001b[49m\n\u001b[0;32m     35\u001b[0m \u001b[38;5;66;03m# Get validation loss from training info\u001b[39;00m\n\u001b[0;32m     36\u001b[0m val_loss \u001b[38;5;241m=\u001b[39m \u001b[38;5;28mmin\u001b[39m(current_info[\u001b[38;5;124m'\u001b[39m\u001b[38;5;124mva\u001b[39m\u001b[38;5;124m'\u001b[39m][\u001b[38;5;124m'\u001b[39m\u001b[38;5;124mxent\u001b[39m\u001b[38;5;124m'\u001b[39m])\n",
      "File \u001b[1;32mc:\\Users\\josep\\Code\\School\\L3D\\Assignments\\hw1\\train.py:60\u001b[0m, in \u001b[0;36mtrain_model\u001b[1;34m(model, device, tr_loader, va_loader, n_epochs, lr, l2pen_mag, data_order_seed, do_early_stopping, n_epochs_without_va_improve_before_early_stop, xent_loss_func)\u001b[0m\n\u001b[0;32m     58\u001b[0m tr_err \u001b[38;5;241m=\u001b[39m \u001b[38;5;241m0\u001b[39m     \u001b[38;5;66;03m# count mistakes on train set\u001b[39;00m\n\u001b[0;32m     59\u001b[0m pbar_info[\u001b[38;5;124m'\u001b[39m\u001b[38;5;124mbatch_done\u001b[39m\u001b[38;5;124m'\u001b[39m] \u001b[38;5;241m=\u001b[39m \u001b[38;5;241m0\u001b[39m\n\u001b[1;32m---> 60\u001b[0m \u001b[38;5;28;01mfor\u001b[39;00m bb, (x, y_B) \u001b[38;5;129;01min\u001b[39;00m \u001b[38;5;28menumerate\u001b[39m(tr_loader):\n\u001b[0;32m     61\u001b[0m     optimizer\u001b[38;5;241m.\u001b[39mzero_grad()\n\u001b[0;32m     62\u001b[0m     logits_BC \u001b[38;5;241m=\u001b[39m model(x\u001b[38;5;241m.\u001b[39mto(device))\n",
      "File \u001b[1;32mc:\\Users\\josep\\miniconda3\\envs\\cs152_env\\lib\\site-packages\\torch\\utils\\data\\dataloader.py:633\u001b[0m, in \u001b[0;36m_BaseDataLoaderIter.__next__\u001b[1;34m(self)\u001b[0m\n\u001b[0;32m    630\u001b[0m \u001b[38;5;28;01mif\u001b[39;00m \u001b[38;5;28mself\u001b[39m\u001b[38;5;241m.\u001b[39m_sampler_iter \u001b[38;5;129;01mis\u001b[39;00m \u001b[38;5;28;01mNone\u001b[39;00m:\n\u001b[0;32m    631\u001b[0m     \u001b[38;5;66;03m# TODO(https://github.com/pytorch/pytorch/issues/76750)\u001b[39;00m\n\u001b[0;32m    632\u001b[0m     \u001b[38;5;28mself\u001b[39m\u001b[38;5;241m.\u001b[39m_reset()  \u001b[38;5;66;03m# type: ignore[call-arg]\u001b[39;00m\n\u001b[1;32m--> 633\u001b[0m data \u001b[38;5;241m=\u001b[39m \u001b[38;5;28;43mself\u001b[39;49m\u001b[38;5;241;43m.\u001b[39;49m\u001b[43m_next_data\u001b[49m\u001b[43m(\u001b[49m\u001b[43m)\u001b[49m\n\u001b[0;32m    634\u001b[0m \u001b[38;5;28mself\u001b[39m\u001b[38;5;241m.\u001b[39m_num_yielded \u001b[38;5;241m+\u001b[39m\u001b[38;5;241m=\u001b[39m \u001b[38;5;241m1\u001b[39m\n\u001b[0;32m    635\u001b[0m \u001b[38;5;28;01mif\u001b[39;00m \u001b[38;5;28mself\u001b[39m\u001b[38;5;241m.\u001b[39m_dataset_kind \u001b[38;5;241m==\u001b[39m _DatasetKind\u001b[38;5;241m.\u001b[39mIterable \u001b[38;5;129;01mand\u001b[39;00m \\\n\u001b[0;32m    636\u001b[0m         \u001b[38;5;28mself\u001b[39m\u001b[38;5;241m.\u001b[39m_IterableDataset_len_called \u001b[38;5;129;01mis\u001b[39;00m \u001b[38;5;129;01mnot\u001b[39;00m \u001b[38;5;28;01mNone\u001b[39;00m \u001b[38;5;129;01mand\u001b[39;00m \\\n\u001b[0;32m    637\u001b[0m         \u001b[38;5;28mself\u001b[39m\u001b[38;5;241m.\u001b[39m_num_yielded \u001b[38;5;241m>\u001b[39m \u001b[38;5;28mself\u001b[39m\u001b[38;5;241m.\u001b[39m_IterableDataset_len_called:\n",
      "File \u001b[1;32mc:\\Users\\josep\\miniconda3\\envs\\cs152_env\\lib\\site-packages\\torch\\utils\\data\\dataloader.py:677\u001b[0m, in \u001b[0;36m_SingleProcessDataLoaderIter._next_data\u001b[1;34m(self)\u001b[0m\n\u001b[0;32m    675\u001b[0m \u001b[38;5;28;01mdef\u001b[39;00m \u001b[38;5;21m_next_data\u001b[39m(\u001b[38;5;28mself\u001b[39m):\n\u001b[0;32m    676\u001b[0m     index \u001b[38;5;241m=\u001b[39m \u001b[38;5;28mself\u001b[39m\u001b[38;5;241m.\u001b[39m_next_index()  \u001b[38;5;66;03m# may raise StopIteration\u001b[39;00m\n\u001b[1;32m--> 677\u001b[0m     data \u001b[38;5;241m=\u001b[39m \u001b[38;5;28;43mself\u001b[39;49m\u001b[38;5;241;43m.\u001b[39;49m\u001b[43m_dataset_fetcher\u001b[49m\u001b[38;5;241;43m.\u001b[39;49m\u001b[43mfetch\u001b[49m\u001b[43m(\u001b[49m\u001b[43mindex\u001b[49m\u001b[43m)\u001b[49m  \u001b[38;5;66;03m# may raise StopIteration\u001b[39;00m\n\u001b[0;32m    678\u001b[0m     \u001b[38;5;28;01mif\u001b[39;00m \u001b[38;5;28mself\u001b[39m\u001b[38;5;241m.\u001b[39m_pin_memory:\n\u001b[0;32m    679\u001b[0m         data \u001b[38;5;241m=\u001b[39m _utils\u001b[38;5;241m.\u001b[39mpin_memory\u001b[38;5;241m.\u001b[39mpin_memory(data, \u001b[38;5;28mself\u001b[39m\u001b[38;5;241m.\u001b[39m_pin_memory_device)\n",
      "File \u001b[1;32mc:\\Users\\josep\\miniconda3\\envs\\cs152_env\\lib\\site-packages\\torch\\utils\\data\\_utils\\fetch.py:51\u001b[0m, in \u001b[0;36m_MapDatasetFetcher.fetch\u001b[1;34m(self, possibly_batched_index)\u001b[0m\n\u001b[0;32m     49\u001b[0m         data \u001b[38;5;241m=\u001b[39m \u001b[38;5;28mself\u001b[39m\u001b[38;5;241m.\u001b[39mdataset\u001b[38;5;241m.\u001b[39m__getitems__(possibly_batched_index)\n\u001b[0;32m     50\u001b[0m     \u001b[38;5;28;01melse\u001b[39;00m:\n\u001b[1;32m---> 51\u001b[0m         data \u001b[38;5;241m=\u001b[39m [\u001b[38;5;28mself\u001b[39m\u001b[38;5;241m.\u001b[39mdataset[idx] \u001b[38;5;28;01mfor\u001b[39;00m idx \u001b[38;5;129;01min\u001b[39;00m possibly_batched_index]\n\u001b[0;32m     52\u001b[0m \u001b[38;5;28;01melse\u001b[39;00m:\n\u001b[0;32m     53\u001b[0m     data \u001b[38;5;241m=\u001b[39m \u001b[38;5;28mself\u001b[39m\u001b[38;5;241m.\u001b[39mdataset[possibly_batched_index]\n",
      "File \u001b[1;32mc:\\Users\\josep\\miniconda3\\envs\\cs152_env\\lib\\site-packages\\torch\\utils\\data\\_utils\\fetch.py:51\u001b[0m, in \u001b[0;36m<listcomp>\u001b[1;34m(.0)\u001b[0m\n\u001b[0;32m     49\u001b[0m         data \u001b[38;5;241m=\u001b[39m \u001b[38;5;28mself\u001b[39m\u001b[38;5;241m.\u001b[39mdataset\u001b[38;5;241m.\u001b[39m__getitems__(possibly_batched_index)\n\u001b[0;32m     50\u001b[0m     \u001b[38;5;28;01melse\u001b[39;00m:\n\u001b[1;32m---> 51\u001b[0m         data \u001b[38;5;241m=\u001b[39m [\u001b[38;5;28;43mself\u001b[39;49m\u001b[38;5;241;43m.\u001b[39;49m\u001b[43mdataset\u001b[49m\u001b[43m[\u001b[49m\u001b[43midx\u001b[49m\u001b[43m]\u001b[49m \u001b[38;5;28;01mfor\u001b[39;00m idx \u001b[38;5;129;01min\u001b[39;00m possibly_batched_index]\n\u001b[0;32m     52\u001b[0m \u001b[38;5;28;01melse\u001b[39;00m:\n\u001b[0;32m     53\u001b[0m     data \u001b[38;5;241m=\u001b[39m \u001b[38;5;28mself\u001b[39m\u001b[38;5;241m.\u001b[39mdataset[possibly_batched_index]\n",
      "File \u001b[1;32mc:\\Users\\josep\\miniconda3\\envs\\cs152_env\\lib\\site-packages\\torch\\utils\\data\\dataset.py:298\u001b[0m, in \u001b[0;36mSubset.__getitem__\u001b[1;34m(self, idx)\u001b[0m\n\u001b[0;32m    296\u001b[0m \u001b[38;5;28;01mif\u001b[39;00m \u001b[38;5;28misinstance\u001b[39m(idx, \u001b[38;5;28mlist\u001b[39m):\n\u001b[0;32m    297\u001b[0m     \u001b[38;5;28;01mreturn\u001b[39;00m \u001b[38;5;28mself\u001b[39m\u001b[38;5;241m.\u001b[39mdataset[[\u001b[38;5;28mself\u001b[39m\u001b[38;5;241m.\u001b[39mindices[i] \u001b[38;5;28;01mfor\u001b[39;00m i \u001b[38;5;129;01min\u001b[39;00m idx]]\n\u001b[1;32m--> 298\u001b[0m \u001b[38;5;28;01mreturn\u001b[39;00m \u001b[38;5;28;43mself\u001b[39;49m\u001b[38;5;241;43m.\u001b[39;49m\u001b[43mdataset\u001b[49m\u001b[43m[\u001b[49m\u001b[38;5;28;43mself\u001b[39;49m\u001b[38;5;241;43m.\u001b[39;49m\u001b[43mindices\u001b[49m\u001b[43m[\u001b[49m\u001b[43midx\u001b[49m\u001b[43m]\u001b[49m\u001b[43m]\u001b[49m\n",
      "File \u001b[1;32mc:\\Users\\josep\\miniconda3\\envs\\cs152_env\\lib\\site-packages\\torchvision\\datasets\\folder.py:229\u001b[0m, in \u001b[0;36mDatasetFolder.__getitem__\u001b[1;34m(self, index)\u001b[0m\n\u001b[0;32m    221\u001b[0m \u001b[38;5;250m\u001b[39m\u001b[38;5;124;03m\"\"\"\u001b[39;00m\n\u001b[0;32m    222\u001b[0m \u001b[38;5;124;03mArgs:\u001b[39;00m\n\u001b[0;32m    223\u001b[0m \u001b[38;5;124;03m    index (int): Index\u001b[39;00m\n\u001b[1;32m   (...)\u001b[0m\n\u001b[0;32m    226\u001b[0m \u001b[38;5;124;03m    tuple: (sample, target) where target is class_index of the target class.\u001b[39;00m\n\u001b[0;32m    227\u001b[0m \u001b[38;5;124;03m\"\"\"\u001b[39;00m\n\u001b[0;32m    228\u001b[0m path, target \u001b[38;5;241m=\u001b[39m \u001b[38;5;28mself\u001b[39m\u001b[38;5;241m.\u001b[39msamples[index]\n\u001b[1;32m--> 229\u001b[0m sample \u001b[38;5;241m=\u001b[39m \u001b[38;5;28;43mself\u001b[39;49m\u001b[38;5;241;43m.\u001b[39;49m\u001b[43mloader\u001b[49m\u001b[43m(\u001b[49m\u001b[43mpath\u001b[49m\u001b[43m)\u001b[49m\n\u001b[0;32m    230\u001b[0m \u001b[38;5;28;01mif\u001b[39;00m \u001b[38;5;28mself\u001b[39m\u001b[38;5;241m.\u001b[39mtransform \u001b[38;5;129;01mis\u001b[39;00m \u001b[38;5;129;01mnot\u001b[39;00m \u001b[38;5;28;01mNone\u001b[39;00m:\n\u001b[0;32m    231\u001b[0m     sample \u001b[38;5;241m=\u001b[39m \u001b[38;5;28mself\u001b[39m\u001b[38;5;241m.\u001b[39mtransform(sample)\n",
      "File \u001b[1;32mc:\\Users\\josep\\miniconda3\\envs\\cs152_env\\lib\\site-packages\\torchvision\\datasets\\folder.py:268\u001b[0m, in \u001b[0;36mdefault_loader\u001b[1;34m(path)\u001b[0m\n\u001b[0;32m    266\u001b[0m     \u001b[38;5;28;01mreturn\u001b[39;00m accimage_loader(path)\n\u001b[0;32m    267\u001b[0m \u001b[38;5;28;01melse\u001b[39;00m:\n\u001b[1;32m--> 268\u001b[0m     \u001b[38;5;28;01mreturn\u001b[39;00m \u001b[43mpil_loader\u001b[49m\u001b[43m(\u001b[49m\u001b[43mpath\u001b[49m\u001b[43m)\u001b[49m\n",
      "File \u001b[1;32mc:\\Users\\josep\\miniconda3\\envs\\cs152_env\\lib\\site-packages\\torchvision\\datasets\\folder.py:248\u001b[0m, in \u001b[0;36mpil_loader\u001b[1;34m(path)\u001b[0m\n\u001b[0;32m    246\u001b[0m \u001b[38;5;28;01mwith\u001b[39;00m \u001b[38;5;28mopen\u001b[39m(path, \u001b[38;5;124m\"\u001b[39m\u001b[38;5;124mrb\u001b[39m\u001b[38;5;124m\"\u001b[39m) \u001b[38;5;28;01mas\u001b[39;00m f:\n\u001b[0;32m    247\u001b[0m     img \u001b[38;5;241m=\u001b[39m Image\u001b[38;5;241m.\u001b[39mopen(f)\n\u001b[1;32m--> 248\u001b[0m     \u001b[38;5;28;01mreturn\u001b[39;00m \u001b[43mimg\u001b[49m\u001b[38;5;241;43m.\u001b[39;49m\u001b[43mconvert\u001b[49m\u001b[43m(\u001b[49m\u001b[38;5;124;43m\"\u001b[39;49m\u001b[38;5;124;43mRGB\u001b[39;49m\u001b[38;5;124;43m\"\u001b[39;49m\u001b[43m)\u001b[49m\n",
      "File \u001b[1;32mc:\\Users\\josep\\miniconda3\\envs\\cs152_env\\lib\\site-packages\\PIL\\Image.py:922\u001b[0m, in \u001b[0;36mImage.convert\u001b[1;34m(self, mode, matrix, dither, palette, colors)\u001b[0m\n\u001b[0;32m    874\u001b[0m \u001b[38;5;28;01mdef\u001b[39;00m \u001b[38;5;21mconvert\u001b[39m(\n\u001b[0;32m    875\u001b[0m     \u001b[38;5;28mself\u001b[39m, mode\u001b[38;5;241m=\u001b[39m\u001b[38;5;28;01mNone\u001b[39;00m, matrix\u001b[38;5;241m=\u001b[39m\u001b[38;5;28;01mNone\u001b[39;00m, dither\u001b[38;5;241m=\u001b[39m\u001b[38;5;28;01mNone\u001b[39;00m, palette\u001b[38;5;241m=\u001b[39mPalette\u001b[38;5;241m.\u001b[39mWEB, colors\u001b[38;5;241m=\u001b[39m\u001b[38;5;241m256\u001b[39m\n\u001b[0;32m    876\u001b[0m ):\n\u001b[0;32m    877\u001b[0m \u001b[38;5;250m    \u001b[39m\u001b[38;5;124;03m\"\"\"\u001b[39;00m\n\u001b[0;32m    878\u001b[0m \u001b[38;5;124;03m    Returns a converted copy of this image. For the \"P\" mode, this\u001b[39;00m\n\u001b[0;32m    879\u001b[0m \u001b[38;5;124;03m    method translates pixels through the palette.  If mode is\u001b[39;00m\n\u001b[1;32m   (...)\u001b[0m\n\u001b[0;32m    919\u001b[0m \u001b[38;5;124;03m    :returns: An :py:class:`~PIL.Image.Image` object.\u001b[39;00m\n\u001b[0;32m    920\u001b[0m \u001b[38;5;124;03m    \"\"\"\u001b[39;00m\n\u001b[1;32m--> 922\u001b[0m     \u001b[38;5;28;43mself\u001b[39;49m\u001b[38;5;241;43m.\u001b[39;49m\u001b[43mload\u001b[49m\u001b[43m(\u001b[49m\u001b[43m)\u001b[49m\n\u001b[0;32m    924\u001b[0m     has_transparency \u001b[38;5;241m=\u001b[39m \u001b[38;5;124m\"\u001b[39m\u001b[38;5;124mtransparency\u001b[39m\u001b[38;5;124m\"\u001b[39m \u001b[38;5;129;01min\u001b[39;00m \u001b[38;5;28mself\u001b[39m\u001b[38;5;241m.\u001b[39minfo\n\u001b[0;32m    925\u001b[0m     \u001b[38;5;28;01mif\u001b[39;00m \u001b[38;5;129;01mnot\u001b[39;00m mode \u001b[38;5;129;01mand\u001b[39;00m \u001b[38;5;28mself\u001b[39m\u001b[38;5;241m.\u001b[39mmode \u001b[38;5;241m==\u001b[39m \u001b[38;5;124m\"\u001b[39m\u001b[38;5;124mP\u001b[39m\u001b[38;5;124m\"\u001b[39m:\n\u001b[0;32m    926\u001b[0m         \u001b[38;5;66;03m# determine default mode\u001b[39;00m\n",
      "File \u001b[1;32mc:\\Users\\josep\\miniconda3\\envs\\cs152_env\\lib\\site-packages\\PIL\\ImageFile.py:291\u001b[0m, in \u001b[0;36mImageFile.load\u001b[1;34m(self)\u001b[0m\n\u001b[0;32m    288\u001b[0m         \u001b[38;5;28;01mraise\u001b[39;00m \u001b[38;5;167;01mOSError\u001b[39;00m(msg)\n\u001b[0;32m    290\u001b[0m b \u001b[38;5;241m=\u001b[39m b \u001b[38;5;241m+\u001b[39m s\n\u001b[1;32m--> 291\u001b[0m n, err_code \u001b[38;5;241m=\u001b[39m \u001b[43mdecoder\u001b[49m\u001b[38;5;241;43m.\u001b[39;49m\u001b[43mdecode\u001b[49m\u001b[43m(\u001b[49m\u001b[43mb\u001b[49m\u001b[43m)\u001b[49m\n\u001b[0;32m    292\u001b[0m \u001b[38;5;28;01mif\u001b[39;00m n \u001b[38;5;241m<\u001b[39m \u001b[38;5;241m0\u001b[39m:\n\u001b[0;32m    293\u001b[0m     \u001b[38;5;28;01mbreak\u001b[39;00m\n",
      "\u001b[1;31mKeyboardInterrupt\u001b[0m: "
     ]
    }
   ],
   "source": [
    "if PROB1_EXPERIMENTS:\n",
    "    # Define hyperparameter search space\n",
    "    learning_rates = [0.001, 0.01]\n",
    "    l2pen_mags = [0.001, 0.01]\n",
    "    seeds = [42, 100]\n",
    "    epochs = [30, 50]\n",
    "\n",
    "    # Track best model\n",
    "    best_val_loss = float('inf')\n",
    "    best_hyperparams = None\n",
    "    best_model = None\n",
    "\n",
    "    # Loop through all combinations of hyperparameters\n",
    "    for lr, l2pen_mag, seed, epoch in itertools.product(learning_rates, l2pen_mags, seeds, epochs):\n",
    "        print(f\"Training with lr={lr}, l2pen_mag={l2pen_mag}, seed={seed}, epoch={epoch}\")\n",
    "        \n",
    "        # Set the seed\n",
    "        torch.manual_seed(seed)\n",
    "        torch.cuda.manual_seed(seed)\n",
    "        \n",
    "        # Create model with specified seed\n",
    "        resnet10_in = models.PretrainedResNetForBirdSnap10(\n",
    "            src_dataset='ImageNet1k', arch='ResNet26', n_trainable_layers=1, seed=seed\n",
    "        )\n",
    "        \n",
    "        # Train the model\n",
    "        current_model, current_info = train.train_model(\n",
    "            resnet10_in, device, train_loader, val_loader,\n",
    "            n_epochs=epoch,\n",
    "            lr=lr,\n",
    "            l2pen_mag=l2pen_mag,\n",
    "            data_order_seed=seed\n",
    "        )\n",
    "        \n",
    "        # Get validation loss from training info\n",
    "        val_loss = min(current_info['va']['xent'])\n",
    "        \n",
    "        # Update the best model if the current one is better\n",
    "        if val_loss < best_val_loss:\n",
    "            best_val_loss = val_loss\n",
    "            best_hyperparams = {'lr': lr, 'l2pen_mag': l2pen_mag, 'seed': seed, 'epoch': epoch}\n",
    "            best_model = current_model\n",
    "\n",
    "    # Output the best hyperparameters and validation loss\n",
    "    print(f\"Best validation loss: {best_val_loss}\")\n",
    "    print(f\"Best hyperparameters: {best_hyperparams}\")"
   ]
  },
  {
   "cell_type": "code",
   "execution_count": 26,
   "metadata": {},
   "outputs": [
    {
     "name": "stdout",
     "output_type": "stream",
     "text": [
      "Setup complete. Trainable parameter count=5130 over 2 tensors in layers: output.\n"
     ]
    },
    {
     "name": "stderr",
     "output_type": "stream",
     "text": [
      " 74%|███████▍  | 75/101 [01:20<00:28,  1.08s/it, tr_xent=0.0577, tr_err=0, va_xent=0.476, va_err=0.14, batch_done=7]    "
     ]
    },
    {
     "name": "stdout",
     "output_type": "stream",
     "text": [
      "Stopped early.\n",
      "Finished after epoch 75, best epoch=60\n",
      "best va_xent 0.474\n",
      "best tr_err 0.000\n",
      "best va_err 0.130\n"
     ]
    },
    {
     "name": "stderr",
     "output_type": "stream",
     "text": [
      "\n"
     ]
    }
   ],
   "source": [
    "# TODO do tuning expts for Resnet26, ImageNet1k\n",
    "if PROB1_EXPERIMENTS:\n",
    "    seed = 123\n",
    "    resnet26_in = models.PretrainedResNetForBirdSnap10(\n",
    "        src_dataset='ImageNet1k', arch='ResNet26', n_trainable_layers=1, seed=seed)\n",
    "    best_model_rn26_in, best_info_rn26_in = train.train_model(resnet26_in, device, train_loader, val_loader,\n",
    "        n_epochs=100,\n",
    "        lr=0.001,\n",
    "        l2pen_mag=0.0001, # no L2 penalty on weight magnitude\n",
    "        data_order_seed=seed,\n",
    "        )\n",
    "    best_info_rn26_in['lr'] = 0.001\n",
    "    best_info_rn26_in['l2pen_mag'] = 0.0001\n",
    "    best_info_rn26_in['seed'] = seed\n"
   ]
  },
  {
   "cell_type": "code",
   "execution_count": 28,
   "metadata": {},
   "outputs": [
    {
     "name": "stdout",
     "output_type": "stream",
     "text": [
      "Training with lr=0.0001, l2pen_mag=0.0001, seed=42, epoch=30\n",
      "Setup complete. Trainable parameter count=5130 over 2 tensors in layers: output.\n"
     ]
    },
    {
     "name": "stderr",
     "output_type": "stream",
     "text": [
      "100%|██████████| 31/31 [00:29<00:00,  1.07it/s, tr_xent=1.81, tr_err=0.343, va_xent=1.9, va_err=0.43, batch_done=7] \n"
     ]
    },
    {
     "name": "stdout",
     "output_type": "stream",
     "text": [
      "Finished after epoch 30, best epoch=30\n",
      "best va_xent 1.895\n",
      "best tr_err 0.343\n",
      "best va_err 0.430\n",
      "Training with lr=0.0001, l2pen_mag=0.0001, seed=42, epoch=50\n",
      "Setup complete. Trainable parameter count=5130 over 2 tensors in layers: output.\n"
     ]
    },
    {
     "name": "stderr",
     "output_type": "stream",
     "text": [
      "100%|██████████| 51/51 [00:48<00:00,  1.05it/s, tr_xent=1.56, tr_err=0.258, va_xent=1.71, va_err=0.37, batch_done=7]\n"
     ]
    },
    {
     "name": "stdout",
     "output_type": "stream",
     "text": [
      "Finished after epoch 50, best epoch=50\n",
      "best va_xent 1.706\n",
      "best tr_err 0.258\n",
      "best va_err 0.370\n",
      "Training with lr=0.0001, l2pen_mag=0.0001, seed=42, epoch=100\n",
      "Setup complete. Trainable parameter count=5130 over 2 tensors in layers: output.\n"
     ]
    },
    {
     "name": "stderr",
     "output_type": "stream",
     "text": [
      "100%|██████████| 101/101 [01:36<00:00,  1.05it/s, tr_xent=1.21, tr_err=0.215, va_xent=1.4, va_err=0.34, batch_done=7]\n"
     ]
    },
    {
     "name": "stdout",
     "output_type": "stream",
     "text": [
      "Finished after epoch 100, best epoch=100\n",
      "best va_xent 1.402\n",
      "best tr_err 0.215\n",
      "best va_err 0.340\n",
      "Training with lr=0.0001, l2pen_mag=0.0001, seed=100, epoch=30\n",
      "Setup complete. Trainable parameter count=5130 over 2 tensors in layers: output.\n"
     ]
    },
    {
     "name": "stderr",
     "output_type": "stream",
     "text": [
      "100%|██████████| 31/31 [00:29<00:00,  1.06it/s, tr_xent=1.81, tr_err=0.372, va_xent=1.92, va_err=0.43, batch_done=7]\n"
     ]
    },
    {
     "name": "stdout",
     "output_type": "stream",
     "text": [
      "Finished after epoch 30, best epoch=30\n",
      "best va_xent 1.915\n",
      "best tr_err 0.372\n",
      "best va_err 0.430\n",
      "Training with lr=0.0001, l2pen_mag=0.0001, seed=100, epoch=50\n",
      "Setup complete. Trainable parameter count=5130 over 2 tensors in layers: output.\n"
     ]
    },
    {
     "name": "stderr",
     "output_type": "stream",
     "text": [
      "100%|██████████| 51/51 [00:49<00:00,  1.04it/s, tr_xent=1.56, tr_err=0.297, va_xent=1.72, va_err=0.41, batch_done=7]\n"
     ]
    },
    {
     "name": "stdout",
     "output_type": "stream",
     "text": [
      "Finished after epoch 50, best epoch=50\n",
      "best va_xent 1.719\n",
      "best tr_err 0.297\n",
      "best va_err 0.410\n",
      "Training with lr=0.0001, l2pen_mag=0.0001, seed=100, epoch=100\n",
      "Setup complete. Trainable parameter count=5130 over 2 tensors in layers: output.\n"
     ]
    },
    {
     "name": "stderr",
     "output_type": "stream",
     "text": [
      "100%|██████████| 101/101 [01:35<00:00,  1.05it/s, tr_xent=1.18, tr_err=0.228, va_xent=1.41, va_err=0.36, batch_done=7]\n"
     ]
    },
    {
     "name": "stdout",
     "output_type": "stream",
     "text": [
      "Finished after epoch 100, best epoch=100\n",
      "best va_xent 1.412\n",
      "best tr_err 0.228\n",
      "best va_err 0.360\n",
      "Training with lr=0.0001, l2pen_mag=0.0001, seed=123, epoch=30\n",
      "Setup complete. Trainable parameter count=5130 over 2 tensors in layers: output.\n"
     ]
    },
    {
     "name": "stderr",
     "output_type": "stream",
     "text": [
      "100%|██████████| 31/31 [00:29<00:00,  1.07it/s, tr_xent=1.84, tr_err=0.393, va_xent=1.93, va_err=0.46, batch_done=7]\n"
     ]
    },
    {
     "name": "stdout",
     "output_type": "stream",
     "text": [
      "Finished after epoch 30, best epoch=30\n",
      "best va_xent 1.927\n",
      "best tr_err 0.393\n",
      "best va_err 0.460\n",
      "Training with lr=0.0001, l2pen_mag=0.0001, seed=123, epoch=50\n",
      "Setup complete. Trainable parameter count=5130 over 2 tensors in layers: output.\n"
     ]
    },
    {
     "name": "stderr",
     "output_type": "stream",
     "text": [
      "100%|██████████| 51/51 [00:48<00:00,  1.06it/s, tr_xent=1.58, tr_err=0.263, va_xent=1.74, va_err=0.45, batch_done=7]\n"
     ]
    },
    {
     "name": "stdout",
     "output_type": "stream",
     "text": [
      "Finished after epoch 50, best epoch=50\n",
      "best va_xent 1.736\n",
      "best tr_err 0.263\n",
      "best va_err 0.450\n",
      "Training with lr=0.0001, l2pen_mag=0.0001, seed=123, epoch=100\n",
      "Setup complete. Trainable parameter count=5130 over 2 tensors in layers: output.\n"
     ]
    },
    {
     "name": "stderr",
     "output_type": "stream",
     "text": [
      "100%|██████████| 101/101 [01:35<00:00,  1.05it/s, tr_xent=1.19, tr_err=0.2, va_xent=1.42, va_err=0.33, batch_done=7]  \n"
     ]
    },
    {
     "name": "stdout",
     "output_type": "stream",
     "text": [
      "Finished after epoch 100, best epoch=100\n",
      "best va_xent 1.422\n",
      "best tr_err 0.200\n",
      "best va_err 0.330\n",
      "Training with lr=0.0001, l2pen_mag=0.001, seed=42, epoch=30\n",
      "Setup complete. Trainable parameter count=5130 over 2 tensors in layers: output.\n"
     ]
    },
    {
     "name": "stderr",
     "output_type": "stream",
     "text": [
      "100%|██████████| 31/31 [00:28<00:00,  1.07it/s, tr_xent=1.81, tr_err=0.343, va_xent=1.9, va_err=0.43, batch_done=7] \n"
     ]
    },
    {
     "name": "stdout",
     "output_type": "stream",
     "text": [
      "Finished after epoch 30, best epoch=30\n",
      "best va_xent 1.895\n",
      "best tr_err 0.343\n",
      "best va_err 0.430\n",
      "Training with lr=0.0001, l2pen_mag=0.001, seed=42, epoch=50\n",
      "Setup complete. Trainable parameter count=5130 over 2 tensors in layers: output.\n"
     ]
    },
    {
     "name": "stderr",
     "output_type": "stream",
     "text": [
      "100%|██████████| 51/51 [00:48<00:00,  1.05it/s, tr_xent=1.56, tr_err=0.258, va_xent=1.71, va_err=0.37, batch_done=7]\n"
     ]
    },
    {
     "name": "stdout",
     "output_type": "stream",
     "text": [
      "Finished after epoch 50, best epoch=50\n",
      "best va_xent 1.706\n",
      "best tr_err 0.258\n",
      "best va_err 0.370\n",
      "Training with lr=0.0001, l2pen_mag=0.001, seed=42, epoch=100\n",
      "Setup complete. Trainable parameter count=5130 over 2 tensors in layers: output.\n"
     ]
    },
    {
     "name": "stderr",
     "output_type": "stream",
     "text": [
      "100%|██████████| 101/101 [01:36<00:00,  1.05it/s, tr_xent=1.21, tr_err=0.215, va_xent=1.4, va_err=0.34, batch_done=7]\n"
     ]
    },
    {
     "name": "stdout",
     "output_type": "stream",
     "text": [
      "Finished after epoch 100, best epoch=100\n",
      "best va_xent 1.402\n",
      "best tr_err 0.215\n",
      "best va_err 0.340\n",
      "Training with lr=0.0001, l2pen_mag=0.001, seed=100, epoch=30\n",
      "Setup complete. Trainable parameter count=5130 over 2 tensors in layers: output.\n"
     ]
    },
    {
     "name": "stderr",
     "output_type": "stream",
     "text": [
      "100%|██████████| 31/31 [00:28<00:00,  1.07it/s, tr_xent=1.81, tr_err=0.372, va_xent=1.92, va_err=0.43, batch_done=7]\n"
     ]
    },
    {
     "name": "stdout",
     "output_type": "stream",
     "text": [
      "Finished after epoch 30, best epoch=30\n",
      "best va_xent 1.915\n",
      "best tr_err 0.372\n",
      "best va_err 0.430\n",
      "Training with lr=0.0001, l2pen_mag=0.001, seed=100, epoch=50\n",
      "Setup complete. Trainable parameter count=5130 over 2 tensors in layers: output.\n"
     ]
    },
    {
     "name": "stderr",
     "output_type": "stream",
     "text": [
      "100%|██████████| 51/51 [00:48<00:00,  1.06it/s, tr_xent=1.56, tr_err=0.297, va_xent=1.72, va_err=0.41, batch_done=7]\n"
     ]
    },
    {
     "name": "stdout",
     "output_type": "stream",
     "text": [
      "Finished after epoch 50, best epoch=50\n",
      "best va_xent 1.719\n",
      "best tr_err 0.297\n",
      "best va_err 0.410\n",
      "Training with lr=0.0001, l2pen_mag=0.001, seed=100, epoch=100\n",
      "Setup complete. Trainable parameter count=5130 over 2 tensors in layers: output.\n"
     ]
    },
    {
     "name": "stderr",
     "output_type": "stream",
     "text": [
      "100%|██████████| 101/101 [01:38<00:00,  1.03it/s, tr_xent=1.18, tr_err=0.228, va_xent=1.41, va_err=0.36, batch_done=7]\n"
     ]
    },
    {
     "name": "stdout",
     "output_type": "stream",
     "text": [
      "Finished after epoch 100, best epoch=100\n",
      "best va_xent 1.412\n",
      "best tr_err 0.228\n",
      "best va_err 0.360\n",
      "Training with lr=0.0001, l2pen_mag=0.001, seed=123, epoch=30\n",
      "Setup complete. Trainable parameter count=5130 over 2 tensors in layers: output.\n"
     ]
    },
    {
     "name": "stderr",
     "output_type": "stream",
     "text": [
      "100%|██████████| 31/31 [00:29<00:00,  1.07it/s, tr_xent=1.84, tr_err=0.393, va_xent=1.93, va_err=0.46, batch_done=7]\n"
     ]
    },
    {
     "name": "stdout",
     "output_type": "stream",
     "text": [
      "Finished after epoch 30, best epoch=30\n",
      "best va_xent 1.927\n",
      "best tr_err 0.393\n",
      "best va_err 0.460\n",
      "Training with lr=0.0001, l2pen_mag=0.001, seed=123, epoch=50\n",
      "Setup complete. Trainable parameter count=5130 over 2 tensors in layers: output.\n"
     ]
    },
    {
     "name": "stderr",
     "output_type": "stream",
     "text": [
      "100%|██████████| 51/51 [00:49<00:00,  1.02it/s, tr_xent=1.58, tr_err=0.263, va_xent=1.74, va_err=0.45, batch_done=7]\n"
     ]
    },
    {
     "name": "stdout",
     "output_type": "stream",
     "text": [
      "Finished after epoch 50, best epoch=50\n",
      "best va_xent 1.736\n",
      "best tr_err 0.263\n",
      "best va_err 0.450\n",
      "Training with lr=0.0001, l2pen_mag=0.001, seed=123, epoch=100\n",
      "Setup complete. Trainable parameter count=5130 over 2 tensors in layers: output.\n"
     ]
    },
    {
     "name": "stderr",
     "output_type": "stream",
     "text": [
      "100%|██████████| 101/101 [01:40<00:00,  1.00it/s, tr_xent=1.19, tr_err=0.2, va_xent=1.42, va_err=0.33, batch_done=7]  \n"
     ]
    },
    {
     "name": "stdout",
     "output_type": "stream",
     "text": [
      "Finished after epoch 100, best epoch=100\n",
      "best va_xent 1.422\n",
      "best tr_err 0.200\n",
      "best va_err 0.330\n",
      "Training with lr=0.0001, l2pen_mag=0.01, seed=42, epoch=30\n",
      "Setup complete. Trainable parameter count=5130 over 2 tensors in layers: output.\n"
     ]
    },
    {
     "name": "stderr",
     "output_type": "stream",
     "text": [
      "100%|██████████| 31/31 [00:30<00:00,  1.00it/s, tr_xent=1.81, tr_err=0.343, va_xent=1.9, va_err=0.43, batch_done=7] \n"
     ]
    },
    {
     "name": "stdout",
     "output_type": "stream",
     "text": [
      "Finished after epoch 30, best epoch=30\n",
      "best va_xent 1.895\n",
      "best tr_err 0.343\n",
      "best va_err 0.430\n",
      "Training with lr=0.0001, l2pen_mag=0.01, seed=42, epoch=50\n",
      "Setup complete. Trainable parameter count=5130 over 2 tensors in layers: output.\n"
     ]
    },
    {
     "name": "stderr",
     "output_type": "stream",
     "text": [
      "100%|██████████| 51/51 [00:50<00:00,  1.01it/s, tr_xent=1.56, tr_err=0.258, va_xent=1.71, va_err=0.37, batch_done=7]\n"
     ]
    },
    {
     "name": "stdout",
     "output_type": "stream",
     "text": [
      "Finished after epoch 50, best epoch=50\n",
      "best va_xent 1.706\n",
      "best tr_err 0.258\n",
      "best va_err 0.370\n",
      "Training with lr=0.0001, l2pen_mag=0.01, seed=42, epoch=100\n",
      "Setup complete. Trainable parameter count=5130 over 2 tensors in layers: output.\n"
     ]
    },
    {
     "name": "stderr",
     "output_type": "stream",
     "text": [
      "100%|██████████| 101/101 [01:39<00:00,  1.01it/s, tr_xent=1.21, tr_err=0.215, va_xent=1.4, va_err=0.34, batch_done=7]\n"
     ]
    },
    {
     "name": "stdout",
     "output_type": "stream",
     "text": [
      "Finished after epoch 100, best epoch=100\n",
      "best va_xent 1.402\n",
      "best tr_err 0.215\n",
      "best va_err 0.340\n",
      "Training with lr=0.0001, l2pen_mag=0.01, seed=100, epoch=30\n",
      "Setup complete. Trainable parameter count=5130 over 2 tensors in layers: output.\n"
     ]
    },
    {
     "name": "stderr",
     "output_type": "stream",
     "text": [
      "100%|██████████| 31/31 [00:29<00:00,  1.05it/s, tr_xent=1.81, tr_err=0.372, va_xent=1.92, va_err=0.43, batch_done=7]\n"
     ]
    },
    {
     "name": "stdout",
     "output_type": "stream",
     "text": [
      "Finished after epoch 30, best epoch=30\n",
      "best va_xent 1.915\n",
      "best tr_err 0.372\n",
      "best va_err 0.430\n",
      "Training with lr=0.0001, l2pen_mag=0.01, seed=100, epoch=50\n",
      "Setup complete. Trainable parameter count=5130 over 2 tensors in layers: output.\n"
     ]
    },
    {
     "name": "stderr",
     "output_type": "stream",
     "text": [
      "100%|██████████| 51/51 [00:49<00:00,  1.04it/s, tr_xent=1.56, tr_err=0.297, va_xent=1.72, va_err=0.41, batch_done=7]\n"
     ]
    },
    {
     "name": "stdout",
     "output_type": "stream",
     "text": [
      "Finished after epoch 50, best epoch=50\n",
      "best va_xent 1.719\n",
      "best tr_err 0.297\n",
      "best va_err 0.410\n",
      "Training with lr=0.0001, l2pen_mag=0.01, seed=100, epoch=100\n",
      "Setup complete. Trainable parameter count=5130 over 2 tensors in layers: output.\n"
     ]
    },
    {
     "name": "stderr",
     "output_type": "stream",
     "text": [
      "100%|██████████| 101/101 [01:36<00:00,  1.04it/s, tr_xent=1.18, tr_err=0.228, va_xent=1.41, va_err=0.36, batch_done=7]\n"
     ]
    },
    {
     "name": "stdout",
     "output_type": "stream",
     "text": [
      "Finished after epoch 100, best epoch=100\n",
      "best va_xent 1.412\n",
      "best tr_err 0.228\n",
      "best va_err 0.360\n",
      "Training with lr=0.0001, l2pen_mag=0.01, seed=123, epoch=30\n",
      "Setup complete. Trainable parameter count=5130 over 2 tensors in layers: output.\n"
     ]
    },
    {
     "name": "stderr",
     "output_type": "stream",
     "text": [
      "100%|██████████| 31/31 [00:28<00:00,  1.07it/s, tr_xent=1.84, tr_err=0.393, va_xent=1.93, va_err=0.46, batch_done=7]\n"
     ]
    },
    {
     "name": "stdout",
     "output_type": "stream",
     "text": [
      "Finished after epoch 30, best epoch=30\n",
      "best va_xent 1.927\n",
      "best tr_err 0.393\n",
      "best va_err 0.460\n",
      "Training with lr=0.0001, l2pen_mag=0.01, seed=123, epoch=50\n",
      "Setup complete. Trainable parameter count=5130 over 2 tensors in layers: output.\n"
     ]
    },
    {
     "name": "stderr",
     "output_type": "stream",
     "text": [
      "100%|██████████| 51/51 [00:48<00:00,  1.06it/s, tr_xent=1.58, tr_err=0.263, va_xent=1.74, va_err=0.45, batch_done=7]\n"
     ]
    },
    {
     "name": "stdout",
     "output_type": "stream",
     "text": [
      "Finished after epoch 50, best epoch=50\n",
      "best va_xent 1.736\n",
      "best tr_err 0.263\n",
      "best va_err 0.450\n",
      "Training with lr=0.0001, l2pen_mag=0.01, seed=123, epoch=100\n",
      "Setup complete. Trainable parameter count=5130 over 2 tensors in layers: output.\n"
     ]
    },
    {
     "name": "stderr",
     "output_type": "stream",
     "text": [
      "100%|██████████| 101/101 [01:36<00:00,  1.05it/s, tr_xent=1.19, tr_err=0.2, va_xent=1.42, va_err=0.33, batch_done=7]  \n"
     ]
    },
    {
     "name": "stdout",
     "output_type": "stream",
     "text": [
      "Finished after epoch 100, best epoch=100\n",
      "best va_xent 1.422\n",
      "best tr_err 0.200\n",
      "best va_err 0.330\n",
      "Training with lr=0.001, l2pen_mag=0.0001, seed=42, epoch=30\n",
      "Setup complete. Trainable parameter count=5130 over 2 tensors in layers: output.\n"
     ]
    },
    {
     "name": "stderr",
     "output_type": "stream",
     "text": [
      "100%|██████████| 31/31 [00:29<00:00,  1.06it/s, tr_xent=0.702, tr_err=0.152, va_xent=1.04, va_err=0.28, batch_done=7]\n"
     ]
    },
    {
     "name": "stdout",
     "output_type": "stream",
     "text": [
      "Finished after epoch 30, best epoch=29\n",
      "best va_xent 1.029\n",
      "best tr_err 0.155\n",
      "best va_err 0.290\n",
      "Training with lr=0.001, l2pen_mag=0.0001, seed=42, epoch=50\n",
      "Setup complete. Trainable parameter count=5130 over 2 tensors in layers: output.\n"
     ]
    },
    {
     "name": "stderr",
     "output_type": "stream",
     "text": [
      "100%|██████████| 51/51 [00:48<00:00,  1.06it/s, tr_xent=0.482, tr_err=0.07, va_xent=0.921, va_err=0.22, batch_done=7] \n"
     ]
    },
    {
     "name": "stdout",
     "output_type": "stream",
     "text": [
      "Finished after epoch 50, best epoch=50\n",
      "best va_xent 0.921\n",
      "best tr_err 0.070\n",
      "best va_err 0.220\n",
      "Training with lr=0.001, l2pen_mag=0.0001, seed=42, epoch=100\n",
      "Setup complete. Trainable parameter count=5130 over 2 tensors in layers: output.\n"
     ]
    },
    {
     "name": "stderr",
     "output_type": "stream",
     "text": [
      "100%|██████████| 101/101 [01:33<00:00,  1.08it/s, tr_xent=0.346, tr_err=0.05, va_xent=0.848, va_err=0.21, batch_done=7] \n"
     ]
    },
    {
     "name": "stdout",
     "output_type": "stream",
     "text": [
      "Finished after epoch 100, best epoch=90\n",
      "best va_xent 0.835\n",
      "best tr_err 0.050\n",
      "best va_err 0.210\n",
      "Training with lr=0.001, l2pen_mag=0.0001, seed=100, epoch=30\n",
      "Setup complete. Trainable parameter count=5130 over 2 tensors in layers: output.\n"
     ]
    },
    {
     "name": "stderr",
     "output_type": "stream",
     "text": [
      "100%|██████████| 31/31 [00:29<00:00,  1.03it/s, tr_xent=0.664, tr_err=0.115, va_xent=1.04, va_err=0.3, batch_done=7] \n"
     ]
    },
    {
     "name": "stdout",
     "output_type": "stream",
     "text": [
      "Finished after epoch 30, best epoch=30\n",
      "best va_xent 1.035\n",
      "best tr_err 0.115\n",
      "best va_err 0.300\n",
      "Training with lr=0.001, l2pen_mag=0.0001, seed=100, epoch=50\n",
      "Setup complete. Trainable parameter count=5130 over 2 tensors in layers: output.\n"
     ]
    },
    {
     "name": "stderr",
     "output_type": "stream",
     "text": [
      "100%|██████████| 51/51 [00:48<00:00,  1.05it/s, tr_xent=0.477, tr_err=0.09, va_xent=0.934, va_err=0.24, batch_done=7]  \n"
     ]
    },
    {
     "name": "stdout",
     "output_type": "stream",
     "text": [
      "Finished after epoch 50, best epoch=50\n",
      "best va_xent 0.934\n",
      "best tr_err 0.090\n",
      "best va_err 0.240\n",
      "Training with lr=0.001, l2pen_mag=0.0001, seed=100, epoch=100\n",
      "Setup complete. Trainable parameter count=5130 over 2 tensors in layers: output.\n"
     ]
    },
    {
     "name": "stderr",
     "output_type": "stream",
     "text": [
      "100%|██████████| 101/101 [01:34<00:00,  1.07it/s, tr_xent=0.296, tr_err=0.045, va_xent=0.855, va_err=0.19, batch_done=7]\n"
     ]
    },
    {
     "name": "stdout",
     "output_type": "stream",
     "text": [
      "Finished after epoch 100, best epoch=90\n",
      "best va_xent 0.848\n",
      "best tr_err 0.050\n",
      "best va_err 0.230\n",
      "Training with lr=0.001, l2pen_mag=0.0001, seed=123, epoch=30\n",
      "Setup complete. Trainable parameter count=5130 over 2 tensors in layers: output.\n"
     ]
    },
    {
     "name": "stderr",
     "output_type": "stream",
     "text": [
      "100%|██████████| 31/31 [00:30<00:00,  1.03it/s, tr_xent=0.654, tr_err=0.145, va_xent=1.03, va_err=0.29, batch_done=7]\n"
     ]
    },
    {
     "name": "stdout",
     "output_type": "stream",
     "text": [
      "Finished after epoch 30, best epoch=30\n",
      "best va_xent 1.034\n",
      "best tr_err 0.145\n",
      "best va_err 0.290\n",
      "Training with lr=0.001, l2pen_mag=0.0001, seed=123, epoch=50\n",
      "Setup complete. Trainable parameter count=5130 over 2 tensors in layers: output.\n"
     ]
    },
    {
     "name": "stderr",
     "output_type": "stream",
     "text": [
      "100%|██████████| 51/51 [00:49<00:00,  1.03it/s, tr_xent=0.487, tr_err=0.0925, va_xent=0.953, va_err=0.26, batch_done=7]\n"
     ]
    },
    {
     "name": "stdout",
     "output_type": "stream",
     "text": [
      "Finished after epoch 50, best epoch=49\n",
      "best va_xent 0.941\n",
      "best tr_err 0.105\n",
      "best va_err 0.270\n",
      "Training with lr=0.001, l2pen_mag=0.0001, seed=123, epoch=100\n",
      "Setup complete. Trainable parameter count=5130 over 2 tensors in layers: output.\n"
     ]
    },
    {
     "name": "stderr",
     "output_type": "stream",
     "text": [
      "100%|██████████| 101/101 [01:33<00:00,  1.08it/s, tr_xent=0.296, tr_err=0.0375, va_xent=0.861, va_err=0.21, batch_done=7]\n"
     ]
    },
    {
     "name": "stdout",
     "output_type": "stream",
     "text": [
      "Finished after epoch 100, best epoch=94\n",
      "best va_xent 0.856\n",
      "best tr_err 0.058\n",
      "best va_err 0.190\n",
      "Training with lr=0.001, l2pen_mag=0.001, seed=42, epoch=30\n",
      "Setup complete. Trainable parameter count=5130 over 2 tensors in layers: output.\n"
     ]
    },
    {
     "name": "stderr",
     "output_type": "stream",
     "text": [
      "100%|██████████| 31/31 [00:28<00:00,  1.08it/s, tr_xent=0.702, tr_err=0.152, va_xent=1.04, va_err=0.28, batch_done=7]\n"
     ]
    },
    {
     "name": "stdout",
     "output_type": "stream",
     "text": [
      "Finished after epoch 30, best epoch=29\n",
      "best va_xent 1.029\n",
      "best tr_err 0.155\n",
      "best va_err 0.290\n",
      "Training with lr=0.001, l2pen_mag=0.001, seed=42, epoch=50\n",
      "Setup complete. Trainable parameter count=5130 over 2 tensors in layers: output.\n"
     ]
    },
    {
     "name": "stderr",
     "output_type": "stream",
     "text": [
      "100%|██████████| 51/51 [00:47<00:00,  1.07it/s, tr_xent=0.482, tr_err=0.07, va_xent=0.921, va_err=0.22, batch_done=7] \n"
     ]
    },
    {
     "name": "stdout",
     "output_type": "stream",
     "text": [
      "Finished after epoch 50, best epoch=50\n",
      "best va_xent 0.921\n",
      "best tr_err 0.070\n",
      "best va_err 0.220\n",
      "Training with lr=0.001, l2pen_mag=0.001, seed=42, epoch=100\n",
      "Setup complete. Trainable parameter count=5130 over 2 tensors in layers: output.\n"
     ]
    },
    {
     "name": "stderr",
     "output_type": "stream",
     "text": [
      "100%|██████████| 101/101 [01:33<00:00,  1.08it/s, tr_xent=0.346, tr_err=0.05, va_xent=0.848, va_err=0.21, batch_done=7] \n"
     ]
    },
    {
     "name": "stdout",
     "output_type": "stream",
     "text": [
      "Finished after epoch 100, best epoch=90\n",
      "best va_xent 0.835\n",
      "best tr_err 0.050\n",
      "best va_err 0.210\n",
      "Training with lr=0.001, l2pen_mag=0.001, seed=100, epoch=30\n",
      "Setup complete. Trainable parameter count=5130 over 2 tensors in layers: output.\n"
     ]
    },
    {
     "name": "stderr",
     "output_type": "stream",
     "text": [
      "100%|██████████| 31/31 [00:28<00:00,  1.07it/s, tr_xent=0.664, tr_err=0.115, va_xent=1.04, va_err=0.3, batch_done=7] \n"
     ]
    },
    {
     "name": "stdout",
     "output_type": "stream",
     "text": [
      "Finished after epoch 30, best epoch=30\n",
      "best va_xent 1.035\n",
      "best tr_err 0.115\n",
      "best va_err 0.300\n",
      "Training with lr=0.001, l2pen_mag=0.001, seed=100, epoch=50\n",
      "Setup complete. Trainable parameter count=5130 over 2 tensors in layers: output.\n"
     ]
    },
    {
     "name": "stderr",
     "output_type": "stream",
     "text": [
      "100%|██████████| 51/51 [00:47<00:00,  1.07it/s, tr_xent=0.477, tr_err=0.09, va_xent=0.934, va_err=0.24, batch_done=7]  \n"
     ]
    },
    {
     "name": "stdout",
     "output_type": "stream",
     "text": [
      "Finished after epoch 50, best epoch=50\n",
      "best va_xent 0.934\n",
      "best tr_err 0.090\n",
      "best va_err 0.240\n",
      "Training with lr=0.001, l2pen_mag=0.001, seed=100, epoch=100\n",
      "Setup complete. Trainable parameter count=5130 over 2 tensors in layers: output.\n"
     ]
    },
    {
     "name": "stderr",
     "output_type": "stream",
     "text": [
      "100%|██████████| 101/101 [01:33<00:00,  1.08it/s, tr_xent=0.296, tr_err=0.045, va_xent=0.855, va_err=0.19, batch_done=7]\n"
     ]
    },
    {
     "name": "stdout",
     "output_type": "stream",
     "text": [
      "Finished after epoch 100, best epoch=90\n",
      "best va_xent 0.848\n",
      "best tr_err 0.050\n",
      "best va_err 0.230\n",
      "Training with lr=0.001, l2pen_mag=0.001, seed=123, epoch=30\n",
      "Setup complete. Trainable parameter count=5130 over 2 tensors in layers: output.\n"
     ]
    },
    {
     "name": "stderr",
     "output_type": "stream",
     "text": [
      "100%|██████████| 31/31 [00:28<00:00,  1.08it/s, tr_xent=0.654, tr_err=0.145, va_xent=1.03, va_err=0.29, batch_done=7]\n"
     ]
    },
    {
     "name": "stdout",
     "output_type": "stream",
     "text": [
      "Finished after epoch 30, best epoch=30\n",
      "best va_xent 1.034\n",
      "best tr_err 0.145\n",
      "best va_err 0.290\n",
      "Training with lr=0.001, l2pen_mag=0.001, seed=123, epoch=50\n",
      "Setup complete. Trainable parameter count=5130 over 2 tensors in layers: output.\n"
     ]
    },
    {
     "name": "stderr",
     "output_type": "stream",
     "text": [
      "100%|██████████| 51/51 [00:47<00:00,  1.07it/s, tr_xent=0.487, tr_err=0.0925, va_xent=0.953, va_err=0.26, batch_done=7]\n"
     ]
    },
    {
     "name": "stdout",
     "output_type": "stream",
     "text": [
      "Finished after epoch 50, best epoch=49\n",
      "best va_xent 0.941\n",
      "best tr_err 0.105\n",
      "best va_err 0.270\n",
      "Training with lr=0.001, l2pen_mag=0.001, seed=123, epoch=100\n",
      "Setup complete. Trainable parameter count=5130 over 2 tensors in layers: output.\n"
     ]
    },
    {
     "name": "stderr",
     "output_type": "stream",
     "text": [
      "100%|██████████| 101/101 [01:33<00:00,  1.09it/s, tr_xent=0.296, tr_err=0.0375, va_xent=0.861, va_err=0.21, batch_done=7]\n"
     ]
    },
    {
     "name": "stdout",
     "output_type": "stream",
     "text": [
      "Finished after epoch 100, best epoch=94\n",
      "best va_xent 0.856\n",
      "best tr_err 0.058\n",
      "best va_err 0.190\n",
      "Training with lr=0.001, l2pen_mag=0.01, seed=42, epoch=30\n",
      "Setup complete. Trainable parameter count=5130 over 2 tensors in layers: output.\n"
     ]
    },
    {
     "name": "stderr",
     "output_type": "stream",
     "text": [
      "100%|██████████| 31/31 [00:28<00:00,  1.08it/s, tr_xent=0.702, tr_err=0.152, va_xent=1.04, va_err=0.28, batch_done=7]\n"
     ]
    },
    {
     "name": "stdout",
     "output_type": "stream",
     "text": [
      "Finished after epoch 30, best epoch=29\n",
      "best va_xent 1.029\n",
      "best tr_err 0.155\n",
      "best va_err 0.290\n",
      "Training with lr=0.001, l2pen_mag=0.01, seed=42, epoch=50\n",
      "Setup complete. Trainable parameter count=5130 over 2 tensors in layers: output.\n"
     ]
    },
    {
     "name": "stderr",
     "output_type": "stream",
     "text": [
      "100%|██████████| 51/51 [00:47<00:00,  1.07it/s, tr_xent=0.482, tr_err=0.07, va_xent=0.921, va_err=0.22, batch_done=7] \n"
     ]
    },
    {
     "name": "stdout",
     "output_type": "stream",
     "text": [
      "Finished after epoch 50, best epoch=50\n",
      "best va_xent 0.921\n",
      "best tr_err 0.070\n",
      "best va_err 0.220\n",
      "Training with lr=0.001, l2pen_mag=0.01, seed=42, epoch=100\n",
      "Setup complete. Trainable parameter count=5130 over 2 tensors in layers: output.\n"
     ]
    },
    {
     "name": "stderr",
     "output_type": "stream",
     "text": [
      "100%|██████████| 101/101 [01:33<00:00,  1.09it/s, tr_xent=0.346, tr_err=0.05, va_xent=0.848, va_err=0.21, batch_done=7] \n"
     ]
    },
    {
     "name": "stdout",
     "output_type": "stream",
     "text": [
      "Finished after epoch 100, best epoch=90\n",
      "best va_xent 0.835\n",
      "best tr_err 0.050\n",
      "best va_err 0.210\n",
      "Training with lr=0.001, l2pen_mag=0.01, seed=100, epoch=30\n",
      "Setup complete. Trainable parameter count=5130 over 2 tensors in layers: output.\n"
     ]
    },
    {
     "name": "stderr",
     "output_type": "stream",
     "text": [
      "100%|██████████| 31/31 [00:28<00:00,  1.08it/s, tr_xent=0.664, tr_err=0.115, va_xent=1.04, va_err=0.3, batch_done=7] \n"
     ]
    },
    {
     "name": "stdout",
     "output_type": "stream",
     "text": [
      "Finished after epoch 30, best epoch=30\n",
      "best va_xent 1.035\n",
      "best tr_err 0.115\n",
      "best va_err 0.300\n",
      "Training with lr=0.001, l2pen_mag=0.01, seed=100, epoch=50\n",
      "Setup complete. Trainable parameter count=5130 over 2 tensors in layers: output.\n"
     ]
    },
    {
     "name": "stderr",
     "output_type": "stream",
     "text": [
      "100%|██████████| 51/51 [00:47<00:00,  1.07it/s, tr_xent=0.477, tr_err=0.09, va_xent=0.934, va_err=0.24, batch_done=7]  \n"
     ]
    },
    {
     "name": "stdout",
     "output_type": "stream",
     "text": [
      "Finished after epoch 50, best epoch=50\n",
      "best va_xent 0.934\n",
      "best tr_err 0.090\n",
      "best va_err 0.240\n",
      "Training with lr=0.001, l2pen_mag=0.01, seed=100, epoch=100\n",
      "Setup complete. Trainable parameter count=5130 over 2 tensors in layers: output.\n"
     ]
    },
    {
     "name": "stderr",
     "output_type": "stream",
     "text": [
      "100%|██████████| 101/101 [01:32<00:00,  1.09it/s, tr_xent=0.296, tr_err=0.045, va_xent=0.855, va_err=0.19, batch_done=7]\n"
     ]
    },
    {
     "name": "stdout",
     "output_type": "stream",
     "text": [
      "Finished after epoch 100, best epoch=90\n",
      "best va_xent 0.848\n",
      "best tr_err 0.050\n",
      "best va_err 0.230\n",
      "Training with lr=0.001, l2pen_mag=0.01, seed=123, epoch=30\n",
      "Setup complete. Trainable parameter count=5130 over 2 tensors in layers: output.\n"
     ]
    },
    {
     "name": "stderr",
     "output_type": "stream",
     "text": [
      "100%|██████████| 31/31 [00:28<00:00,  1.08it/s, tr_xent=0.654, tr_err=0.145, va_xent=1.03, va_err=0.29, batch_done=7]\n"
     ]
    },
    {
     "name": "stdout",
     "output_type": "stream",
     "text": [
      "Finished after epoch 30, best epoch=30\n",
      "best va_xent 1.034\n",
      "best tr_err 0.145\n",
      "best va_err 0.290\n",
      "Training with lr=0.001, l2pen_mag=0.01, seed=123, epoch=50\n",
      "Setup complete. Trainable parameter count=5130 over 2 tensors in layers: output.\n"
     ]
    },
    {
     "name": "stderr",
     "output_type": "stream",
     "text": [
      "100%|██████████| 51/51 [00:47<00:00,  1.08it/s, tr_xent=0.487, tr_err=0.0925, va_xent=0.953, va_err=0.26, batch_done=7]\n"
     ]
    },
    {
     "name": "stdout",
     "output_type": "stream",
     "text": [
      "Finished after epoch 50, best epoch=49\n",
      "best va_xent 0.941\n",
      "best tr_err 0.105\n",
      "best va_err 0.270\n",
      "Training with lr=0.001, l2pen_mag=0.01, seed=123, epoch=100\n",
      "Setup complete. Trainable parameter count=5130 over 2 tensors in layers: output.\n"
     ]
    },
    {
     "name": "stderr",
     "output_type": "stream",
     "text": [
      "100%|██████████| 101/101 [01:32<00:00,  1.10it/s, tr_xent=0.296, tr_err=0.0375, va_xent=0.861, va_err=0.21, batch_done=7]\n"
     ]
    },
    {
     "name": "stdout",
     "output_type": "stream",
     "text": [
      "Finished after epoch 100, best epoch=94\n",
      "best va_xent 0.856\n",
      "best tr_err 0.058\n",
      "best va_err 0.190\n",
      "Training with lr=0.01, l2pen_mag=0.0001, seed=42, epoch=30\n",
      "Setup complete. Trainable parameter count=5130 over 2 tensors in layers: output.\n"
     ]
    },
    {
     "name": "stderr",
     "output_type": "stream",
     "text": [
      " 97%|█████████▋| 30/31 [00:27<00:00,  1.10it/s, tr_xent=0.214, tr_err=0.0475, va_xent=1.06, va_err=0.24, batch_done=7] \n"
     ]
    },
    {
     "name": "stdout",
     "output_type": "stream",
     "text": [
      "Stopped early.\n",
      "Finished after epoch 30, best epoch=15\n",
      "best va_xent 0.839\n",
      "best tr_err 0.083\n",
      "best va_err 0.210\n",
      "Training with lr=0.01, l2pen_mag=0.0001, seed=42, epoch=50\n",
      "Setup complete. Trainable parameter count=5130 over 2 tensors in layers: output.\n"
     ]
    },
    {
     "name": "stderr",
     "output_type": "stream",
     "text": [
      " 59%|█████▉    | 30/51 [00:27<00:19,  1.10it/s, tr_xent=0.214, tr_err=0.0475, va_xent=1.06, va_err=0.24, batch_done=7] \n"
     ]
    },
    {
     "name": "stdout",
     "output_type": "stream",
     "text": [
      "Stopped early.\n",
      "Finished after epoch 30, best epoch=15\n",
      "best va_xent 0.839\n",
      "best tr_err 0.083\n",
      "best va_err 0.210\n",
      "Training with lr=0.01, l2pen_mag=0.0001, seed=42, epoch=100\n",
      "Setup complete. Trainable parameter count=5130 over 2 tensors in layers: output.\n"
     ]
    },
    {
     "name": "stderr",
     "output_type": "stream",
     "text": [
      " 30%|██▉       | 30/101 [00:27<01:04,  1.10it/s, tr_xent=0.214, tr_err=0.0475, va_xent=1.06, va_err=0.24, batch_done=7] \n"
     ]
    },
    {
     "name": "stdout",
     "output_type": "stream",
     "text": [
      "Stopped early.\n",
      "Finished after epoch 30, best epoch=15\n",
      "best va_xent 0.839\n",
      "best tr_err 0.083\n",
      "best va_err 0.210\n",
      "Training with lr=0.01, l2pen_mag=0.0001, seed=100, epoch=30\n",
      "Setup complete. Trainable parameter count=5130 over 2 tensors in layers: output.\n"
     ]
    },
    {
     "name": "stderr",
     "output_type": "stream",
     "text": [
      " 84%|████████▍ | 26/31 [00:23<00:04,  1.10it/s, tr_xent=0.206, tr_err=0.04, va_xent=0.927, va_err=0.22, batch_done=7]  \n"
     ]
    },
    {
     "name": "stdout",
     "output_type": "stream",
     "text": [
      "Stopped early.\n",
      "Finished after epoch 26, best epoch=11\n",
      "best va_xent 0.838\n",
      "best tr_err 0.105\n",
      "best va_err 0.170\n",
      "Training with lr=0.01, l2pen_mag=0.0001, seed=100, epoch=50\n",
      "Setup complete. Trainable parameter count=5130 over 2 tensors in layers: output.\n"
     ]
    },
    {
     "name": "stderr",
     "output_type": "stream",
     "text": [
      " 51%|█████     | 26/51 [00:23<00:23,  1.08it/s, tr_xent=0.206, tr_err=0.04, va_xent=0.927, va_err=0.22, batch_done=7]  \n"
     ]
    },
    {
     "name": "stdout",
     "output_type": "stream",
     "text": [
      "Stopped early.\n",
      "Finished after epoch 26, best epoch=11\n",
      "best va_xent 0.838\n",
      "best tr_err 0.105\n",
      "best va_err 0.170\n",
      "Training with lr=0.01, l2pen_mag=0.0001, seed=100, epoch=100\n",
      "Setup complete. Trainable parameter count=5130 over 2 tensors in layers: output.\n"
     ]
    },
    {
     "name": "stderr",
     "output_type": "stream",
     "text": [
      " 26%|██▌       | 26/101 [00:23<01:08,  1.10it/s, tr_xent=0.206, tr_err=0.04, va_xent=0.927, va_err=0.22, batch_done=7]  \n"
     ]
    },
    {
     "name": "stdout",
     "output_type": "stream",
     "text": [
      "Stopped early.\n",
      "Finished after epoch 26, best epoch=11\n",
      "best va_xent 0.838\n",
      "best tr_err 0.105\n",
      "best va_err 0.170\n",
      "Training with lr=0.01, l2pen_mag=0.0001, seed=123, epoch=30\n",
      "Setup complete. Trainable parameter count=5130 over 2 tensors in layers: output.\n"
     ]
    },
    {
     "name": "stderr",
     "output_type": "stream",
     "text": [
      " 84%|████████▍ | 26/31 [00:23<00:04,  1.10it/s, tr_xent=0.181, tr_err=0.0325, va_xent=0.932, va_err=0.18, batch_done=7]\n"
     ]
    },
    {
     "name": "stdout",
     "output_type": "stream",
     "text": [
      "Stopped early.\n",
      "Finished after epoch 26, best epoch=11\n",
      "best va_xent 0.839\n",
      "best tr_err 0.090\n",
      "best va_err 0.220\n",
      "Training with lr=0.01, l2pen_mag=0.0001, seed=123, epoch=50\n",
      "Setup complete. Trainable parameter count=5130 over 2 tensors in layers: output.\n"
     ]
    },
    {
     "name": "stderr",
     "output_type": "stream",
     "text": [
      " 51%|█████     | 26/51 [00:23<00:22,  1.10it/s, tr_xent=0.181, tr_err=0.0325, va_xent=0.932, va_err=0.18, batch_done=7]\n"
     ]
    },
    {
     "name": "stdout",
     "output_type": "stream",
     "text": [
      "Stopped early.\n",
      "Finished after epoch 26, best epoch=11\n",
      "best va_xent 0.839\n",
      "best tr_err 0.090\n",
      "best va_err 0.220\n",
      "Training with lr=0.01, l2pen_mag=0.0001, seed=123, epoch=100\n",
      "Setup complete. Trainable parameter count=5130 over 2 tensors in layers: output.\n"
     ]
    },
    {
     "name": "stderr",
     "output_type": "stream",
     "text": [
      " 26%|██▌       | 26/101 [00:23<01:08,  1.10it/s, tr_xent=0.181, tr_err=0.0325, va_xent=0.932, va_err=0.18, batch_done=7]\n"
     ]
    },
    {
     "name": "stdout",
     "output_type": "stream",
     "text": [
      "Stopped early.\n",
      "Finished after epoch 26, best epoch=11\n",
      "best va_xent 0.839\n",
      "best tr_err 0.090\n",
      "best va_err 0.220\n",
      "Training with lr=0.01, l2pen_mag=0.001, seed=42, epoch=30\n",
      "Setup complete. Trainable parameter count=5130 over 2 tensors in layers: output.\n"
     ]
    },
    {
     "name": "stderr",
     "output_type": "stream",
     "text": [
      " 97%|█████████▋| 30/31 [00:27<00:00,  1.09it/s, tr_xent=0.214, tr_err=0.0475, va_xent=1.06, va_err=0.24, batch_done=7] \n"
     ]
    },
    {
     "name": "stdout",
     "output_type": "stream",
     "text": [
      "Stopped early.\n",
      "Finished after epoch 30, best epoch=15\n",
      "best va_xent 0.839\n",
      "best tr_err 0.083\n",
      "best va_err 0.210\n",
      "Training with lr=0.01, l2pen_mag=0.001, seed=42, epoch=50\n",
      "Setup complete. Trainable parameter count=5130 over 2 tensors in layers: output.\n"
     ]
    },
    {
     "name": "stderr",
     "output_type": "stream",
     "text": [
      " 59%|█████▉    | 30/51 [00:27<00:19,  1.10it/s, tr_xent=0.214, tr_err=0.0475, va_xent=1.06, va_err=0.24, batch_done=7] \n"
     ]
    },
    {
     "name": "stdout",
     "output_type": "stream",
     "text": [
      "Stopped early.\n",
      "Finished after epoch 30, best epoch=15\n",
      "best va_xent 0.839\n",
      "best tr_err 0.083\n",
      "best va_err 0.210\n",
      "Training with lr=0.01, l2pen_mag=0.001, seed=42, epoch=100\n",
      "Setup complete. Trainable parameter count=5130 over 2 tensors in layers: output.\n"
     ]
    },
    {
     "name": "stderr",
     "output_type": "stream",
     "text": [
      " 30%|██▉       | 30/101 [00:27<01:04,  1.09it/s, tr_xent=0.214, tr_err=0.0475, va_xent=1.06, va_err=0.24, batch_done=7] \n"
     ]
    },
    {
     "name": "stdout",
     "output_type": "stream",
     "text": [
      "Stopped early.\n",
      "Finished after epoch 30, best epoch=15\n",
      "best va_xent 0.839\n",
      "best tr_err 0.083\n",
      "best va_err 0.210\n",
      "Training with lr=0.01, l2pen_mag=0.001, seed=100, epoch=30\n",
      "Setup complete. Trainable parameter count=5130 over 2 tensors in layers: output.\n"
     ]
    },
    {
     "name": "stderr",
     "output_type": "stream",
     "text": [
      " 84%|████████▍ | 26/31 [00:23<00:04,  1.10it/s, tr_xent=0.206, tr_err=0.04, va_xent=0.927, va_err=0.22, batch_done=7]  \n"
     ]
    },
    {
     "name": "stdout",
     "output_type": "stream",
     "text": [
      "Stopped early.\n",
      "Finished after epoch 26, best epoch=11\n",
      "best va_xent 0.838\n",
      "best tr_err 0.105\n",
      "best va_err 0.170\n",
      "Training with lr=0.01, l2pen_mag=0.001, seed=100, epoch=50\n",
      "Setup complete. Trainable parameter count=5130 over 2 tensors in layers: output.\n"
     ]
    },
    {
     "name": "stderr",
     "output_type": "stream",
     "text": [
      " 51%|█████     | 26/51 [00:23<00:22,  1.10it/s, tr_xent=0.206, tr_err=0.04, va_xent=0.927, va_err=0.22, batch_done=7]  \n"
     ]
    },
    {
     "name": "stdout",
     "output_type": "stream",
     "text": [
      "Stopped early.\n",
      "Finished after epoch 26, best epoch=11\n",
      "best va_xent 0.838\n",
      "best tr_err 0.105\n",
      "best va_err 0.170\n",
      "Training with lr=0.01, l2pen_mag=0.001, seed=100, epoch=100\n",
      "Setup complete. Trainable parameter count=5130 over 2 tensors in layers: output.\n"
     ]
    },
    {
     "name": "stderr",
     "output_type": "stream",
     "text": [
      " 26%|██▌       | 26/101 [00:23<01:08,  1.10it/s, tr_xent=0.206, tr_err=0.04, va_xent=0.927, va_err=0.22, batch_done=7]  \n"
     ]
    },
    {
     "name": "stdout",
     "output_type": "stream",
     "text": [
      "Stopped early.\n",
      "Finished after epoch 26, best epoch=11\n",
      "best va_xent 0.838\n",
      "best tr_err 0.105\n",
      "best va_err 0.170\n",
      "Training with lr=0.01, l2pen_mag=0.001, seed=123, epoch=30\n",
      "Setup complete. Trainable parameter count=5130 over 2 tensors in layers: output.\n"
     ]
    },
    {
     "name": "stderr",
     "output_type": "stream",
     "text": [
      " 84%|████████▍ | 26/31 [00:23<00:04,  1.10it/s, tr_xent=0.181, tr_err=0.0325, va_xent=0.932, va_err=0.18, batch_done=7]\n"
     ]
    },
    {
     "name": "stdout",
     "output_type": "stream",
     "text": [
      "Stopped early.\n",
      "Finished after epoch 26, best epoch=11\n",
      "best va_xent 0.839\n",
      "best tr_err 0.090\n",
      "best va_err 0.220\n",
      "Training with lr=0.01, l2pen_mag=0.001, seed=123, epoch=50\n",
      "Setup complete. Trainable parameter count=5130 over 2 tensors in layers: output.\n"
     ]
    },
    {
     "name": "stderr",
     "output_type": "stream",
     "text": [
      " 51%|█████     | 26/51 [00:23<00:22,  1.10it/s, tr_xent=0.181, tr_err=0.0325, va_xent=0.932, va_err=0.18, batch_done=7]\n"
     ]
    },
    {
     "name": "stdout",
     "output_type": "stream",
     "text": [
      "Stopped early.\n",
      "Finished after epoch 26, best epoch=11\n",
      "best va_xent 0.839\n",
      "best tr_err 0.090\n",
      "best va_err 0.220\n",
      "Training with lr=0.01, l2pen_mag=0.001, seed=123, epoch=100\n",
      "Setup complete. Trainable parameter count=5130 over 2 tensors in layers: output.\n"
     ]
    },
    {
     "name": "stderr",
     "output_type": "stream",
     "text": [
      " 26%|██▌       | 26/101 [00:23<01:08,  1.10it/s, tr_xent=0.181, tr_err=0.0325, va_xent=0.932, va_err=0.18, batch_done=7]\n"
     ]
    },
    {
     "name": "stdout",
     "output_type": "stream",
     "text": [
      "Stopped early.\n",
      "Finished after epoch 26, best epoch=11\n",
      "best va_xent 0.839\n",
      "best tr_err 0.090\n",
      "best va_err 0.220\n",
      "Training with lr=0.01, l2pen_mag=0.01, seed=42, epoch=30\n",
      "Setup complete. Trainable parameter count=5130 over 2 tensors in layers: output.\n"
     ]
    },
    {
     "name": "stderr",
     "output_type": "stream",
     "text": [
      " 97%|█████████▋| 30/31 [00:27<00:00,  1.10it/s, tr_xent=0.214, tr_err=0.0475, va_xent=1.06, va_err=0.24, batch_done=7] \n"
     ]
    },
    {
     "name": "stdout",
     "output_type": "stream",
     "text": [
      "Stopped early.\n",
      "Finished after epoch 30, best epoch=15\n",
      "best va_xent 0.839\n",
      "best tr_err 0.083\n",
      "best va_err 0.210\n",
      "Training with lr=0.01, l2pen_mag=0.01, seed=42, epoch=50\n",
      "Setup complete. Trainable parameter count=5130 over 2 tensors in layers: output.\n"
     ]
    },
    {
     "name": "stderr",
     "output_type": "stream",
     "text": [
      " 59%|█████▉    | 30/51 [00:27<00:19,  1.10it/s, tr_xent=0.214, tr_err=0.0475, va_xent=1.06, va_err=0.24, batch_done=7] \n"
     ]
    },
    {
     "name": "stdout",
     "output_type": "stream",
     "text": [
      "Stopped early.\n",
      "Finished after epoch 30, best epoch=15\n",
      "best va_xent 0.839\n",
      "best tr_err 0.083\n",
      "best va_err 0.210\n",
      "Training with lr=0.01, l2pen_mag=0.01, seed=42, epoch=100\n",
      "Setup complete. Trainable parameter count=5130 over 2 tensors in layers: output.\n"
     ]
    },
    {
     "name": "stderr",
     "output_type": "stream",
     "text": [
      " 30%|██▉       | 30/101 [00:27<01:04,  1.10it/s, tr_xent=0.214, tr_err=0.0475, va_xent=1.06, va_err=0.24, batch_done=7] \n"
     ]
    },
    {
     "name": "stdout",
     "output_type": "stream",
     "text": [
      "Stopped early.\n",
      "Finished after epoch 30, best epoch=15\n",
      "best va_xent 0.839\n",
      "best tr_err 0.083\n",
      "best va_err 0.210\n",
      "Training with lr=0.01, l2pen_mag=0.01, seed=100, epoch=30\n",
      "Setup complete. Trainable parameter count=5130 over 2 tensors in layers: output.\n"
     ]
    },
    {
     "name": "stderr",
     "output_type": "stream",
     "text": [
      " 84%|████████▍ | 26/31 [00:23<00:04,  1.10it/s, tr_xent=0.206, tr_err=0.04, va_xent=0.927, va_err=0.22, batch_done=7]  \n"
     ]
    },
    {
     "name": "stdout",
     "output_type": "stream",
     "text": [
      "Stopped early.\n",
      "Finished after epoch 26, best epoch=11\n",
      "best va_xent 0.838\n",
      "best tr_err 0.105\n",
      "best va_err 0.170\n",
      "Training with lr=0.01, l2pen_mag=0.01, seed=100, epoch=50\n",
      "Setup complete. Trainable parameter count=5130 over 2 tensors in layers: output.\n"
     ]
    },
    {
     "name": "stderr",
     "output_type": "stream",
     "text": [
      " 51%|█████     | 26/51 [00:23<00:22,  1.11it/s, tr_xent=0.206, tr_err=0.04, va_xent=0.927, va_err=0.22, batch_done=7]  \n"
     ]
    },
    {
     "name": "stdout",
     "output_type": "stream",
     "text": [
      "Stopped early.\n",
      "Finished after epoch 26, best epoch=11\n",
      "best va_xent 0.838\n",
      "best tr_err 0.105\n",
      "best va_err 0.170\n",
      "Training with lr=0.01, l2pen_mag=0.01, seed=100, epoch=100\n",
      "Setup complete. Trainable parameter count=5130 over 2 tensors in layers: output.\n"
     ]
    },
    {
     "name": "stderr",
     "output_type": "stream",
     "text": [
      " 26%|██▌       | 26/101 [00:23<01:08,  1.10it/s, tr_xent=0.206, tr_err=0.04, va_xent=0.927, va_err=0.22, batch_done=7]  \n"
     ]
    },
    {
     "name": "stdout",
     "output_type": "stream",
     "text": [
      "Stopped early.\n",
      "Finished after epoch 26, best epoch=11\n",
      "best va_xent 0.838\n",
      "best tr_err 0.105\n",
      "best va_err 0.170\n",
      "Training with lr=0.01, l2pen_mag=0.01, seed=123, epoch=30\n",
      "Setup complete. Trainable parameter count=5130 over 2 tensors in layers: output.\n"
     ]
    },
    {
     "name": "stderr",
     "output_type": "stream",
     "text": [
      " 84%|████████▍ | 26/31 [00:24<00:04,  1.07it/s, tr_xent=0.181, tr_err=0.0325, va_xent=0.932, va_err=0.18, batch_done=7]\n"
     ]
    },
    {
     "name": "stdout",
     "output_type": "stream",
     "text": [
      "Stopped early.\n",
      "Finished after epoch 26, best epoch=11\n",
      "best va_xent 0.839\n",
      "best tr_err 0.090\n",
      "best va_err 0.220\n",
      "Training with lr=0.01, l2pen_mag=0.01, seed=123, epoch=50\n",
      "Setup complete. Trainable parameter count=5130 over 2 tensors in layers: output.\n"
     ]
    },
    {
     "name": "stderr",
     "output_type": "stream",
     "text": [
      " 51%|█████     | 26/51 [00:23<00:22,  1.09it/s, tr_xent=0.181, tr_err=0.0325, va_xent=0.932, va_err=0.18, batch_done=7]\n"
     ]
    },
    {
     "name": "stdout",
     "output_type": "stream",
     "text": [
      "Stopped early.\n",
      "Finished after epoch 26, best epoch=11\n",
      "best va_xent 0.839\n",
      "best tr_err 0.090\n",
      "best va_err 0.220\n",
      "Training with lr=0.01, l2pen_mag=0.01, seed=123, epoch=100\n",
      "Setup complete. Trainable parameter count=5130 over 2 tensors in layers: output.\n"
     ]
    },
    {
     "name": "stderr",
     "output_type": "stream",
     "text": [
      " 26%|██▌       | 26/101 [00:23<01:08,  1.10it/s, tr_xent=0.181, tr_err=0.0325, va_xent=0.932, va_err=0.18, batch_done=7]\n"
     ]
    },
    {
     "name": "stdout",
     "output_type": "stream",
     "text": [
      "Stopped early.\n",
      "Finished after epoch 26, best epoch=11\n",
      "best va_xent 0.839\n",
      "best tr_err 0.090\n",
      "best va_err 0.220\n",
      "Best validation loss: 0.8346194458007812\n",
      "Best hyperparameters: {'lr': 0.001, 'l2pen_mag': 0.0001, 'seed': 42, 'epoch': 100}\n"
     ]
    }
   ],
   "source": [
    "\n",
    "if PROB1_EXPERIMENTS:\n",
    "    # Define hyperparameter search space\n",
    "    learning_rates = [0.0001, 0.001, 0.01]\n",
    "    l2pen_mags = [0.0001, 0.001, 0.01]\n",
    "    seeds = [42, 100, 123]\n",
    "    epochs = [30, 50, 100]\n",
    "\n",
    "    # Track best model\n",
    "    best_val_loss = float('inf')\n",
    "    best_hyperparams = None\n",
    "    best_model = None\n",
    "\n",
    "    # Loop through all combinations of hyperparameters\n",
    "    for lr, l2pen_mag, seed, epoch in itertools.product(learning_rates, l2pen_mags, seeds, epochs):\n",
    "        print(f\"Training with lr={lr}, l2pen_mag={l2pen_mag}, seed={seed}, epoch={epoch}\")\n",
    "        \n",
    "        # Set the seed\n",
    "        torch.manual_seed(seed)\n",
    "        torch.cuda.manual_seed(seed)\n",
    "        \n",
    "        # Create model with specified seed\n",
    "        resnet10_in = models.PretrainedResNetForBirdSnap10(\n",
    "            src_dataset='CUB', arch='ResNet26', n_trainable_layers=1, seed=seed\n",
    "        )\n",
    "        \n",
    "        # Train the model\n",
    "        current_model, current_info = train.train_model(\n",
    "            resnet10_in, device, train_loader, val_loader,\n",
    "            n_epochs=epoch,\n",
    "            lr=lr,\n",
    "            l2pen_mag=l2pen_mag,\n",
    "            data_order_seed=seed\n",
    "        )\n",
    "        \n",
    "        # Get validation loss from training info\n",
    "        val_loss = min(current_info['va']['xent'])\n",
    "        \n",
    "        # Update the best model if the current one is better\n",
    "        if val_loss < best_val_loss:\n",
    "            best_val_loss = val_loss\n",
    "            best_hyperparams = {'lr': lr, 'l2pen_mag': l2pen_mag, 'seed': seed, 'epoch': epoch}\n",
    "            best_model = current_model\n",
    "\n",
    "    # Output the best hyperparameters and validation loss\n",
    "    print(f\"Best validation loss: {best_val_loss}\")\n",
    "    print(f\"Best hyperparameters: {best_hyperparams}\")"
   ]
  },
  {
   "cell_type": "code",
   "execution_count": 25,
   "metadata": {},
   "outputs": [
    {
     "name": "stdout",
     "output_type": "stream",
     "text": [
      "Setup complete. Trainable parameter count=5130 over 2 tensors in layers: output.\n"
     ]
    },
    {
     "name": "stderr",
     "output_type": "stream",
     "text": [
      "100%|██████████| 101/101 [01:47<00:00,  1.07s/it, tr_xent=0.346, tr_err=0.05, va_xent=0.848, va_err=0.21, batch_done=7] "
     ]
    },
    {
     "name": "stdout",
     "output_type": "stream",
     "text": [
      "Finished after epoch 100, best epoch=90\n",
      "best va_xent 0.835\n",
      "best tr_err 0.050\n",
      "best va_err 0.210\n"
     ]
    },
    {
     "name": "stderr",
     "output_type": "stream",
     "text": [
      "\n"
     ]
    }
   ],
   "source": [
    "# TODO do tuning expts for Resnet26, CUB\n",
    "if PROB1_EXPERIMENTS:\n",
    "    seed = 42\n",
    "    resnet26_cub = models.PretrainedResNetForBirdSnap10(\n",
    "        src_dataset='CUB', arch='ResNet26', n_trainable_layers=1, seed=seed)\n",
    "    best_model_rn26_cub, best_info_rn26_cub = train.train_model(resnet26_cub, device, train_loader, val_loader,\n",
    "        n_epochs=100,\n",
    "        lr=0.001,\n",
    "        l2pen_mag=0.0001, # no L2 penalty on weight magnitude\n",
    "        data_order_seed=seed,\n",
    "        )\n",
    "    best_info_rn26_cub[\"lr\"] = 0.001\n",
    "    best_info_rn26_cub[\"l2pen_mag\"] = 0.0001\n",
    "    best_info_rn26_cub[\"seed\"] = seed"
   ]
  },
  {
   "cell_type": "code",
   "execution_count": 36,
   "metadata": {},
   "outputs": [],
   "source": [
    "if os.path.exists(PROB1_res_file):\n",
    "    with open(PROB1_res_file, 'rb') as f:\n",
    "        results = pickle.load(f)\n",
    "else:\n",
    "    results = dict()\n",
    "\n",
    "results[('ImageNet1k', 'ResNet10')] = best_model_rn10_in, best_info_rn10_in\n",
    "results[('ImageNet1k', 'ResNet26')] = best_model_rn26_in, best_info_rn26_in\n",
    "results[('CUB', 'ResNet10')] = best_model_rn10_cub, best_info_rn10_cub\n",
    "results[('CUB', 'ResNet26')] = best_model_rn26_cub, best_info_rn26_cub\n",
    "\n",
    "with open(PROB1_res_file, 'wb') as f:\n",
    "    pickle.dump(results, f)"
   ]
  },
  {
   "cell_type": "markdown",
   "metadata": {},
   "source": [
    "# Problem 1 Analysis and Plotting"
   ]
  },
  {
   "cell_type": "markdown",
   "metadata": {},
   "source": [
    "## Figure 1a: Loss over Epochs\n",
    "\n",
    "Starter code notebook indicates style of plot desired.\n",
    "\n",
    "**TODO** Your job is to make sure the plot shows your *real* results, not our dummy results."
   ]
  },
  {
   "cell_type": "code",
   "execution_count": 37,
   "metadata": {},
   "outputs": [
    {
     "data": {
      "image/png": "[encoded data removed]",
      "text/plain": [
       "<Figure size 900x400 with 2 Axes>"
      ]
     },
     "metadata": {},
     "output_type": "display_data"
    }
   ],
   "source": [
    "_, axgrid = plt.subplots(nrows=1, ncols=2, figsize=(9,4), sharey=True, sharex=False)\n",
    "\n",
    "for panel_id, (arch, src_dataset) in enumerate([\n",
    "('ImageNet1k', 'ResNet10'),\n",
    "('CUB', 'ResNet10'),\n",
    "        ]):\n",
    "    ax = axgrid[panel_id]\n",
    "    key = (arch, src_dataset)\n",
    "    info = results[key][1]\n",
    "    ax.plot(info['epochs'], info['va']['xent'], '--', color='r', label='va xent')\n",
    "    ax.plot(info['epochs'], info['tr']['loss'], '--', color='b', label='tr loss')\n",
    "    ax.plot(info['epochs'], info['va']['err'], label='va err', color='r')\n",
    "    ax.plot(info['epochs'], info['tr']['err'], label='tr err', color='b')\n",
    "    ax.plot(info['best_epoch'], info['best_va_loss'], '*', color='r', markersize=12, label='early stop')\n",
    "    ax.set_xlabel('epoch')\n",
    "    if panel_id == 0:\n",
    "        ax.set_ylabel('loss per example')\n",
    "    lr = info['lr']\n",
    "    l2pen = info['l2pen_mag']\n",
    "    seed = info['seed']\n",
    "    ax.set_title(f'{arch}_{src_dataset}\\nlr={lr}, l2pen={l2pen}, seed={seed}')\n",
    "    ax.set_xlim([-0.001, max(info['epochs'])])\n",
    "\n",
    "ax.set_ylim([0.0, 1.5]);\n",
    "ax.legend(bbox_to_anchor=(1.55, 0.6));"
   ]
  },
  {
   "cell_type": "markdown",
   "metadata": {},
   "source": [
    "## Figure 1b: Target Acc vs Source Acc\n",
    "\n",
    "**TODO** Lookup source task accuracy (use top1 if needed) from pytorch cv webpage: https://pypi.org/project/pytorchcv/\n"
   ]
  },
  {
   "cell_type": "code",
   "execution_count": 38,
   "metadata": {},
   "outputs": [],
   "source": [
    "src_acc = {}\n",
    "src_acc[('ImageNet1k','ResNet10')] = 1 - 0.3243\n",
    "src_acc[('ImageNet1k','ResNet26')] = 1 - 0.2616\n",
    "\n",
    "src_acc[('CUB','ResNet10')] = 1 - 0.2777\n",
    "src_acc[('CUB','ResNet26')] = 1- 0.2316"
   ]
  },
  {
   "cell_type": "markdown",
   "metadata": {},
   "source": [
    "**TODO** Measure your best model accuracy using provided test_loader and `eval_acc` function, record values here"
   ]
  },
  {
   "cell_type": "code",
   "execution_count": 28,
   "metadata": {},
   "outputs": [
    {
     "ename": "NameError",
     "evalue": "name 'results' is not defined",
     "output_type": "error",
     "traceback": [
      "\u001b[1;31m---------------------------------------------------------------------------\u001b[0m",
      "\u001b[1;31mNameError\u001b[0m                                 Traceback (most recent call last)",
      "Cell \u001b[1;32mIn[28], line 9\u001b[0m\n\u001b[0;32m      1\u001b[0m tar_acc \u001b[38;5;241m=\u001b[39m {}\n\u001b[0;32m      3\u001b[0m \u001b[38;5;28;01mfor\u001b[39;00m idx, key \u001b[38;5;129;01min\u001b[39;00m \u001b[38;5;28menumerate\u001b[39m([\n\u001b[0;32m      4\u001b[0m (\u001b[38;5;124m'\u001b[39m\u001b[38;5;124mImageNet1k\u001b[39m\u001b[38;5;124m'\u001b[39m, \u001b[38;5;124m'\u001b[39m\u001b[38;5;124mResNet10\u001b[39m\u001b[38;5;124m'\u001b[39m),\n\u001b[0;32m      5\u001b[0m (\u001b[38;5;124m'\u001b[39m\u001b[38;5;124mImageNet1k\u001b[39m\u001b[38;5;124m'\u001b[39m, \u001b[38;5;124m'\u001b[39m\u001b[38;5;124mResNet26\u001b[39m\u001b[38;5;124m'\u001b[39m),\n\u001b[0;32m      6\u001b[0m (\u001b[38;5;124m'\u001b[39m\u001b[38;5;124mCUB\u001b[39m\u001b[38;5;124m'\u001b[39m, \u001b[38;5;124m'\u001b[39m\u001b[38;5;124mResNet10\u001b[39m\u001b[38;5;124m'\u001b[39m),\n\u001b[0;32m      7\u001b[0m (\u001b[38;5;124m'\u001b[39m\u001b[38;5;124mCUB\u001b[39m\u001b[38;5;124m'\u001b[39m, \u001b[38;5;124m'\u001b[39m\u001b[38;5;124mResNet26\u001b[39m\u001b[38;5;124m'\u001b[39m)\n\u001b[0;32m      8\u001b[0m         ]):\n\u001b[1;32m----> 9\u001b[0m     model, info \u001b[38;5;241m=\u001b[39m \u001b[43mresults\u001b[49m[key]\n\u001b[0;32m     10\u001b[0m     tar_acc[key] \u001b[38;5;241m=\u001b[39m eval_acc(model, device, test_loader)\n",
      "\u001b[1;31mNameError\u001b[0m: name 'results' is not defined"
     ]
    },
    {
     "ename": "",
     "evalue": "",
     "output_type": "error",
     "traceback": [
      "\u001b[1;31mThe Kernel crashed while executing code in the current cell or a previous cell. \n",
      "\u001b[1;31mPlease review the code in the cell(s) to identify a possible cause of the failure. \n",
      "\u001b[1;31mClick <a href='https://aka.ms/vscodeJupyterKernelCrash'>here</a> for more info. \n",
      "\u001b[1;31mView Jupyter <a href='command:jupyter.viewOutput'>log</a> for further details."
     ]
    }
   ],
   "source": [
    "tar_acc = {}\n",
    "\n",
    "for idx, key in enumerate([\n",
    "('ImageNet1k', 'ResNet10'),\n",
    "('ImageNet1k', 'ResNet26'),\n",
    "('CUB', 'ResNet10'),\n",
    "('CUB', 'ResNet26')\n",
    "        ]):\n",
    "    model, info = results[key]\n",
    "    tar_acc[key] = eval_acc(model, device, test_loader)"
   ]
  },
  {
   "cell_type": "code",
   "execution_count": 40,
   "metadata": {},
   "outputs": [
    {
     "data": {
      "image/png": "[encoded data removed]",
      "text/plain": [
       "<Figure size 900x400 with 2 Axes>"
      ]
     },
     "metadata": {},
     "output_type": "display_data"
    }
   ],
   "source": [
    "_, axgrid = plt.subplots(nrows=1, ncols=2, figsize=(9,4), sharey=True)\n",
    "\n",
    "arch_list = ['ResNet10', 'ResNet26']\n",
    "srcdata_list = ['ImageNet1k', 'CUB']\n",
    "\n",
    "for (arch, src_dataset) in itertools.product(arch_list, srcdata_list):\n",
    "    if src_dataset.count(\"ImageNet\"):\n",
    "        panel_id = 0\n",
    "    else:\n",
    "        panel_id = 1\n",
    "    ax = axgrid[panel_id]\n",
    "    ax.set_title(\"pretrain on \" + src_dataset)\n",
    "    key = \"{arch}_{src_dataset}\".format(arch=arch, src_dataset=src_dataset)\n",
    "    cur_target_acc = tar_acc[(src_dataset, arch)]\n",
    "    cur_src_acc = src_acc[(src_dataset, arch)]\n",
    "    ax.plot(cur_src_acc, cur_target_acc, 'v' if arch.count('10') else '^', label=arch, markersize=12)\n",
    "    ax.set_xlim([0.25, 1.0]); ax.set_xticks([.4, .6, .8, 1]);\n",
    "    ax.set_ylim([0.25, 1.0]); ax.set_yticks([.4, .6, .8, 1]);\n",
    "    ax.set_xlabel(f\"acc on {src_dataset}\");\n",
    "    if panel_id == 0:\n",
    "        ax.set_ylabel(f\"LP acc on BirdSnap10\");\n",
    "plt.legend(bbox_to_anchor=(1.55, 0.6));"
   ]
  },
  {
   "cell_type": "markdown",
   "metadata": {},
   "source": [
    "# Problem 2 Experiments"
   ]
  },
  {
   "cell_type": "markdown",
   "metadata": {},
   "source": [
    "TODO Implement LP-then-FT, via repeated calls to **train_model**\n",
    "\n",
    "* LP phase should use n_trainable_layers=1 (about 5000 trainable params)\n",
    "* FT phase should use n_trainable_layers=3 (about 100000 trainable params)"
   ]
  },
  {
   "cell_type": "code",
   "execution_count": 41,
   "metadata": {},
   "outputs": [],
   "source": [
    "import copy"
   ]
  },
  {
   "cell_type": "code",
   "execution_count": 47,
   "metadata": {},
   "outputs": [
    {
     "name": "stdout",
     "output_type": "stream",
     "text": [
      "Setup complete. Trainable parameter count=5130 over 2 tensors in layers: output.\n",
      "Starting Linear Probing (LP) Phase...\n"
     ]
    },
    {
     "name": "stderr",
     "output_type": "stream",
     "text": [
      "100%|██████████| 31/31 [00:26<00:00,  1.19it/s, tr_xent=0.0251, tr_err=0, va_xent=0.397, va_err=0.12, batch_done=7]     \n"
     ]
    },
    {
     "name": "stdout",
     "output_type": "stream",
     "text": [
      "Finished after epoch 30, best epoch=23\n",
      "best va_xent 0.371\n",
      "best tr_err 0.000\n",
      "best va_err 0.130\n"
     ]
    }
   ],
   "source": [
    "P2_results = dict()\n",
    "\n",
    "# Linear Probing Phase\n",
    "n_trainable_layers_lp = 1  # Only the last layer is trainable\n",
    "seed = best_info_rn10_in['seed']  # Ensure reproducibility\n",
    "\n",
    "# Initialize the pre-trained model with only the last layer trainable\n",
    "resnet10_in = models.PretrainedResNetForBirdSnap10(\n",
    "    src_dataset='ImageNet1k', arch='ResNet10', n_trainable_layers=n_trainable_layers_lp, seed=seed\n",
    ")\n",
    "\n",
    "# Phase 1: Linear Probing (LP)\n",
    "print(\"Starting Linear Probing (LP) Phase...\")\n",
    "best_model_lp, best_info_lp = train.train_model(\n",
    "    resnet10_in, device, train_loader, val_loader,\n",
    "    n_epochs=30, \n",
    "    lr=best_info_rn10_in['lr'],\n",
    "    l2pen_mag=best_info_rn10_in['l2pen_mag'],\n",
    "    data_order_seed=seed,\n",
    ")\n",
    "\n",
    "torch.save(best_model_lp.state_dict(), 'linear_probing_model.pth')\n",
    "P2_results[('ResNet10', 'ImageNet1k', 'phase1')] = best_info_lp"
   ]
  },
  {
   "cell_type": "code",
   "execution_count": 55,
   "metadata": {},
   "outputs": [
    {
     "name": "stdout",
     "output_type": "stream",
     "text": [
      "7\n"
     ]
    }
   ],
   "source": [
    "print(len(train_loader))"
   ]
  },
  {
   "cell_type": "code",
   "execution_count": 44,
   "metadata": {},
   "outputs": [
    {
     "name": "stdout",
     "output_type": "stream",
     "text": [
      "Training with lr=0.0001, l2pen_mag=0.0001, seed=42, epoch=30\n",
      "Setup complete. Trainable parameter count=137226 over 5 tensors in layers: features.stage4.unit1.identity_conv.conv,features.stage4.unit1.identity_conv.bn,output.\n",
      "Starting Fine-Tuning (FT) Phase...\n"
     ]
    },
    {
     "name": "stderr",
     "output_type": "stream",
     "text": [
      " 90%|█████████ | 28/31 [00:23<00:02,  1.17it/s, tr_xent=0.008, tr_err=0, va_xent=0.371, va_err=0.12, batch_done=7]      \n"
     ]
    },
    {
     "name": "stdout",
     "output_type": "stream",
     "text": [
      "Stopped early.\n",
      "Finished after epoch 28, best epoch=13\n",
      "best va_xent 0.366\n",
      "best tr_err 0.000\n",
      "best va_err 0.120\n",
      "Training with lr=0.0001, l2pen_mag=0.0001, seed=42, epoch=50\n",
      "Setup complete. Trainable parameter count=137226 over 5 tensors in layers: features.stage4.unit1.identity_conv.conv,features.stage4.unit1.identity_conv.bn,output.\n",
      "Starting Fine-Tuning (FT) Phase...\n"
     ]
    },
    {
     "name": "stderr",
     "output_type": "stream",
     "text": [
      " 55%|█████▍    | 28/51 [00:23<00:19,  1.17it/s, tr_xent=0.008, tr_err=0, va_xent=0.371, va_err=0.12, batch_done=7]      \n"
     ]
    },
    {
     "name": "stdout",
     "output_type": "stream",
     "text": [
      "Stopped early.\n",
      "Finished after epoch 28, best epoch=13\n",
      "best va_xent 0.366\n",
      "best tr_err 0.000\n",
      "best va_err 0.120\n",
      "Training with lr=0.0001, l2pen_mag=0.0001, seed=42, epoch=100\n",
      "Setup complete. Trainable parameter count=137226 over 5 tensors in layers: features.stage4.unit1.identity_conv.conv,features.stage4.unit1.identity_conv.bn,output.\n",
      "Starting Fine-Tuning (FT) Phase...\n"
     ]
    },
    {
     "name": "stderr",
     "output_type": "stream",
     "text": [
      " 28%|██▊       | 28/101 [00:23<01:02,  1.18it/s, tr_xent=0.008, tr_err=0, va_xent=0.371, va_err=0.12, batch_done=7]      \n"
     ]
    },
    {
     "name": "stdout",
     "output_type": "stream",
     "text": [
      "Stopped early.\n",
      "Finished after epoch 28, best epoch=13\n",
      "best va_xent 0.366\n",
      "best tr_err 0.000\n",
      "best va_err 0.120\n",
      "Training with lr=0.0001, l2pen_mag=0.0001, seed=100, epoch=30\n",
      "Setup complete. Trainable parameter count=137226 over 5 tensors in layers: features.stage4.unit1.identity_conv.conv,features.stage4.unit1.identity_conv.bn,output.\n",
      "Starting Fine-Tuning (FT) Phase...\n"
     ]
    },
    {
     "name": "stderr",
     "output_type": "stream",
     "text": [
      " 48%|████▊     | 15/31 [00:12<00:13,  1.15it/s, tr_xent=0.0113, tr_err=0, va_xent=0.388, va_err=0.13, batch_done=7]\n"
     ]
    },
    {
     "name": "stdout",
     "output_type": "stream",
     "text": [
      "Stopped early.\n",
      "Finished after epoch 15, best epoch=0\n",
      "best va_xent 0.371\n",
      "best tr_err nan\n",
      "best va_err 0.130\n",
      "Training with lr=0.0001, l2pen_mag=0.0001, seed=100, epoch=50\n",
      "Setup complete. Trainable parameter count=137226 over 5 tensors in layers: features.stage4.unit1.identity_conv.conv,features.stage4.unit1.identity_conv.bn,output.\n",
      "Starting Fine-Tuning (FT) Phase...\n"
     ]
    },
    {
     "name": "stderr",
     "output_type": "stream",
     "text": [
      " 29%|██▉       | 15/51 [00:12<00:30,  1.18it/s, tr_xent=0.0113, tr_err=0, va_xent=0.388, va_err=0.13, batch_done=7]\n"
     ]
    },
    {
     "name": "stdout",
     "output_type": "stream",
     "text": [
      "Stopped early.\n",
      "Finished after epoch 15, best epoch=0\n",
      "best va_xent 0.371\n",
      "best tr_err nan\n",
      "best va_err 0.130\n",
      "Training with lr=0.0001, l2pen_mag=0.0001, seed=100, epoch=100\n",
      "Setup complete. Trainable parameter count=137226 over 5 tensors in layers: features.stage4.unit1.identity_conv.conv,features.stage4.unit1.identity_conv.bn,output.\n",
      "Starting Fine-Tuning (FT) Phase...\n"
     ]
    },
    {
     "name": "stderr",
     "output_type": "stream",
     "text": [
      " 15%|█▍        | 15/101 [00:12<01:13,  1.16it/s, tr_xent=0.0113, tr_err=0, va_xent=0.388, va_err=0.13, batch_done=7]\n"
     ]
    },
    {
     "name": "stdout",
     "output_type": "stream",
     "text": [
      "Stopped early.\n",
      "Finished after epoch 15, best epoch=0\n",
      "best va_xent 0.371\n",
      "best tr_err nan\n",
      "best va_err 0.130\n",
      "Training with lr=0.0001, l2pen_mag=0.0001, seed=123, epoch=30\n",
      "Setup complete. Trainable parameter count=137226 over 5 tensors in layers: features.stage4.unit1.identity_conv.conv,features.stage4.unit1.identity_conv.bn,output.\n",
      "Starting Fine-Tuning (FT) Phase...\n"
     ]
    },
    {
     "name": "stderr",
     "output_type": "stream",
     "text": [
      " 48%|████▊     | 15/31 [00:13<00:13,  1.15it/s, tr_xent=0.0113, tr_err=0, va_xent=0.374, va_err=0.13, batch_done=7]\n"
     ]
    },
    {
     "name": "stdout",
     "output_type": "stream",
     "text": [
      "Stopped early.\n",
      "Finished after epoch 15, best epoch=0\n",
      "best va_xent 0.371\n",
      "best tr_err nan\n",
      "best va_err 0.130\n",
      "Training with lr=0.0001, l2pen_mag=0.0001, seed=123, epoch=50\n",
      "Setup complete. Trainable parameter count=137226 over 5 tensors in layers: features.stage4.unit1.identity_conv.conv,features.stage4.unit1.identity_conv.bn,output.\n",
      "Starting Fine-Tuning (FT) Phase...\n"
     ]
    },
    {
     "name": "stderr",
     "output_type": "stream",
     "text": [
      " 29%|██▉       | 15/51 [00:13<00:31,  1.15it/s, tr_xent=0.0113, tr_err=0, va_xent=0.374, va_err=0.13, batch_done=7]\n"
     ]
    },
    {
     "name": "stdout",
     "output_type": "stream",
     "text": [
      "Stopped early.\n",
      "Finished after epoch 15, best epoch=0\n",
      "best va_xent 0.371\n",
      "best tr_err nan\n",
      "best va_err 0.130\n",
      "Training with lr=0.0001, l2pen_mag=0.0001, seed=123, epoch=100\n",
      "Setup complete. Trainable parameter count=137226 over 5 tensors in layers: features.stage4.unit1.identity_conv.conv,features.stage4.unit1.identity_conv.bn,output.\n",
      "Starting Fine-Tuning (FT) Phase...\n"
     ]
    },
    {
     "name": "stderr",
     "output_type": "stream",
     "text": [
      " 15%|█▍        | 15/101 [00:12<01:14,  1.15it/s, tr_xent=0.0113, tr_err=0, va_xent=0.374, va_err=0.13, batch_done=7]\n"
     ]
    },
    {
     "name": "stdout",
     "output_type": "stream",
     "text": [
      "Stopped early.\n",
      "Finished after epoch 15, best epoch=0\n",
      "best va_xent 0.371\n",
      "best tr_err nan\n",
      "best va_err 0.130\n",
      "Training with lr=0.0001, l2pen_mag=0.001, seed=42, epoch=30\n",
      "Setup complete. Trainable parameter count=137226 over 5 tensors in layers: features.stage4.unit1.identity_conv.conv,features.stage4.unit1.identity_conv.bn,output.\n",
      "Starting Fine-Tuning (FT) Phase...\n"
     ]
    },
    {
     "name": "stderr",
     "output_type": "stream",
     "text": [
      " 90%|█████████ | 28/31 [00:24<00:02,  1.16it/s, tr_xent=0.008, tr_err=0, va_xent=0.371, va_err=0.12, batch_done=7]      \n"
     ]
    },
    {
     "name": "stdout",
     "output_type": "stream",
     "text": [
      "Stopped early.\n",
      "Finished after epoch 28, best epoch=13\n",
      "best va_xent 0.366\n",
      "best tr_err 0.000\n",
      "best va_err 0.120\n",
      "Training with lr=0.0001, l2pen_mag=0.001, seed=42, epoch=50\n",
      "Setup complete. Trainable parameter count=137226 over 5 tensors in layers: features.stage4.unit1.identity_conv.conv,features.stage4.unit1.identity_conv.bn,output.\n",
      "Starting Fine-Tuning (FT) Phase...\n"
     ]
    },
    {
     "name": "stderr",
     "output_type": "stream",
     "text": [
      " 55%|█████▍    | 28/51 [00:24<00:19,  1.17it/s, tr_xent=0.008, tr_err=0, va_xent=0.371, va_err=0.12, batch_done=7]      \n"
     ]
    },
    {
     "name": "stdout",
     "output_type": "stream",
     "text": [
      "Stopped early.\n",
      "Finished after epoch 28, best epoch=13\n",
      "best va_xent 0.366\n",
      "best tr_err 0.000\n",
      "best va_err 0.120\n",
      "Training with lr=0.0001, l2pen_mag=0.001, seed=42, epoch=100\n",
      "Setup complete. Trainable parameter count=137226 over 5 tensors in layers: features.stage4.unit1.identity_conv.conv,features.stage4.unit1.identity_conv.bn,output.\n",
      "Starting Fine-Tuning (FT) Phase...\n"
     ]
    },
    {
     "name": "stderr",
     "output_type": "stream",
     "text": [
      " 28%|██▊       | 28/101 [00:24<01:03,  1.16it/s, tr_xent=0.008, tr_err=0, va_xent=0.371, va_err=0.12, batch_done=7]      \n"
     ]
    },
    {
     "name": "stdout",
     "output_type": "stream",
     "text": [
      "Stopped early.\n",
      "Finished after epoch 28, best epoch=13\n",
      "best va_xent 0.366\n",
      "best tr_err 0.000\n",
      "best va_err 0.120\n",
      "Training with lr=0.0001, l2pen_mag=0.001, seed=100, epoch=30\n",
      "Setup complete. Trainable parameter count=137226 over 5 tensors in layers: features.stage4.unit1.identity_conv.conv,features.stage4.unit1.identity_conv.bn,output.\n",
      "Starting Fine-Tuning (FT) Phase...\n"
     ]
    },
    {
     "name": "stderr",
     "output_type": "stream",
     "text": [
      " 48%|████▊     | 15/31 [00:12<00:13,  1.16it/s, tr_xent=0.0113, tr_err=0, va_xent=0.388, va_err=0.13, batch_done=7]\n"
     ]
    },
    {
     "name": "stdout",
     "output_type": "stream",
     "text": [
      "Stopped early.\n",
      "Finished after epoch 15, best epoch=0\n",
      "best va_xent 0.371\n",
      "best tr_err nan\n",
      "best va_err 0.130\n",
      "Training with lr=0.0001, l2pen_mag=0.001, seed=100, epoch=50\n",
      "Setup complete. Trainable parameter count=137226 over 5 tensors in layers: features.stage4.unit1.identity_conv.conv,features.stage4.unit1.identity_conv.bn,output.\n",
      "Starting Fine-Tuning (FT) Phase...\n"
     ]
    },
    {
     "name": "stderr",
     "output_type": "stream",
     "text": [
      " 29%|██▉       | 15/51 [00:13<00:31,  1.15it/s, tr_xent=0.0113, tr_err=0, va_xent=0.388, va_err=0.13, batch_done=7]\n"
     ]
    },
    {
     "name": "stdout",
     "output_type": "stream",
     "text": [
      "Stopped early.\n",
      "Finished after epoch 15, best epoch=0\n",
      "best va_xent 0.371\n",
      "best tr_err nan\n",
      "best va_err 0.130\n",
      "Training with lr=0.0001, l2pen_mag=0.001, seed=100, epoch=100\n",
      "Setup complete. Trainable parameter count=137226 over 5 tensors in layers: features.stage4.unit1.identity_conv.conv,features.stage4.unit1.identity_conv.bn,output.\n",
      "Starting Fine-Tuning (FT) Phase...\n"
     ]
    },
    {
     "name": "stderr",
     "output_type": "stream",
     "text": [
      " 15%|█▍        | 15/101 [00:13<01:14,  1.15it/s, tr_xent=0.0113, tr_err=0, va_xent=0.388, va_err=0.13, batch_done=7]\n"
     ]
    },
    {
     "name": "stdout",
     "output_type": "stream",
     "text": [
      "Stopped early.\n",
      "Finished after epoch 15, best epoch=0\n",
      "best va_xent 0.371\n",
      "best tr_err nan\n",
      "best va_err 0.130\n",
      "Training with lr=0.0001, l2pen_mag=0.001, seed=123, epoch=30\n",
      "Setup complete. Trainable parameter count=137226 over 5 tensors in layers: features.stage4.unit1.identity_conv.conv,features.stage4.unit1.identity_conv.bn,output.\n",
      "Starting Fine-Tuning (FT) Phase...\n"
     ]
    },
    {
     "name": "stderr",
     "output_type": "stream",
     "text": [
      " 48%|████▊     | 15/31 [00:13<00:13,  1.15it/s, tr_xent=0.0113, tr_err=0, va_xent=0.374, va_err=0.13, batch_done=7]\n"
     ]
    },
    {
     "name": "stdout",
     "output_type": "stream",
     "text": [
      "Stopped early.\n",
      "Finished after epoch 15, best epoch=0\n",
      "best va_xent 0.371\n",
      "best tr_err nan\n",
      "best va_err 0.130\n",
      "Training with lr=0.0001, l2pen_mag=0.001, seed=123, epoch=50\n",
      "Setup complete. Trainable parameter count=137226 over 5 tensors in layers: features.stage4.unit1.identity_conv.conv,features.stage4.unit1.identity_conv.bn,output.\n",
      "Starting Fine-Tuning (FT) Phase...\n"
     ]
    },
    {
     "name": "stderr",
     "output_type": "stream",
     "text": [
      " 29%|██▉       | 15/51 [00:13<00:31,  1.14it/s, tr_xent=0.0113, tr_err=0, va_xent=0.374, va_err=0.13, batch_done=7]\n"
     ]
    },
    {
     "name": "stdout",
     "output_type": "stream",
     "text": [
      "Stopped early.\n",
      "Finished after epoch 15, best epoch=0\n",
      "best va_xent 0.371\n",
      "best tr_err nan\n",
      "best va_err 0.130\n",
      "Training with lr=0.0001, l2pen_mag=0.001, seed=123, epoch=100\n",
      "Setup complete. Trainable parameter count=137226 over 5 tensors in layers: features.stage4.unit1.identity_conv.conv,features.stage4.unit1.identity_conv.bn,output.\n",
      "Starting Fine-Tuning (FT) Phase...\n"
     ]
    },
    {
     "name": "stderr",
     "output_type": "stream",
     "text": [
      " 15%|█▍        | 15/101 [00:13<01:14,  1.15it/s, tr_xent=0.0113, tr_err=0, va_xent=0.374, va_err=0.13, batch_done=7]\n"
     ]
    },
    {
     "name": "stdout",
     "output_type": "stream",
     "text": [
      "Stopped early.\n",
      "Finished after epoch 15, best epoch=0\n",
      "best va_xent 0.371\n",
      "best tr_err nan\n",
      "best va_err 0.130\n",
      "Training with lr=0.0001, l2pen_mag=0.01, seed=42, epoch=30\n",
      "Setup complete. Trainable parameter count=137226 over 5 tensors in layers: features.stage4.unit1.identity_conv.conv,features.stage4.unit1.identity_conv.bn,output.\n",
      "Starting Fine-Tuning (FT) Phase...\n"
     ]
    },
    {
     "name": "stderr",
     "output_type": "stream",
     "text": [
      " 90%|█████████ | 28/31 [00:23<00:02,  1.17it/s, tr_xent=0.008, tr_err=0, va_xent=0.371, va_err=0.12, batch_done=7]      \n"
     ]
    },
    {
     "name": "stdout",
     "output_type": "stream",
     "text": [
      "Stopped early.\n",
      "Finished after epoch 28, best epoch=13\n",
      "best va_xent 0.366\n",
      "best tr_err 0.000\n",
      "best va_err 0.120\n",
      "Training with lr=0.0001, l2pen_mag=0.01, seed=42, epoch=50\n",
      "Setup complete. Trainable parameter count=137226 over 5 tensors in layers: features.stage4.unit1.identity_conv.conv,features.stage4.unit1.identity_conv.bn,output.\n",
      "Starting Fine-Tuning (FT) Phase...\n"
     ]
    },
    {
     "name": "stderr",
     "output_type": "stream",
     "text": [
      " 55%|█████▍    | 28/51 [00:24<00:19,  1.16it/s, tr_xent=0.008, tr_err=0, va_xent=0.371, va_err=0.12, batch_done=7]      \n"
     ]
    },
    {
     "name": "stdout",
     "output_type": "stream",
     "text": [
      "Stopped early.\n",
      "Finished after epoch 28, best epoch=13\n",
      "best va_xent 0.366\n",
      "best tr_err 0.000\n",
      "best va_err 0.120\n",
      "Training with lr=0.0001, l2pen_mag=0.01, seed=42, epoch=100\n",
      "Setup complete. Trainable parameter count=137226 over 5 tensors in layers: features.stage4.unit1.identity_conv.conv,features.stage4.unit1.identity_conv.bn,output.\n",
      "Starting Fine-Tuning (FT) Phase...\n"
     ]
    },
    {
     "name": "stderr",
     "output_type": "stream",
     "text": [
      " 28%|██▊       | 28/101 [00:24<01:02,  1.16it/s, tr_xent=0.008, tr_err=0, va_xent=0.371, va_err=0.12, batch_done=7]      \n"
     ]
    },
    {
     "name": "stdout",
     "output_type": "stream",
     "text": [
      "Stopped early.\n",
      "Finished after epoch 28, best epoch=13\n",
      "best va_xent 0.366\n",
      "best tr_err 0.000\n",
      "best va_err 0.120\n",
      "Training with lr=0.0001, l2pen_mag=0.01, seed=100, epoch=30\n",
      "Setup complete. Trainable parameter count=137226 over 5 tensors in layers: features.stage4.unit1.identity_conv.conv,features.stage4.unit1.identity_conv.bn,output.\n",
      "Starting Fine-Tuning (FT) Phase...\n"
     ]
    },
    {
     "name": "stderr",
     "output_type": "stream",
     "text": [
      " 48%|████▊     | 15/31 [00:13<00:13,  1.15it/s, tr_xent=0.0113, tr_err=0, va_xent=0.388, va_err=0.13, batch_done=7]\n"
     ]
    },
    {
     "name": "stdout",
     "output_type": "stream",
     "text": [
      "Stopped early.\n",
      "Finished after epoch 15, best epoch=0\n",
      "best va_xent 0.371\n",
      "best tr_err nan\n",
      "best va_err 0.130\n",
      "Training with lr=0.0001, l2pen_mag=0.01, seed=100, epoch=50\n",
      "Setup complete. Trainable parameter count=137226 over 5 tensors in layers: features.stage4.unit1.identity_conv.conv,features.stage4.unit1.identity_conv.bn,output.\n",
      "Starting Fine-Tuning (FT) Phase...\n"
     ]
    },
    {
     "name": "stderr",
     "output_type": "stream",
     "text": [
      " 29%|██▉       | 15/51 [00:12<00:30,  1.17it/s, tr_xent=0.0113, tr_err=0, va_xent=0.388, va_err=0.13, batch_done=7]\n"
     ]
    },
    {
     "name": "stdout",
     "output_type": "stream",
     "text": [
      "Stopped early.\n",
      "Finished after epoch 15, best epoch=0\n",
      "best va_xent 0.371\n",
      "best tr_err nan\n",
      "best va_err 0.130\n",
      "Training with lr=0.0001, l2pen_mag=0.01, seed=100, epoch=100\n",
      "Setup complete. Trainable parameter count=137226 over 5 tensors in layers: features.stage4.unit1.identity_conv.conv,features.stage4.unit1.identity_conv.bn,output.\n",
      "Starting Fine-Tuning (FT) Phase...\n"
     ]
    },
    {
     "name": "stderr",
     "output_type": "stream",
     "text": [
      " 15%|█▍        | 15/101 [00:13<01:15,  1.14it/s, tr_xent=0.0113, tr_err=0, va_xent=0.388, va_err=0.13, batch_done=7]\n"
     ]
    },
    {
     "name": "stdout",
     "output_type": "stream",
     "text": [
      "Stopped early.\n",
      "Finished after epoch 15, best epoch=0\n",
      "best va_xent 0.371\n",
      "best tr_err nan\n",
      "best va_err 0.130\n",
      "Training with lr=0.0001, l2pen_mag=0.01, seed=123, epoch=30\n",
      "Setup complete. Trainable parameter count=137226 over 5 tensors in layers: features.stage4.unit1.identity_conv.conv,features.stage4.unit1.identity_conv.bn,output.\n",
      "Starting Fine-Tuning (FT) Phase...\n"
     ]
    },
    {
     "name": "stderr",
     "output_type": "stream",
     "text": [
      " 48%|████▊     | 15/31 [00:13<00:14,  1.11it/s, tr_xent=0.0113, tr_err=0, va_xent=0.374, va_err=0.13, batch_done=7]\n"
     ]
    },
    {
     "name": "stdout",
     "output_type": "stream",
     "text": [
      "Stopped early.\n",
      "Finished after epoch 15, best epoch=0\n",
      "best va_xent 0.371\n",
      "best tr_err nan\n",
      "best va_err 0.130\n",
      "Training with lr=0.0001, l2pen_mag=0.01, seed=123, epoch=50\n",
      "Setup complete. Trainable parameter count=137226 over 5 tensors in layers: features.stage4.unit1.identity_conv.conv,features.stage4.unit1.identity_conv.bn,output.\n",
      "Starting Fine-Tuning (FT) Phase...\n"
     ]
    },
    {
     "name": "stderr",
     "output_type": "stream",
     "text": [
      " 29%|██▉       | 15/51 [00:13<00:31,  1.13it/s, tr_xent=0.0113, tr_err=0, va_xent=0.374, va_err=0.13, batch_done=7]\n"
     ]
    },
    {
     "name": "stdout",
     "output_type": "stream",
     "text": [
      "Stopped early.\n",
      "Finished after epoch 15, best epoch=0\n",
      "best va_xent 0.371\n",
      "best tr_err nan\n",
      "best va_err 0.130\n",
      "Training with lr=0.0001, l2pen_mag=0.01, seed=123, epoch=100\n",
      "Setup complete. Trainable parameter count=137226 over 5 tensors in layers: features.stage4.unit1.identity_conv.conv,features.stage4.unit1.identity_conv.bn,output.\n",
      "Starting Fine-Tuning (FT) Phase...\n"
     ]
    },
    {
     "name": "stderr",
     "output_type": "stream",
     "text": [
      " 15%|█▍        | 15/101 [00:13<01:15,  1.14it/s, tr_xent=0.0113, tr_err=0, va_xent=0.374, va_err=0.13, batch_done=7]\n"
     ]
    },
    {
     "name": "stdout",
     "output_type": "stream",
     "text": [
      "Stopped early.\n",
      "Finished after epoch 15, best epoch=0\n",
      "best va_xent 0.371\n",
      "best tr_err nan\n",
      "best va_err 0.130\n",
      "Training with lr=0.001, l2pen_mag=0.0001, seed=42, epoch=30\n",
      "Setup complete. Trainable parameter count=137226 over 5 tensors in layers: features.stage4.unit1.identity_conv.conv,features.stage4.unit1.identity_conv.bn,output.\n",
      "Starting Fine-Tuning (FT) Phase...\n"
     ]
    },
    {
     "name": "stderr",
     "output_type": "stream",
     "text": [
      "100%|██████████| 31/31 [00:26<00:00,  1.19it/s, tr_xent=0.00118, tr_err=0, va_xent=0.399, va_err=0.11, batch_done=7]\n"
     ]
    },
    {
     "name": "stdout",
     "output_type": "stream",
     "text": [
      "Finished after epoch 30, best epoch=24\n",
      "best va_xent 0.342\n",
      "best tr_err 0.000\n",
      "best va_err 0.120\n",
      "Training with lr=0.001, l2pen_mag=0.0001, seed=42, epoch=50\n",
      "Setup complete. Trainable parameter count=137226 over 5 tensors in layers: features.stage4.unit1.identity_conv.conv,features.stage4.unit1.identity_conv.bn,output.\n",
      "Starting Fine-Tuning (FT) Phase...\n"
     ]
    },
    {
     "name": "stderr",
     "output_type": "stream",
     "text": [
      " 76%|███████▋  | 39/51 [00:33<00:10,  1.17it/s, tr_xent=0.000967, tr_err=0, va_xent=0.392, va_err=0.11, batch_done=7]\n"
     ]
    },
    {
     "name": "stdout",
     "output_type": "stream",
     "text": [
      "Stopped early.\n",
      "Finished after epoch 39, best epoch=24\n",
      "best va_xent 0.342\n",
      "best tr_err 0.000\n",
      "best va_err 0.120\n",
      "Training with lr=0.001, l2pen_mag=0.0001, seed=42, epoch=100\n",
      "Setup complete. Trainable parameter count=137226 over 5 tensors in layers: features.stage4.unit1.identity_conv.conv,features.stage4.unit1.identity_conv.bn,output.\n",
      "Starting Fine-Tuning (FT) Phase...\n"
     ]
    },
    {
     "name": "stderr",
     "output_type": "stream",
     "text": [
      " 39%|███▊      | 39/101 [00:34<00:54,  1.15it/s, tr_xent=0.000967, tr_err=0, va_xent=0.392, va_err=0.11, batch_done=7]\n"
     ]
    },
    {
     "name": "stdout",
     "output_type": "stream",
     "text": [
      "Stopped early.\n",
      "Finished after epoch 39, best epoch=24\n",
      "best va_xent 0.342\n",
      "best tr_err 0.000\n",
      "best va_err 0.120\n",
      "Training with lr=0.001, l2pen_mag=0.0001, seed=100, epoch=30\n",
      "Setup complete. Trainable parameter count=137226 over 5 tensors in layers: features.stage4.unit1.identity_conv.conv,features.stage4.unit1.identity_conv.bn,output.\n",
      "Starting Fine-Tuning (FT) Phase...\n"
     ]
    },
    {
     "name": "stderr",
     "output_type": "stream",
     "text": [
      " 52%|█████▏    | 16/31 [00:13<00:12,  1.17it/s, tr_xent=0.00161, tr_err=0, va_xent=0.4, va_err=0.12, batch_done=7]     \n"
     ]
    },
    {
     "name": "stdout",
     "output_type": "stream",
     "text": [
      "Stopped early.\n",
      "Finished after epoch 16, best epoch=1\n",
      "best va_xent 0.362\n",
      "best tr_err 0.003\n",
      "best va_err 0.120\n",
      "Training with lr=0.001, l2pen_mag=0.0001, seed=100, epoch=50\n",
      "Setup complete. Trainable parameter count=137226 over 5 tensors in layers: features.stage4.unit1.identity_conv.conv,features.stage4.unit1.identity_conv.bn,output.\n",
      "Starting Fine-Tuning (FT) Phase...\n"
     ]
    },
    {
     "name": "stderr",
     "output_type": "stream",
     "text": [
      " 31%|███▏      | 16/51 [00:13<00:29,  1.21it/s, tr_xent=0.00161, tr_err=0, va_xent=0.4, va_err=0.12, batch_done=7]     \n"
     ]
    },
    {
     "name": "stdout",
     "output_type": "stream",
     "text": [
      "Stopped early.\n",
      "Finished after epoch 16, best epoch=1\n",
      "best va_xent 0.362\n",
      "best tr_err 0.003\n",
      "best va_err 0.120\n",
      "Training with lr=0.001, l2pen_mag=0.0001, seed=100, epoch=100\n",
      "Setup complete. Trainable parameter count=137226 over 5 tensors in layers: features.stage4.unit1.identity_conv.conv,features.stage4.unit1.identity_conv.bn,output.\n",
      "Starting Fine-Tuning (FT) Phase...\n"
     ]
    },
    {
     "name": "stderr",
     "output_type": "stream",
     "text": [
      " 16%|█▌        | 16/101 [00:14<01:15,  1.13it/s, tr_xent=0.00161, tr_err=0, va_xent=0.4, va_err=0.12, batch_done=7]     \n"
     ]
    },
    {
     "name": "stdout",
     "output_type": "stream",
     "text": [
      "Stopped early.\n",
      "Finished after epoch 16, best epoch=1\n",
      "best va_xent 0.362\n",
      "best tr_err 0.003\n",
      "best va_err 0.120\n",
      "Training with lr=0.001, l2pen_mag=0.0001, seed=123, epoch=30\n",
      "Setup complete. Trainable parameter count=137226 over 5 tensors in layers: features.stage4.unit1.identity_conv.conv,features.stage4.unit1.identity_conv.bn,output.\n",
      "Starting Fine-Tuning (FT) Phase...\n"
     ]
    },
    {
     "name": "stderr",
     "output_type": "stream",
     "text": [
      " 55%|█████▍    | 17/31 [00:15<00:12,  1.11it/s, tr_xent=0.00193, tr_err=0, va_xent=0.396, va_err=0.13, batch_done=7]   \n"
     ]
    },
    {
     "name": "stdout",
     "output_type": "stream",
     "text": [
      "Stopped early.\n",
      "Finished after epoch 17, best epoch=2\n",
      "best va_xent 0.325\n",
      "best tr_err 0.000\n",
      "best va_err 0.110\n",
      "Training with lr=0.001, l2pen_mag=0.0001, seed=123, epoch=50\n",
      "Setup complete. Trainable parameter count=137226 over 5 tensors in layers: features.stage4.unit1.identity_conv.conv,features.stage4.unit1.identity_conv.bn,output.\n",
      "Starting Fine-Tuning (FT) Phase...\n"
     ]
    },
    {
     "name": "stderr",
     "output_type": "stream",
     "text": [
      " 33%|███▎      | 17/51 [00:13<00:26,  1.27it/s, tr_xent=0.00193, tr_err=0, va_xent=0.396, va_err=0.13, batch_done=7]   \n"
     ]
    },
    {
     "name": "stdout",
     "output_type": "stream",
     "text": [
      "Stopped early.\n",
      "Finished after epoch 17, best epoch=2\n",
      "best va_xent 0.325\n",
      "best tr_err 0.000\n",
      "best va_err 0.110\n",
      "Training with lr=0.001, l2pen_mag=0.0001, seed=123, epoch=100\n",
      "Setup complete. Trainable parameter count=137226 over 5 tensors in layers: features.stage4.unit1.identity_conv.conv,features.stage4.unit1.identity_conv.bn,output.\n",
      "Starting Fine-Tuning (FT) Phase...\n"
     ]
    },
    {
     "name": "stderr",
     "output_type": "stream",
     "text": [
      " 17%|█▋        | 17/101 [00:14<01:13,  1.14it/s, tr_xent=0.00193, tr_err=0, va_xent=0.396, va_err=0.13, batch_done=7]   \n"
     ]
    },
    {
     "name": "stdout",
     "output_type": "stream",
     "text": [
      "Stopped early.\n",
      "Finished after epoch 17, best epoch=2\n",
      "best va_xent 0.325\n",
      "best tr_err 0.000\n",
      "best va_err 0.110\n",
      "Training with lr=0.001, l2pen_mag=0.001, seed=42, epoch=30\n",
      "Setup complete. Trainable parameter count=137226 over 5 tensors in layers: features.stage4.unit1.identity_conv.conv,features.stage4.unit1.identity_conv.bn,output.\n",
      "Starting Fine-Tuning (FT) Phase...\n"
     ]
    },
    {
     "name": "stderr",
     "output_type": "stream",
     "text": [
      "100%|██████████| 31/31 [00:25<00:00,  1.20it/s, tr_xent=0.00118, tr_err=0, va_xent=0.399, va_err=0.11, batch_done=7]\n"
     ]
    },
    {
     "name": "stdout",
     "output_type": "stream",
     "text": [
      "Finished after epoch 30, best epoch=24\n",
      "best va_xent 0.342\n",
      "best tr_err 0.000\n",
      "best va_err 0.120\n",
      "Training with lr=0.001, l2pen_mag=0.001, seed=42, epoch=50\n",
      "Setup complete. Trainable parameter count=137226 over 5 tensors in layers: features.stage4.unit1.identity_conv.conv,features.stage4.unit1.identity_conv.bn,output.\n",
      "Starting Fine-Tuning (FT) Phase...\n"
     ]
    },
    {
     "name": "stderr",
     "output_type": "stream",
     "text": [
      " 76%|███████▋  | 39/51 [00:33<00:10,  1.15it/s, tr_xent=0.000967, tr_err=0, va_xent=0.392, va_err=0.11, batch_done=7]\n"
     ]
    },
    {
     "name": "stdout",
     "output_type": "stream",
     "text": [
      "Stopped early.\n",
      "Finished after epoch 39, best epoch=24\n",
      "best va_xent 0.342\n",
      "best tr_err 0.000\n",
      "best va_err 0.120\n",
      "Training with lr=0.001, l2pen_mag=0.001, seed=42, epoch=100\n",
      "Setup complete. Trainable parameter count=137226 over 5 tensors in layers: features.stage4.unit1.identity_conv.conv,features.stage4.unit1.identity_conv.bn,output.\n",
      "Starting Fine-Tuning (FT) Phase...\n"
     ]
    },
    {
     "name": "stderr",
     "output_type": "stream",
     "text": [
      " 39%|███▊      | 39/101 [00:32<00:52,  1.19it/s, tr_xent=0.000967, tr_err=0, va_xent=0.392, va_err=0.11, batch_done=7]\n"
     ]
    },
    {
     "name": "stdout",
     "output_type": "stream",
     "text": [
      "Stopped early.\n",
      "Finished after epoch 39, best epoch=24\n",
      "best va_xent 0.342\n",
      "best tr_err 0.000\n",
      "best va_err 0.120\n",
      "Training with lr=0.001, l2pen_mag=0.001, seed=100, epoch=30\n",
      "Setup complete. Trainable parameter count=137226 over 5 tensors in layers: features.stage4.unit1.identity_conv.conv,features.stage4.unit1.identity_conv.bn,output.\n",
      "Starting Fine-Tuning (FT) Phase...\n"
     ]
    },
    {
     "name": "stderr",
     "output_type": "stream",
     "text": [
      " 52%|█████▏    | 16/31 [00:14<00:13,  1.13it/s, tr_xent=0.00161, tr_err=0, va_xent=0.4, va_err=0.12, batch_done=7]     \n"
     ]
    },
    {
     "name": "stdout",
     "output_type": "stream",
     "text": [
      "Stopped early.\n",
      "Finished after epoch 16, best epoch=1\n",
      "best va_xent 0.362\n",
      "best tr_err 0.003\n",
      "best va_err 0.120\n",
      "Training with lr=0.001, l2pen_mag=0.001, seed=100, epoch=50\n",
      "Setup complete. Trainable parameter count=137226 over 5 tensors in layers: features.stage4.unit1.identity_conv.conv,features.stage4.unit1.identity_conv.bn,output.\n",
      "Starting Fine-Tuning (FT) Phase...\n"
     ]
    },
    {
     "name": "stderr",
     "output_type": "stream",
     "text": [
      " 31%|███▏      | 16/51 [00:13<00:29,  1.18it/s, tr_xent=0.00161, tr_err=0, va_xent=0.4, va_err=0.12, batch_done=7]     \n"
     ]
    },
    {
     "name": "stdout",
     "output_type": "stream",
     "text": [
      "Stopped early.\n",
      "Finished after epoch 16, best epoch=1\n",
      "best va_xent 0.362\n",
      "best tr_err 0.003\n",
      "best va_err 0.120\n",
      "Training with lr=0.001, l2pen_mag=0.001, seed=100, epoch=100\n",
      "Setup complete. Trainable parameter count=137226 over 5 tensors in layers: features.stage4.unit1.identity_conv.conv,features.stage4.unit1.identity_conv.bn,output.\n",
      "Starting Fine-Tuning (FT) Phase...\n"
     ]
    },
    {
     "name": "stderr",
     "output_type": "stream",
     "text": [
      " 16%|█▌        | 16/101 [00:14<01:15,  1.12it/s, tr_xent=0.00161, tr_err=0, va_xent=0.4, va_err=0.12, batch_done=7]     \n"
     ]
    },
    {
     "name": "stdout",
     "output_type": "stream",
     "text": [
      "Stopped early.\n",
      "Finished after epoch 16, best epoch=1\n",
      "best va_xent 0.362\n",
      "best tr_err 0.003\n",
      "best va_err 0.120\n",
      "Training with lr=0.001, l2pen_mag=0.001, seed=123, epoch=30\n",
      "Setup complete. Trainable parameter count=137226 over 5 tensors in layers: features.stage4.unit1.identity_conv.conv,features.stage4.unit1.identity_conv.bn,output.\n",
      "Starting Fine-Tuning (FT) Phase...\n"
     ]
    },
    {
     "name": "stderr",
     "output_type": "stream",
     "text": [
      " 55%|█████▍    | 17/31 [00:15<00:12,  1.13it/s, tr_xent=0.00193, tr_err=0, va_xent=0.395, va_err=0.13, batch_done=7]   \n"
     ]
    },
    {
     "name": "stdout",
     "output_type": "stream",
     "text": [
      "Stopped early.\n",
      "Finished after epoch 17, best epoch=2\n",
      "best va_xent 0.325\n",
      "best tr_err 0.000\n",
      "best va_err 0.110\n",
      "Training with lr=0.001, l2pen_mag=0.001, seed=123, epoch=50\n",
      "Setup complete. Trainable parameter count=137226 over 5 tensors in layers: features.stage4.unit1.identity_conv.conv,features.stage4.unit1.identity_conv.bn,output.\n",
      "Starting Fine-Tuning (FT) Phase...\n"
     ]
    },
    {
     "name": "stderr",
     "output_type": "stream",
     "text": [
      " 33%|███▎      | 17/51 [00:14<00:29,  1.14it/s, tr_xent=0.00193, tr_err=0, va_xent=0.396, va_err=0.13, batch_done=7]   \n"
     ]
    },
    {
     "name": "stdout",
     "output_type": "stream",
     "text": [
      "Stopped early.\n",
      "Finished after epoch 17, best epoch=2\n",
      "best va_xent 0.325\n",
      "best tr_err 0.000\n",
      "best va_err 0.110\n",
      "Training with lr=0.001, l2pen_mag=0.001, seed=123, epoch=100\n",
      "Setup complete. Trainable parameter count=137226 over 5 tensors in layers: features.stage4.unit1.identity_conv.conv,features.stage4.unit1.identity_conv.bn,output.\n",
      "Starting Fine-Tuning (FT) Phase...\n"
     ]
    },
    {
     "name": "stderr",
     "output_type": "stream",
     "text": [
      " 17%|█▋        | 17/101 [00:14<01:12,  1.16it/s, tr_xent=0.00193, tr_err=0, va_xent=0.396, va_err=0.13, batch_done=7]   \n"
     ]
    },
    {
     "name": "stdout",
     "output_type": "stream",
     "text": [
      "Stopped early.\n",
      "Finished after epoch 17, best epoch=2\n",
      "best va_xent 0.325\n",
      "best tr_err 0.000\n",
      "best va_err 0.110\n",
      "Training with lr=0.001, l2pen_mag=0.01, seed=42, epoch=30\n",
      "Setup complete. Trainable parameter count=137226 over 5 tensors in layers: features.stage4.unit1.identity_conv.conv,features.stage4.unit1.identity_conv.bn,output.\n",
      "Starting Fine-Tuning (FT) Phase...\n"
     ]
    },
    {
     "name": "stderr",
     "output_type": "stream",
     "text": [
      "100%|██████████| 31/31 [00:26<00:00,  1.18it/s, tr_xent=0.00118, tr_err=0, va_xent=0.399, va_err=0.11, batch_done=7]\n"
     ]
    },
    {
     "name": "stdout",
     "output_type": "stream",
     "text": [
      "Finished after epoch 30, best epoch=24\n",
      "best va_xent 0.342\n",
      "best tr_err 0.000\n",
      "best va_err 0.120\n",
      "Training with lr=0.001, l2pen_mag=0.01, seed=42, epoch=50\n",
      "Setup complete. Trainable parameter count=137226 over 5 tensors in layers: features.stage4.unit1.identity_conv.conv,features.stage4.unit1.identity_conv.bn,output.\n",
      "Starting Fine-Tuning (FT) Phase...\n"
     ]
    },
    {
     "name": "stderr",
     "output_type": "stream",
     "text": [
      " 76%|███████▋  | 39/51 [00:34<00:10,  1.13it/s, tr_xent=0.000967, tr_err=0, va_xent=0.392, va_err=0.11, batch_done=7]\n"
     ]
    },
    {
     "name": "stdout",
     "output_type": "stream",
     "text": [
      "Stopped early.\n",
      "Finished after epoch 39, best epoch=24\n",
      "best va_xent 0.342\n",
      "best tr_err 0.000\n",
      "best va_err 0.120\n",
      "Training with lr=0.001, l2pen_mag=0.01, seed=42, epoch=100\n",
      "Setup complete. Trainable parameter count=137226 over 5 tensors in layers: features.stage4.unit1.identity_conv.conv,features.stage4.unit1.identity_conv.bn,output.\n",
      "Starting Fine-Tuning (FT) Phase...\n"
     ]
    },
    {
     "name": "stderr",
     "output_type": "stream",
     "text": [
      " 39%|███▊      | 39/101 [00:34<00:55,  1.12it/s, tr_xent=0.000967, tr_err=0, va_xent=0.392, va_err=0.11, batch_done=7]\n"
     ]
    },
    {
     "name": "stdout",
     "output_type": "stream",
     "text": [
      "Stopped early.\n",
      "Finished after epoch 39, best epoch=24\n",
      "best va_xent 0.342\n",
      "best tr_err 0.000\n",
      "best va_err 0.120\n",
      "Training with lr=0.001, l2pen_mag=0.01, seed=100, epoch=30\n",
      "Setup complete. Trainable parameter count=137226 over 5 tensors in layers: features.stage4.unit1.identity_conv.conv,features.stage4.unit1.identity_conv.bn,output.\n",
      "Starting Fine-Tuning (FT) Phase...\n"
     ]
    },
    {
     "name": "stderr",
     "output_type": "stream",
     "text": [
      " 52%|█████▏    | 16/31 [00:14<00:13,  1.12it/s, tr_xent=0.00161, tr_err=0, va_xent=0.4, va_err=0.12, batch_done=7]     \n"
     ]
    },
    {
     "name": "stdout",
     "output_type": "stream",
     "text": [
      "Stopped early.\n",
      "Finished after epoch 16, best epoch=1\n",
      "best va_xent 0.362\n",
      "best tr_err 0.003\n",
      "best va_err 0.120\n",
      "Training with lr=0.001, l2pen_mag=0.01, seed=100, epoch=50\n",
      "Setup complete. Trainable parameter count=137226 over 5 tensors in layers: features.stage4.unit1.identity_conv.conv,features.stage4.unit1.identity_conv.bn,output.\n",
      "Starting Fine-Tuning (FT) Phase...\n"
     ]
    },
    {
     "name": "stderr",
     "output_type": "stream",
     "text": [
      " 31%|███▏      | 16/51 [00:14<00:30,  1.13it/s, tr_xent=0.00161, tr_err=0, va_xent=0.4, va_err=0.12, batch_done=7]     \n"
     ]
    },
    {
     "name": "stdout",
     "output_type": "stream",
     "text": [
      "Stopped early.\n",
      "Finished after epoch 16, best epoch=1\n",
      "best va_xent 0.362\n",
      "best tr_err 0.003\n",
      "best va_err 0.120\n",
      "Training with lr=0.001, l2pen_mag=0.01, seed=100, epoch=100\n",
      "Setup complete. Trainable parameter count=137226 over 5 tensors in layers: features.stage4.unit1.identity_conv.conv,features.stage4.unit1.identity_conv.bn,output.\n",
      "Starting Fine-Tuning (FT) Phase...\n"
     ]
    },
    {
     "name": "stderr",
     "output_type": "stream",
     "text": [
      " 16%|█▌        | 16/101 [00:13<01:13,  1.15it/s, tr_xent=0.00161, tr_err=0, va_xent=0.4, va_err=0.12, batch_done=7]     \n"
     ]
    },
    {
     "name": "stdout",
     "output_type": "stream",
     "text": [
      "Stopped early.\n",
      "Finished after epoch 16, best epoch=1\n",
      "best va_xent 0.362\n",
      "best tr_err 0.003\n",
      "best va_err 0.120\n",
      "Training with lr=0.001, l2pen_mag=0.01, seed=123, epoch=30\n",
      "Setup complete. Trainable parameter count=137226 over 5 tensors in layers: features.stage4.unit1.identity_conv.conv,features.stage4.unit1.identity_conv.bn,output.\n",
      "Starting Fine-Tuning (FT) Phase...\n"
     ]
    },
    {
     "name": "stderr",
     "output_type": "stream",
     "text": [
      " 55%|█████▍    | 17/31 [00:15<00:12,  1.12it/s, tr_xent=0.00193, tr_err=0, va_xent=0.396, va_err=0.13, batch_done=7]   \n"
     ]
    },
    {
     "name": "stdout",
     "output_type": "stream",
     "text": [
      "Stopped early.\n",
      "Finished after epoch 17, best epoch=2\n",
      "best va_xent 0.325\n",
      "best tr_err 0.000\n",
      "best va_err 0.110\n",
      "Training with lr=0.001, l2pen_mag=0.01, seed=123, epoch=50\n",
      "Setup complete. Trainable parameter count=137226 over 5 tensors in layers: features.stage4.unit1.identity_conv.conv,features.stage4.unit1.identity_conv.bn,output.\n",
      "Starting Fine-Tuning (FT) Phase...\n"
     ]
    },
    {
     "name": "stderr",
     "output_type": "stream",
     "text": [
      " 33%|███▎      | 17/51 [00:15<00:30,  1.10it/s, tr_xent=0.00193, tr_err=0, va_xent=0.396, va_err=0.13, batch_done=7]   \n"
     ]
    },
    {
     "name": "stdout",
     "output_type": "stream",
     "text": [
      "Stopped early.\n",
      "Finished after epoch 17, best epoch=2\n",
      "best va_xent 0.325\n",
      "best tr_err 0.000\n",
      "best va_err 0.110\n",
      "Training with lr=0.001, l2pen_mag=0.01, seed=123, epoch=100\n",
      "Setup complete. Trainable parameter count=137226 over 5 tensors in layers: features.stage4.unit1.identity_conv.conv,features.stage4.unit1.identity_conv.bn,output.\n",
      "Starting Fine-Tuning (FT) Phase...\n"
     ]
    },
    {
     "name": "stderr",
     "output_type": "stream",
     "text": [
      " 17%|█▋        | 17/101 [00:15<01:15,  1.12it/s, tr_xent=0.00193, tr_err=0, va_xent=0.396, va_err=0.13, batch_done=7]   \n"
     ]
    },
    {
     "name": "stdout",
     "output_type": "stream",
     "text": [
      "Stopped early.\n",
      "Finished after epoch 17, best epoch=2\n",
      "best va_xent 0.325\n",
      "best tr_err 0.000\n",
      "best va_err 0.110\n",
      "Training with lr=0.01, l2pen_mag=0.0001, seed=42, epoch=30\n",
      "Setup complete. Trainable parameter count=137226 over 5 tensors in layers: features.stage4.unit1.identity_conv.conv,features.stage4.unit1.identity_conv.bn,output.\n",
      "Starting Fine-Tuning (FT) Phase...\n"
     ]
    },
    {
     "name": "stderr",
     "output_type": "stream",
     "text": [
      " 74%|███████▍  | 23/31 [00:23<00:08,  1.01s/it, tr_xent=0.000707, tr_err=0, va_xent=0.372, va_err=0.11, batch_done=7]  \n"
     ]
    },
    {
     "name": "stdout",
     "output_type": "stream",
     "text": [
      "Stopped early.\n",
      "Finished after epoch 23, best epoch=8\n",
      "best va_xent 0.340\n",
      "best tr_err 0.000\n",
      "best va_err 0.080\n",
      "Training with lr=0.01, l2pen_mag=0.0001, seed=42, epoch=50\n",
      "Setup complete. Trainable parameter count=137226 over 5 tensors in layers: features.stage4.unit1.identity_conv.conv,features.stage4.unit1.identity_conv.bn,output.\n",
      "Starting Fine-Tuning (FT) Phase...\n"
     ]
    },
    {
     "name": "stderr",
     "output_type": "stream",
     "text": [
      " 45%|████▌     | 23/51 [00:21<00:26,  1.07it/s, tr_xent=0.000707, tr_err=0, va_xent=0.372, va_err=0.11, batch_done=7]  \n"
     ]
    },
    {
     "name": "stdout",
     "output_type": "stream",
     "text": [
      "Stopped early.\n",
      "Finished after epoch 23, best epoch=8\n",
      "best va_xent 0.340\n",
      "best tr_err 0.000\n",
      "best va_err 0.080\n",
      "Training with lr=0.01, l2pen_mag=0.0001, seed=42, epoch=100\n",
      "Setup complete. Trainable parameter count=137226 over 5 tensors in layers: features.stage4.unit1.identity_conv.conv,features.stage4.unit1.identity_conv.bn,output.\n",
      "Starting Fine-Tuning (FT) Phase...\n"
     ]
    },
    {
     "name": "stderr",
     "output_type": "stream",
     "text": [
      " 23%|██▎       | 23/101 [00:21<01:11,  1.09it/s, tr_xent=0.000707, tr_err=0, va_xent=0.372, va_err=0.11, batch_done=7]  \n"
     ]
    },
    {
     "name": "stdout",
     "output_type": "stream",
     "text": [
      "Stopped early.\n",
      "Finished after epoch 23, best epoch=8\n",
      "best va_xent 0.340\n",
      "best tr_err 0.000\n",
      "best va_err 0.080\n",
      "Training with lr=0.01, l2pen_mag=0.0001, seed=100, epoch=30\n",
      "Setup complete. Trainable parameter count=137226 over 5 tensors in layers: features.stage4.unit1.identity_conv.conv,features.stage4.unit1.identity_conv.bn,output.\n",
      "Starting Fine-Tuning (FT) Phase...\n"
     ]
    },
    {
     "name": "stderr",
     "output_type": "stream",
     "text": [
      " 48%|████▊     | 15/31 [00:14<00:15,  1.06it/s, tr_xent=0.0012, tr_err=0, va_xent=0.455, va_err=0.12, batch_done=7]    \n"
     ]
    },
    {
     "name": "stdout",
     "output_type": "stream",
     "text": [
      "Stopped early.\n",
      "Finished after epoch 15, best epoch=0\n",
      "best va_xent 0.371\n",
      "best tr_err nan\n",
      "best va_err 0.130\n",
      "Training with lr=0.01, l2pen_mag=0.0001, seed=100, epoch=50\n",
      "Setup complete. Trainable parameter count=137226 over 5 tensors in layers: features.stage4.unit1.identity_conv.conv,features.stage4.unit1.identity_conv.bn,output.\n",
      "Starting Fine-Tuning (FT) Phase...\n"
     ]
    },
    {
     "name": "stderr",
     "output_type": "stream",
     "text": [
      " 29%|██▉       | 15/51 [00:13<00:33,  1.09it/s, tr_xent=0.0012, tr_err=0, va_xent=0.455, va_err=0.12, batch_done=7]    \n"
     ]
    },
    {
     "name": "stdout",
     "output_type": "stream",
     "text": [
      "Stopped early.\n",
      "Finished after epoch 15, best epoch=0\n",
      "best va_xent 0.371\n",
      "best tr_err nan\n",
      "best va_err 0.130\n",
      "Training with lr=0.01, l2pen_mag=0.0001, seed=100, epoch=100\n",
      "Setup complete. Trainable parameter count=137226 over 5 tensors in layers: features.stage4.unit1.identity_conv.conv,features.stage4.unit1.identity_conv.bn,output.\n",
      "Starting Fine-Tuning (FT) Phase...\n"
     ]
    },
    {
     "name": "stderr",
     "output_type": "stream",
     "text": [
      " 15%|█▍        | 15/101 [00:13<01:17,  1.10it/s, tr_xent=0.0012, tr_err=0, va_xent=0.455, va_err=0.12, batch_done=7]    \n"
     ]
    },
    {
     "name": "stdout",
     "output_type": "stream",
     "text": [
      "Stopped early.\n",
      "Finished after epoch 15, best epoch=0\n",
      "best va_xent 0.371\n",
      "best tr_err nan\n",
      "best va_err 0.130\n",
      "Training with lr=0.01, l2pen_mag=0.0001, seed=123, epoch=30\n",
      "Setup complete. Trainable parameter count=137226 over 5 tensors in layers: features.stage4.unit1.identity_conv.conv,features.stage4.unit1.identity_conv.bn,output.\n",
      "Starting Fine-Tuning (FT) Phase...\n"
     ]
    },
    {
     "name": "stderr",
     "output_type": "stream",
     "text": [
      " 48%|████▊     | 15/31 [00:13<00:14,  1.13it/s, tr_xent=0.00142, tr_err=0, va_xent=0.507, va_err=0.13, batch_done=7]   \n"
     ]
    },
    {
     "name": "stdout",
     "output_type": "stream",
     "text": [
      "Stopped early.\n",
      "Finished after epoch 15, best epoch=0\n",
      "best va_xent 0.371\n",
      "best tr_err nan\n",
      "best va_err 0.130\n",
      "Training with lr=0.01, l2pen_mag=0.0001, seed=123, epoch=50\n",
      "Setup complete. Trainable parameter count=137226 over 5 tensors in layers: features.stage4.unit1.identity_conv.conv,features.stage4.unit1.identity_conv.bn,output.\n",
      "Starting Fine-Tuning (FT) Phase...\n"
     ]
    },
    {
     "name": "stderr",
     "output_type": "stream",
     "text": [
      " 29%|██▉       | 15/51 [00:14<00:33,  1.06it/s, tr_xent=0.00142, tr_err=0, va_xent=0.507, va_err=0.13, batch_done=7]   \n"
     ]
    },
    {
     "name": "stdout",
     "output_type": "stream",
     "text": [
      "Stopped early.\n",
      "Finished after epoch 15, best epoch=0\n",
      "best va_xent 0.371\n",
      "best tr_err nan\n",
      "best va_err 0.130\n",
      "Training with lr=0.01, l2pen_mag=0.0001, seed=123, epoch=100\n",
      "Setup complete. Trainable parameter count=137226 over 5 tensors in layers: features.stage4.unit1.identity_conv.conv,features.stage4.unit1.identity_conv.bn,output.\n",
      "Starting Fine-Tuning (FT) Phase...\n"
     ]
    },
    {
     "name": "stderr",
     "output_type": "stream",
     "text": [
      " 15%|█▍        | 15/101 [00:13<01:18,  1.10it/s, tr_xent=0.00142, tr_err=0, va_xent=0.507, va_err=0.13, batch_done=7]   \n"
     ]
    },
    {
     "name": "stdout",
     "output_type": "stream",
     "text": [
      "Stopped early.\n",
      "Finished after epoch 15, best epoch=0\n",
      "best va_xent 0.371\n",
      "best tr_err nan\n",
      "best va_err 0.130\n",
      "Training with lr=0.01, l2pen_mag=0.001, seed=42, epoch=30\n",
      "Setup complete. Trainable parameter count=137226 over 5 tensors in layers: features.stage4.unit1.identity_conv.conv,features.stage4.unit1.identity_conv.bn,output.\n",
      "Starting Fine-Tuning (FT) Phase...\n"
     ]
    },
    {
     "name": "stderr",
     "output_type": "stream",
     "text": [
      " 74%|███████▍  | 23/31 [00:20<00:07,  1.10it/s, tr_xent=0.000707, tr_err=0, va_xent=0.372, va_err=0.11, batch_done=7]  \n"
     ]
    },
    {
     "name": "stdout",
     "output_type": "stream",
     "text": [
      "Stopped early.\n",
      "Finished after epoch 23, best epoch=8\n",
      "best va_xent 0.340\n",
      "best tr_err 0.000\n",
      "best va_err 0.080\n",
      "Training with lr=0.01, l2pen_mag=0.001, seed=42, epoch=50\n",
      "Setup complete. Trainable parameter count=137226 over 5 tensors in layers: features.stage4.unit1.identity_conv.conv,features.stage4.unit1.identity_conv.bn,output.\n",
      "Starting Fine-Tuning (FT) Phase...\n"
     ]
    },
    {
     "name": "stderr",
     "output_type": "stream",
     "text": [
      " 45%|████▌     | 23/51 [00:20<00:25,  1.11it/s, tr_xent=0.000707, tr_err=0, va_xent=0.372, va_err=0.11, batch_done=7]  \n"
     ]
    },
    {
     "name": "stdout",
     "output_type": "stream",
     "text": [
      "Stopped early.\n",
      "Finished after epoch 23, best epoch=8\n",
      "best va_xent 0.340\n",
      "best tr_err 0.000\n",
      "best va_err 0.080\n",
      "Training with lr=0.01, l2pen_mag=0.001, seed=42, epoch=100\n",
      "Setup complete. Trainable parameter count=137226 over 5 tensors in layers: features.stage4.unit1.identity_conv.conv,features.stage4.unit1.identity_conv.bn,output.\n",
      "Starting Fine-Tuning (FT) Phase...\n"
     ]
    },
    {
     "name": "stderr",
     "output_type": "stream",
     "text": [
      " 23%|██▎       | 23/101 [00:21<01:13,  1.06it/s, tr_xent=0.000707, tr_err=0, va_xent=0.372, va_err=0.11, batch_done=7]  \n"
     ]
    },
    {
     "name": "stdout",
     "output_type": "stream",
     "text": [
      "Stopped early.\n",
      "Finished after epoch 23, best epoch=8\n",
      "best va_xent 0.340\n",
      "best tr_err 0.000\n",
      "best va_err 0.080\n",
      "Training with lr=0.01, l2pen_mag=0.001, seed=100, epoch=30\n",
      "Setup complete. Trainable parameter count=137226 over 5 tensors in layers: features.stage4.unit1.identity_conv.conv,features.stage4.unit1.identity_conv.bn,output.\n",
      "Starting Fine-Tuning (FT) Phase...\n"
     ]
    },
    {
     "name": "stderr",
     "output_type": "stream",
     "text": [
      " 48%|████▊     | 15/31 [00:14<00:15,  1.05it/s, tr_xent=0.0012, tr_err=0, va_xent=0.455, va_err=0.12, batch_done=7]    \n"
     ]
    },
    {
     "name": "stdout",
     "output_type": "stream",
     "text": [
      "Stopped early.\n",
      "Finished after epoch 15, best epoch=0\n",
      "best va_xent 0.371\n",
      "best tr_err nan\n",
      "best va_err 0.130\n",
      "Training with lr=0.01, l2pen_mag=0.001, seed=100, epoch=50\n",
      "Setup complete. Trainable parameter count=137226 over 5 tensors in layers: features.stage4.unit1.identity_conv.conv,features.stage4.unit1.identity_conv.bn,output.\n",
      "Starting Fine-Tuning (FT) Phase...\n"
     ]
    },
    {
     "name": "stderr",
     "output_type": "stream",
     "text": [
      " 29%|██▉       | 15/51 [00:13<00:33,  1.09it/s, tr_xent=0.0012, tr_err=0, va_xent=0.455, va_err=0.12, batch_done=7]    \n"
     ]
    },
    {
     "name": "stdout",
     "output_type": "stream",
     "text": [
      "Stopped early.\n",
      "Finished after epoch 15, best epoch=0\n",
      "best va_xent 0.371\n",
      "best tr_err nan\n",
      "best va_err 0.130\n",
      "Training with lr=0.01, l2pen_mag=0.001, seed=100, epoch=100\n",
      "Setup complete. Trainable parameter count=137226 over 5 tensors in layers: features.stage4.unit1.identity_conv.conv,features.stage4.unit1.identity_conv.bn,output.\n",
      "Starting Fine-Tuning (FT) Phase...\n"
     ]
    },
    {
     "name": "stderr",
     "output_type": "stream",
     "text": [
      " 15%|█▍        | 15/101 [00:14<01:20,  1.07it/s, tr_xent=0.0012, tr_err=0, va_xent=0.455, va_err=0.12, batch_done=7]    \n"
     ]
    },
    {
     "name": "stdout",
     "output_type": "stream",
     "text": [
      "Stopped early.\n",
      "Finished after epoch 15, best epoch=0\n",
      "best va_xent 0.371\n",
      "best tr_err nan\n",
      "best va_err 0.130\n",
      "Training with lr=0.01, l2pen_mag=0.001, seed=123, epoch=30\n",
      "Setup complete. Trainable parameter count=137226 over 5 tensors in layers: features.stage4.unit1.identity_conv.conv,features.stage4.unit1.identity_conv.bn,output.\n",
      "Starting Fine-Tuning (FT) Phase...\n"
     ]
    },
    {
     "name": "stderr",
     "output_type": "stream",
     "text": [
      " 48%|████▊     | 15/31 [00:14<00:14,  1.07it/s, tr_xent=0.00142, tr_err=0, va_xent=0.507, va_err=0.13, batch_done=7]   \n"
     ]
    },
    {
     "name": "stdout",
     "output_type": "stream",
     "text": [
      "Stopped early.\n",
      "Finished after epoch 15, best epoch=0\n",
      "best va_xent 0.371\n",
      "best tr_err nan\n",
      "best va_err 0.130\n",
      "Training with lr=0.01, l2pen_mag=0.001, seed=123, epoch=50\n",
      "Setup complete. Trainable parameter count=137226 over 5 tensors in layers: features.stage4.unit1.identity_conv.conv,features.stage4.unit1.identity_conv.bn,output.\n",
      "Starting Fine-Tuning (FT) Phase...\n"
     ]
    },
    {
     "name": "stderr",
     "output_type": "stream",
     "text": [
      " 29%|██▉       | 15/51 [00:13<00:32,  1.09it/s, tr_xent=0.00142, tr_err=0, va_xent=0.507, va_err=0.13, batch_done=7]   \n"
     ]
    },
    {
     "name": "stdout",
     "output_type": "stream",
     "text": [
      "Stopped early.\n",
      "Finished after epoch 15, best epoch=0\n",
      "best va_xent 0.371\n",
      "best tr_err nan\n",
      "best va_err 0.130\n",
      "Training with lr=0.01, l2pen_mag=0.001, seed=123, epoch=100\n",
      "Setup complete. Trainable parameter count=137226 over 5 tensors in layers: features.stage4.unit1.identity_conv.conv,features.stage4.unit1.identity_conv.bn,output.\n",
      "Starting Fine-Tuning (FT) Phase...\n"
     ]
    },
    {
     "name": "stderr",
     "output_type": "stream",
     "text": [
      " 15%|█▍        | 15/101 [00:13<01:18,  1.09it/s, tr_xent=0.00142, tr_err=0, va_xent=0.507, va_err=0.13, batch_done=7]   \n"
     ]
    },
    {
     "name": "stdout",
     "output_type": "stream",
     "text": [
      "Stopped early.\n",
      "Finished after epoch 15, best epoch=0\n",
      "best va_xent 0.371\n",
      "best tr_err nan\n",
      "best va_err 0.130\n",
      "Training with lr=0.01, l2pen_mag=0.01, seed=42, epoch=30\n",
      "Setup complete. Trainable parameter count=137226 over 5 tensors in layers: features.stage4.unit1.identity_conv.conv,features.stage4.unit1.identity_conv.bn,output.\n",
      "Starting Fine-Tuning (FT) Phase...\n"
     ]
    },
    {
     "name": "stderr",
     "output_type": "stream",
     "text": [
      " 74%|███████▍  | 23/31 [00:21<00:07,  1.08it/s, tr_xent=0.000706, tr_err=0, va_xent=0.373, va_err=0.11, batch_done=7]  \n"
     ]
    },
    {
     "name": "stdout",
     "output_type": "stream",
     "text": [
      "Stopped early.\n",
      "Finished after epoch 23, best epoch=8\n",
      "best va_xent 0.339\n",
      "best tr_err 0.000\n",
      "best va_err 0.080\n",
      "Training with lr=0.01, l2pen_mag=0.01, seed=42, epoch=50\n",
      "Setup complete. Trainable parameter count=137226 over 5 tensors in layers: features.stage4.unit1.identity_conv.conv,features.stage4.unit1.identity_conv.bn,output.\n",
      "Starting Fine-Tuning (FT) Phase...\n"
     ]
    },
    {
     "name": "stderr",
     "output_type": "stream",
     "text": [
      " 45%|████▌     | 23/51 [00:21<00:25,  1.08it/s, tr_xent=0.000706, tr_err=0, va_xent=0.373, va_err=0.11, batch_done=7]  \n"
     ]
    },
    {
     "name": "stdout",
     "output_type": "stream",
     "text": [
      "Stopped early.\n",
      "Finished after epoch 23, best epoch=8\n",
      "best va_xent 0.339\n",
      "best tr_err 0.000\n",
      "best va_err 0.080\n",
      "Training with lr=0.01, l2pen_mag=0.01, seed=42, epoch=100\n",
      "Setup complete. Trainable parameter count=137226 over 5 tensors in layers: features.stage4.unit1.identity_conv.conv,features.stage4.unit1.identity_conv.bn,output.\n",
      "Starting Fine-Tuning (FT) Phase...\n"
     ]
    },
    {
     "name": "stderr",
     "output_type": "stream",
     "text": [
      " 23%|██▎       | 23/101 [00:21<01:12,  1.08it/s, tr_xent=0.000706, tr_err=0, va_xent=0.373, va_err=0.11, batch_done=7]  \n"
     ]
    },
    {
     "name": "stdout",
     "output_type": "stream",
     "text": [
      "Stopped early.\n",
      "Finished after epoch 23, best epoch=8\n",
      "best va_xent 0.339\n",
      "best tr_err 0.000\n",
      "best va_err 0.080\n",
      "Training with lr=0.01, l2pen_mag=0.01, seed=100, epoch=30\n",
      "Setup complete. Trainable parameter count=137226 over 5 tensors in layers: features.stage4.unit1.identity_conv.conv,features.stage4.unit1.identity_conv.bn,output.\n",
      "Starting Fine-Tuning (FT) Phase...\n"
     ]
    },
    {
     "name": "stderr",
     "output_type": "stream",
     "text": [
      " 48%|████▊     | 15/31 [00:14<00:15,  1.05it/s, tr_xent=0.0012, tr_err=0, va_xent=0.457, va_err=0.12, batch_done=7]   \n"
     ]
    },
    {
     "name": "stdout",
     "output_type": "stream",
     "text": [
      "Stopped early.\n",
      "Finished after epoch 15, best epoch=0\n",
      "best va_xent 0.371\n",
      "best tr_err nan\n",
      "best va_err 0.130\n",
      "Training with lr=0.01, l2pen_mag=0.01, seed=100, epoch=50\n",
      "Setup complete. Trainable parameter count=137226 over 5 tensors in layers: features.stage4.unit1.identity_conv.conv,features.stage4.unit1.identity_conv.bn,output.\n",
      "Starting Fine-Tuning (FT) Phase...\n"
     ]
    },
    {
     "name": "stderr",
     "output_type": "stream",
     "text": [
      " 29%|██▉       | 15/51 [00:13<00:33,  1.08it/s, tr_xent=0.0012, tr_err=0, va_xent=0.457, va_err=0.12, batch_done=7]   \n"
     ]
    },
    {
     "name": "stdout",
     "output_type": "stream",
     "text": [
      "Stopped early.\n",
      "Finished after epoch 15, best epoch=0\n",
      "best va_xent 0.371\n",
      "best tr_err nan\n",
      "best va_err 0.130\n",
      "Training with lr=0.01, l2pen_mag=0.01, seed=100, epoch=100\n",
      "Setup complete. Trainable parameter count=137226 over 5 tensors in layers: features.stage4.unit1.identity_conv.conv,features.stage4.unit1.identity_conv.bn,output.\n",
      "Starting Fine-Tuning (FT) Phase...\n"
     ]
    },
    {
     "name": "stderr",
     "output_type": "stream",
     "text": [
      " 15%|█▍        | 15/101 [00:13<01:18,  1.10it/s, tr_xent=0.0012, tr_err=0, va_xent=0.457, va_err=0.12, batch_done=7]   \n"
     ]
    },
    {
     "name": "stdout",
     "output_type": "stream",
     "text": [
      "Stopped early.\n",
      "Finished after epoch 15, best epoch=0\n",
      "best va_xent 0.371\n",
      "best tr_err nan\n",
      "best va_err 0.130\n",
      "Training with lr=0.01, l2pen_mag=0.01, seed=123, epoch=30\n",
      "Setup complete. Trainable parameter count=137226 over 5 tensors in layers: features.stage4.unit1.identity_conv.conv,features.stage4.unit1.identity_conv.bn,output.\n",
      "Starting Fine-Tuning (FT) Phase...\n"
     ]
    },
    {
     "name": "stderr",
     "output_type": "stream",
     "text": [
      " 48%|████▊     | 15/31 [00:13<00:14,  1.09it/s, tr_xent=0.00142, tr_err=0, va_xent=0.506, va_err=0.13, batch_done=7]   \n"
     ]
    },
    {
     "name": "stdout",
     "output_type": "stream",
     "text": [
      "Stopped early.\n",
      "Finished after epoch 15, best epoch=0\n",
      "best va_xent 0.371\n",
      "best tr_err nan\n",
      "best va_err 0.130\n",
      "Training with lr=0.01, l2pen_mag=0.01, seed=123, epoch=50\n",
      "Setup complete. Trainable parameter count=137226 over 5 tensors in layers: features.stage4.unit1.identity_conv.conv,features.stage4.unit1.identity_conv.bn,output.\n",
      "Starting Fine-Tuning (FT) Phase...\n"
     ]
    },
    {
     "name": "stderr",
     "output_type": "stream",
     "text": [
      " 29%|██▉       | 15/51 [00:13<00:33,  1.09it/s, tr_xent=0.00142, tr_err=0, va_xent=0.506, va_err=0.13, batch_done=7]   \n"
     ]
    },
    {
     "name": "stdout",
     "output_type": "stream",
     "text": [
      "Stopped early.\n",
      "Finished after epoch 15, best epoch=0\n",
      "best va_xent 0.371\n",
      "best tr_err nan\n",
      "best va_err 0.130\n",
      "Training with lr=0.01, l2pen_mag=0.01, seed=123, epoch=100\n",
      "Setup complete. Trainable parameter count=137226 over 5 tensors in layers: features.stage4.unit1.identity_conv.conv,features.stage4.unit1.identity_conv.bn,output.\n",
      "Starting Fine-Tuning (FT) Phase...\n"
     ]
    },
    {
     "name": "stderr",
     "output_type": "stream",
     "text": [
      " 15%|█▍        | 15/101 [00:13<01:19,  1.08it/s, tr_xent=0.00142, tr_err=0, va_xent=0.506, va_err=0.13, batch_done=7]   \n"
     ]
    },
    {
     "name": "stdout",
     "output_type": "stream",
     "text": [
      "Stopped early.\n",
      "Finished after epoch 15, best epoch=0\n",
      "best va_xent 0.371\n",
      "best tr_err nan\n",
      "best va_err 0.130\n",
      "Best validation loss: 0.3253696441650391\n",
      "Best hyperparameters: {'lr': 0.001, 'l2pen_mag': 0.01, 'seed': 123, 'epoch': 30}\n"
     ]
    }
   ],
   "source": [
    "# Define hyperparameter search space\n",
    "learning_rates = [0.0001, 0.001, 0.01]\n",
    "l2pen_mags = [0.0001, 0.001, 0.01]\n",
    "seeds = [42, 100, 123]\n",
    "epochs = [30, 50, 100]\n",
    "\n",
    "# Track best model\n",
    "best_val_loss = float('inf')\n",
    "best_hyperparams = None\n",
    "best_model = None\n",
    "\n",
    "n_trainable_layers_ft = 3  # Fine-tune the last 3 layers\n",
    "\n",
    "# Loop through all combinations of hyperparameters\n",
    "for lr, l2pen_mag, seed, epoch in itertools.product(learning_rates, l2pen_mags, seeds, epochs):\n",
    "    print(f\"Training with lr={lr}, l2pen_mag={l2pen_mag}, seed={seed}, epoch={epoch}\")\n",
    "        \n",
    "    lp_model_copy = copy.deepcopy(best_model_lp)\n",
    "\n",
    "    # Save the model from the linear probing phase\n",
    "    # Fine-Tuning Phase\n",
    "    resnet10_in = models.PretrainedResNetForBirdSnap10(\n",
    "        src_dataset='ImageNet1k', arch='ResNet10', n_trainable_layers=n_trainable_layers_ft, seed=seed\n",
    "    )\n",
    "\n",
    "    # Load the model from the Linear Probing phase\n",
    "    resnet10_in.load_state_dict(lp_model_copy.state_dict())\n",
    "\n",
    "    # Phase 2: Fine-Tuning (FT)\n",
    "    print(\"Starting Fine-Tuning (FT) Phase...\")\n",
    "    current_model_ft, current_info_ft = train.train_model(\n",
    "        resnet10_in, device, train_loader, val_loader,\n",
    "        n_epochs=epoch,  # Fine-tune for more epochs if needed\n",
    "        lr=lr,    # Lower learning rate for fine-tuning\n",
    "        l2pen_mag=l2pen_mag,  # Small L2 regularization to prevent overfitting\n",
    "        data_order_seed=seed,\n",
    "    )\n",
    "\n",
    "    # Get validation loss from training info\n",
    "    val_loss = min(current_info_ft['va']['xent'])\n",
    "    \n",
    "    # Update the best model if the current one is better\n",
    "    if val_loss < best_val_loss:\n",
    "        best_val_loss = val_loss\n",
    "        best_hyperparams = {'lr': lr, 'l2pen_mag': l2pen_mag, 'seed': seed, 'epoch': epoch}\n",
    "        best_model_ft = current_model_ft\n",
    "\n",
    "# Output the best hyperparameters and validation loss\n",
    "print(f\"Best validation loss: {best_val_loss}\")\n",
    "print(f\"Best hyperparameters: {best_hyperparams}\")"
   ]
  },
  {
   "cell_type": "code",
   "execution_count": 48,
   "metadata": {},
   "outputs": [
    {
     "name": "stdout",
     "output_type": "stream",
     "text": [
      "Setup complete. Trainable parameter count=137226 over 5 tensors in layers: features.stage4.unit1.identity_conv.conv,features.stage4.unit1.identity_conv.bn,output.\n",
      "Starting Fine-Tuning (FT) Phase...\n"
     ]
    },
    {
     "name": "stderr",
     "output_type": "stream",
     "text": [
      " 55%|█████▍    | 17/31 [00:14<00:11,  1.18it/s, tr_xent=0.00193, tr_err=0, va_xent=0.396, va_err=0.13, batch_done=7]   \n"
     ]
    },
    {
     "name": "stdout",
     "output_type": "stream",
     "text": [
      "Stopped early.\n",
      "Finished after epoch 17, best epoch=2\n",
      "best va_xent 0.325\n",
      "best tr_err 0.000\n",
      "best va_err 0.110\n"
     ]
    }
   ],
   "source": [
    "if PROB2_EXPERIMENTS:\n",
    "    lp_model_copy = copy.deepcopy(best_model_lp)\n",
    "\n",
    "    seed = 123\n",
    "    resnet10_in = models.PretrainedResNetForBirdSnap10(\n",
    "        src_dataset='ImageNet1k', arch='ResNet10', n_trainable_layers=n_trainable_layers_ft, seed=seed\n",
    "    )\n",
    "\n",
    "    # Load the model from the Linear Probing phase\n",
    "    resnet10_in.load_state_dict(lp_model_copy.state_dict())\n",
    "\n",
    "    # Phase 2: Fine-Tuning (FT)\n",
    "    print(\"Starting Fine-Tuning (FT) Phase...\")\n",
    "    best_model_lpft, best_info_lpft = train.train_model(\n",
    "        resnet10_in, device, train_loader, val_loader,\n",
    "        n_epochs=30,  # Fine-tune for more epochs if needed\n",
    "        lr=0.001,    # Lower learning rate for fine-tuning\n",
    "        l2pen_mag=0.01,  # Small L2 regularization to prevent overfitting\n",
    "        data_order_seed=seed,\n",
    "    )\n",
    "\n",
    "    P2_results[('ResNet10', 'ImageNet1k', 'phase2')] = best_info_lpft"
   ]
  },
  {
   "cell_type": "markdown",
   "metadata": {},
   "source": [
    "## Figure 2a: Trace plots for LP then FT\n",
    "\n",
    "We'll be looking for:\n",
    "\n",
    "* Clear continuity in val set perf (the FT phase started at val set err rate/xent of the best LP checkpoint)\n",
    "* Some kind of improvement in the FT phase, at least on train"
   ]
  },
  {
   "cell_type": "code",
   "execution_count": 49,
   "metadata": {
    "lines_to_next_cell": 2
   },
   "outputs": [
    {
     "data": {
      "image/png": "[encoded data removed]",
      "text/plain": [
       "<Figure size 900x400 with 2 Axes>"
      ]
     },
     "metadata": {},
     "output_type": "display_data"
    }
   ],
   "source": [
    "_, axgrid = plt.subplots(nrows=1, ncols=2, figsize=(9,4), sharey=True)\n",
    "\n",
    "LPbest = P2_results[('ResNet10', 'ImageNet1k', 'phase1')]\n",
    "FTbest = P2_results[('ResNet10', 'ImageNet1k', 'phase2')]\n",
    "\n",
    "# Only show LP phase until early stop occurs\n",
    "eps = [e for e in LPbest['epochs'] if e <= LPbest['best_epoch']]\n",
    "axgrid[0].plot(eps, LPbest['va']['xent'][:len(eps)], '--', color='r', label='val xent')\n",
    "axgrid[0].plot(eps, LPbest['tr']['loss'][:len(eps)], '--', color='b')\n",
    "axgrid[0].plot(eps, LPbest['va']['err'][:len(eps)], color='r', label='val')\n",
    "axgrid[0].plot(eps, LPbest['tr']['err'][:len(eps)], '-', color='b')\n",
    "axgrid[0].plot(LPbest['best_epoch'], LPbest['best_va_loss'], '*', color='r', markersize=12);\n",
    "axgrid[0].set_title(\"Phase 1: LP\");\n",
    "axgrid[0].set_xlabel(\"LP epochs\");\n",
    "axgrid[0].set_ylabel(\"loss\");\n",
    "\n",
    "FTeps = FTbest['epochs']\n",
    "axgrid[1].plot(FTeps, FTbest['va']['xent'], '--', color='r', label='val xent')\n",
    "axgrid[1].plot(FTeps, FTbest['tr']['loss'], '--', color='b', label='tr loss')\n",
    "axgrid[1].plot(FTeps, FTbest['va']['err'], '-', color='r', label='val err')\n",
    "axgrid[1].plot(FTeps, FTbest['tr']['err'], '-', color='b', label='tr err')\n",
    "axgrid[1].set_title(\"Phase 2: FT\");\n",
    "axgrid[1].set_ylim([-0.02, 1.]);\n",
    "axgrid[1].set_xlabel('FT epochs');\n",
    "axgrid[1].legend(loc='upper right');"
   ]
  },
  {
   "cell_type": "markdown",
   "metadata": {},
   "source": [
    "## Problem 2b: Report test-set acc for both the phase1 and phase 2\n",
    "\n",
    "These numbers will be presented in your report."
   ]
  },
  {
   "cell_type": "code",
   "execution_count": 52,
   "metadata": {},
   "outputs": [
    {
     "name": "stdout",
     "output_type": "stream",
     "text": [
      "Phase 1 accuracy:  0.8571428571428571\n"
     ]
    }
   ],
   "source": [
    "# TODO compute test acc after the LP phase\n",
    "\n",
    "print(\"Phase 1 accuracy: \",  eval_acc(best_model_lp, device, test_loader))"
   ]
  },
  {
   "cell_type": "code",
   "execution_count": 53,
   "metadata": {},
   "outputs": [
    {
     "name": "stdout",
     "output_type": "stream",
     "text": [
      "Phase 2 acc:  0.85\n"
     ]
    }
   ],
   "source": [
    "# TODO compute test acc after the FT-3 phase\n",
    "print(\"Phase 2 acc: \", eval_acc(best_model_lpft, device, test_loader))"
   ]
  }
 ],
 "metadata": {
  "kernelspec": {
   "display_name": "python3",
   "language": "python",
   "name": "python3"
  },
  "language_info": {
   "codemirror_mode": {
    "name": "ipython",
    "version": 3
   },
   "file_extension": ".py",
   "mimetype": "text/x-python",
   "name": "python",
   "nbconvert_exporter": "python",
   "pygments_lexer": "ipython3",
   "version": "3.10.12"
  }
 },
 "nbformat": 4,
 "nbformat_minor": 0
}
